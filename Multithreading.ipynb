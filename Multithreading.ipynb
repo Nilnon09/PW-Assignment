{
 "cells": [
  {
   "cell_type": "markdown",
   "id": "2451d58b",
   "metadata": {},
   "source": [
    "Q1. What is multithreading in Python? Why is it used? Name the module used to handle threads in Python.\n"
   ]
  },
  {
   "cell_type": "markdown",
   "id": "ace98f14",
   "metadata": {},
   "source": [
    "Multithreading is a technique in Python where multiple threads (lightweight processes) run concurrently within a single process. Threads share the same memory space and resources, which makes context switching faster compared to multiprocessing.\n",
    "\n",
    "Why it's used: Multithreading is primarily used for I/O-bound tasks, such as reading/writing files, making API calls, handling user input, or managing network requests. It allows tasks to run \"in parallel\" even when only one thread can run at a time due to Python’s Global Interpreter Lock (GIL).\n",
    "\n",
    "Module used: The built-in threading module is used to handle threads in Python."
   ]
  },
  {
   "cell_type": "markdown",
   "id": "55f9b7f2",
   "metadata": {},
   "source": [
    "Q2. Why threading module is used? Write the use of the following functions\n"
   ]
  },
  {
   "cell_type": "markdown",
   "id": "583f9226",
   "metadata": {},
   "source": [
    "The threading module is used to create and manage threads. It simplifies thread creation and provides methods to control and monitor thread execution.\n",
    "\n",
    "Function uses:\n",
    "\n",
    "activeCount() – Returns the number of thread objects currently alive.\n",
    "\n",
    "currentThread() – Returns the thread object corresponding to the caller’s thread.\n",
    "\n",
    "enumerate() – Returns a list of all active thread objects."
   ]
  },
  {
   "cell_type": "markdown",
   "id": "3411f677",
   "metadata": {},
   "source": [
    "Q3. Explain the following functions\n"
   ]
  },
  {
   "cell_type": "markdown",
   "id": "c0a39303",
   "metadata": {},
   "source": [
    "run() – Defines the thread’s activity. This method is called when the thread starts. It can be overridden when using custom thread classes.\n",
    "\n",
    "start() – Starts a thread's activity by calling its run() method in a new thread of control.\n",
    "\n",
    "join() – Waits for the thread to finish execution. The main program will pause at the join() line until the thread completes.\n",
    "\n",
    "isAlive() – Checks if the thread is still running."
   ]
  },
  {
   "cell_type": "markdown",
   "id": "a9a43b2f",
   "metadata": {},
   "source": [
    "Q4. Write a Python program to create two threads: one to print squares, one to print cubes"
   ]
  },
  {
   "cell_type": "code",
   "execution_count": 2,
   "id": "e5f373c4",
   "metadata": {},
   "outputs": [
    {
     "name": "stdout",
     "output_type": "stream",
     "text": [
      "Square of 1: 1\n",
      "Square of 2: 4\n",
      "Square of 3: 9\n",
      "Square of 4: 16\n",
      "Square of 5: 25\n",
      "Cube of 1: 1\n",
      "Cube of 2: 8\n",
      "Cube of 3: 27\n",
      "Cube of 4: 64\n",
      "Cube of 5: 125\n"
     ]
    }
   ],
   "source": [
    "import threading\n",
    "\n",
    "def print_squares():\n",
    "    for i in range(1, 6):\n",
    "        print(f\"Square of {i}: {i*i}\")\n",
    "\n",
    "def print_cubes():\n",
    "    for i in range(1, 6):\n",
    "        print(f\"Cube of {i}: {i*i*i}\")\n",
    "\n",
    "\n",
    "t1 = threading.Thread(target=print_squares)\n",
    "t2 = threading.Thread(target=print_cubes)\n",
    "\n",
    "# Starting threads\n",
    "t1.start()\n",
    "t2.start()\n",
    "\n",
    "\n",
    "t1.join()\n",
    "t2.join()\n"
   ]
  },
  {
   "cell_type": "markdown",
   "id": "a1df0de8",
   "metadata": {},
   "source": [
    "Q5. State advantages and disadvantages of multithreading\n",
    "Advantages:\n",
    "\n"
   ]
  },
  {
   "cell_type": "markdown",
   "id": "05ce32fb",
   "metadata": {},
   "source": [
    "Efficient use of system resources during I/O-bound operations.\n",
    "\n",
    "Improves responsiveness in applications with concurrent tasks (like GUIs or servers).\n",
    "\n",
    "Lightweight compared to multiprocessing (less memory overhead).\n",
    "\n",
    "Disadvantages:\n",
    "\n",
    "Cannot achieve true parallelism for CPU-bound tasks due to the GIL.\n",
    "\n",
    "More complex to debug due to shared memory.\n",
    "\n",
    "Potential issues with race conditions and deadlocks if threads aren’t managed carefully."
   ]
  },
  {
   "cell_type": "markdown",
   "id": "df657f28",
   "metadata": {},
   "source": [
    "Q6. Explain deadlocks and race conditions\n"
   ]
  },
  {
   "cell_type": "markdown",
   "id": "75142261",
   "metadata": {},
   "source": [
    "Deadlock occurs when two or more threads wait indefinitely for resources that are held by each other. Each thread blocks the other, and none can proceed. It usually happens when threads try to acquire locks in an inconsistent order.\n",
    "\n",
    "Race Condition happens when multiple threads access and modify shared data concurrently, and the final outcome depends on the timing of their execution. It can lead to inconsistent or unpredictable results."
   ]
  },
  {
   "cell_type": "markdown",
   "id": "1cee1d65",
   "metadata": {},
   "source": []
  }
 ],
 "metadata": {
  "kernelspec": {
   "display_name": "Python 3",
   "language": "python",
   "name": "python3"
  },
  "language_info": {
   "codemirror_mode": {
    "name": "ipython",
    "version": 3
   },
   "file_extension": ".py",
   "mimetype": "text/x-python",
   "name": "python",
   "nbconvert_exporter": "python",
   "pygments_lexer": "ipython3",
   "version": "3.11.9"
  }
 },
 "nbformat": 4,
 "nbformat_minor": 5
}
