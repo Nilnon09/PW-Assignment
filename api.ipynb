{
 "cells": [
  {
   "cell_type": "markdown",
   "id": "a536784b",
   "metadata": {},
   "source": [
    "Q1. What is an API? Give an example where an API is used in real life."
   ]
  },
  {
   "cell_type": "markdown",
   "id": "8baff3ac",
   "metadata": {},
   "source": [
    "API (Application Programming Interface) is a set of rules and protocols that allows different software applications to communicate with each other. It defines how requests should be made, what data can be used, and what format responses should be in.\n",
    "\n",
    "Real-Life Example:\n",
    "When you use a weather app on your phone, it doesn't calculate the weather itself. Instead, it sends a request to a Weather API, which fetches data from a remote server and returns weather details in real time."
   ]
  },
  {
   "cell_type": "markdown",
   "id": "fd3ea7ec",
   "metadata": {},
   "source": [
    "Q2. Advantages and Disadvantages of Using API"
   ]
  },
  {
   "cell_type": "markdown",
   "id": "927db089",
   "metadata": {},
   "source": [
    "Advantages:\n",
    "\n",
    "\n",
    "Automation: APIs allow systems to work together automatically without manual input.\n",
    "\n",
    "Efficiency: Developers can use predefined functions instead of writing new code from scratch.\n",
    "\n",
    "Integration: Easily integrates with third-party services (e.g., payment gateways, maps).\n",
    "\n",
    "Scalability: APIs enable flexible and scalable architecture in distributed systems.\n",
    "\n",
    "\n",
    "\n",
    "Disadvantages:\n",
    "\n",
    "\n",
    "\n",
    "Security Risks: Improperly secured APIs can lead to data breaches.\n",
    "\n",
    "Complexity: Integration and maintenance can become complex, especially with multiple APIs.\n",
    "\n",
    "Versioning Issues: APIs may change, breaking existing functionalities unless handled properly.\n",
    "\n",
    "Dependency: Relying on third-party APIs means being dependent on their uptime and changes."
   ]
  },
  {
   "cell_type": "markdown",
   "id": "1154a138",
   "metadata": {},
   "source": [
    "Q3. What is a Web API? Differentiate between API and Web API."
   ]
  },
  {
   "cell_type": "markdown",
   "id": "b865dd68",
   "metadata": {},
   "source": [
    "A Web API is a specific type of Application Programming Interface (API) that is accessible over the internet using web protocols such as HTTP or HTTPS. It allows different software systems, particularly client-side applications like web browsers or mobile apps, to communicate with a server by sending requests and receiving responses in formats like JSON or XML. \n",
    "\n",
    "\n",
    "While the term API broadly refers to any set of rules and protocols that enables communication between software applications—which can be used for operating system functionalities, libraries, or local processes—a Web API is specifically designed for web-based interactions. In other words, every Web API is an API, but not every API is a Web API. \n",
    "\n",
    "\n",
    "\n",
    "Traditional APIs might facilitate communication within a single application or between different components of a system without necessarily using the internet, whereas Web APIs leverage web protocols to enable cross-network and cross-platform data exchange."
   ]
  },
  {
   "cell_type": "markdown",
   "id": "42741437",
   "metadata": {},
   "source": [
    "Q4. Explain REST and SOAP Architecture. Mention shortcomings of SOAP."
   ]
  },
  {
   "cell_type": "markdown",
   "id": "352a8a36",
   "metadata": {},
   "source": [
    "REST (Representational State Transfer):\n",
    "An architectural style using HTTP for communication.\n",
    "\n",
    "Data is typically transferred in JSON or XML.\n",
    "\n",
    "Uses standard HTTP methods: GET, POST, PUT, DELETE.\n",
    "\n",
    "Lightweight, scalable, and stateless.\n",
    "\n",
    "\n",
    " SOAP (Simple Object Access Protocol):\n",
    "Protocol for exchanging structured data in XML format.\n",
    "\n",
    "Uses XML over HTTP, SMTP, etc.\n",
    "\n",
    "Defines strict rules for messaging and includes built-in error handling and security.\n",
    "\n",
    "\n",
    " Shortcomings of SOAP:\n",
    "\n",
    " \n",
    "Heavyweight due to XML usage.\n",
    "\n",
    "Slower compared to REST.\n",
    "\n",
    "More complex to implement and maintain.\n",
    "\n",
    "Not well-suited for mobile or lightweight applications."
   ]
  },
  {
   "cell_type": "markdown",
   "id": "32a8f045",
   "metadata": {},
   "source": [
    "Q5. Differentiate between REST and SOAP."
   ]
  },
  {
   "cell_type": "markdown",
   "id": "987cb8ef",
   "metadata": {},
   "source": [
    "REST (Representational State Transfer) and SOAP (Simple Object Access Protocol) are two popular web service communication protocols, but they differ significantly in structure and implementation. REST is lightweight, stateless, and uses standard HTTP methods such as GET, POST, PUT, and DELETE. It typically works with formats like JSON or XML and is easier to implement and integrate, especially for mobile and web applications. On the other hand, SOAP is a protocol with stricter standards. It relies exclusively on XML for message formatting and uses a more rigid structure with built-in security, error handling, and transaction compliance features.\n",
    "\n",
    "REST is faster and more scalable, making it suitable for public APIs and services requiring high performance.\n",
    "\n",
    "SOAP is more secure and standardized, often used in enterprise-level applications such as banking or telecommunication where strict security, transaction, and compliance rules are required.\n",
    "\n",
    "REST is stateless, meaning each request from client to server must contain all the necessary information, while SOAP can be stateful or stateless depending on the needs of the operation.\n",
    "\n",
    "REST uses simple URL endpoints for access, while SOAP uses a service interface described via WSDL (Web Services Description Language).\n",
    "\n",
    "SOAP requires more bandwidth due to its XML payloads and headers, while REST is more efficient in data exchange."
   ]
  },
  {
   "cell_type": "markdown",
   "id": "8634cb99",
   "metadata": {},
   "source": []
  }
 ],
 "metadata": {
  "kernelspec": {
   "display_name": "Python 3",
   "language": "python",
   "name": "python3"
  },
  "language_info": {
   "codemirror_mode": {
    "name": "ipython",
    "version": 3
   },
   "file_extension": ".py",
   "mimetype": "text/x-python",
   "name": "python",
   "nbconvert_exporter": "python",
   "pygments_lexer": "ipython3",
   "version": "3.11.9"
  }
 },
 "nbformat": 4,
 "nbformat_minor": 5
}
