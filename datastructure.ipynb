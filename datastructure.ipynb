{
 "cells": [
  {
   "cell_type": "markdown",
   "metadata": {},
   "source": [
    "### **Q1. How do you comment code in Python? What are the different types of comments?**  \n",
    "In Python, comments are used to explain code and improve readability. There are two types of comments:  \n",
    "1. **Single-line comments** – Start with `#`.  "
   ]
  },
  {
   "cell_type": "code",
   "execution_count": 3,
   "metadata": {},
   "outputs": [
    {
     "name": "stdout",
     "output_type": "stream",
     "text": [
      "Hello, World!\n"
     ]
    }
   ],
   "source": [
    "# This is a single-line comment\n",
    "print(\"Hello, World!\")  # This is also a comment"
   ]
  },
  {
   "cell_type": "markdown",
   "metadata": {},
   "source": [
    "2. **Multi-line comments** – Use triple quotes (`'''` or `\"\"\"`).  \n",
    "   ```python\n",
    "   \"\"\"\n",
    "   This is a multi-line comment.\n",
    "   It spans multiple lines."
   ]
  },
  {
   "cell_type": "code",
   "execution_count": 6,
   "metadata": {},
   "outputs": [
    {
     "data": {
      "text/plain": [
       "' print(\"Hello, World!\") '"
      ]
     },
     "execution_count": 6,
     "metadata": {},
     "output_type": "execute_result"
    }
   ],
   "source": [
    "\"\"\" print(\"Hello, World!\") \"\"\""
   ]
  },
  {
   "cell_type": "markdown",
   "metadata": {},
   "source": [
    "### **Q2. What are variables in Python? How do you declare and assign values to variables?**  \n",
    "A **variable** is a named memory location that stores data. In Python, you declare and assign a variable using the `=` operator.  \n",
    "Example:  \n",
    "```python"
   ]
  },
  {
   "cell_type": "code",
   "execution_count": 7,
   "metadata": {},
   "outputs": [],
   "source": [
    "x = 10  # Integer\n",
    "y = 3.14  # Float\n",
    "name = \"Nilesh\"  # String"
   ]
  },
  {
   "cell_type": "markdown",
   "metadata": {},
   "source": [
    "\n",
    "### **Q3. How do you convert one data type to another in Python?**  \n",
    "You can use **type conversion functions**:  \n",
    "- `int()`: Converts to an integer  \n",
    "- `float()`: Converts to a float  \n",
    "- `str()`: Converts to a string  \n",
    "- `bool()`: Converts to a boolean  \n",
    "\n",
    "Example:  \n"
   ]
  },
  {
   "cell_type": "code",
   "execution_count": 8,
   "metadata": {},
   "outputs": [],
   "source": [
    "x = \"10\"\n",
    "y = int(x)  # Converts string \"10\" to integer 10\n",
    "z = float(y)  # Converts integer 10 to float 10.0"
   ]
  },
  {
   "cell_type": "markdown",
   "metadata": {},
   "source": [
    "### **Q4. How do you write and execute a Python script from the command line?**  \n",
    "1. Open a text editor and write a script, e.g., `script.py`:  \n",
    "   \n",
    "   print(\"Hello, World!\")\n",
    "   \n",
    "2. Save the file with a `.py` extension.  \n",
    "3. Open a terminal or command prompt and navigate to the file location.  \n",
    "4. Run the script using:  \n",
    "   \n",
    "   python script.py"
   ]
  },
  {
   "cell_type": "markdown",
   "metadata": {},
   "source": [
    "### **Q5. Given a list `my_list = [1, 2, 3, 4, 5]`, write the code to slice the list and obtain the sub-list `[2, 3]`.**  "
   ]
  },
  {
   "cell_type": "code",
   "execution_count": 9,
   "metadata": {},
   "outputs": [
    {
     "name": "stdout",
     "output_type": "stream",
     "text": [
      "[2, 3]\n"
     ]
    }
   ],
   "source": [
    "my_list = [1, 2, 3, 4, 5]\n",
    "sub_list = my_list[1:3]\n",
    "print(sub_list)  # Output: [2, 3]"
   ]
  },
  {
   "cell_type": "markdown",
   "metadata": {},
   "source": [
    "### **Q6. What is a complex number in mathematics, and how is it represented in Python?**  \n",
    "A **complex number** is of the form **a + bj**, where **a** is the real part and **b** is the imaginary part.  \n",
    "In Python, complex numbers are represented using `j` for the imaginary unit: "
   ]
  },
  {
   "cell_type": "code",
   "execution_count": 14,
   "metadata": {},
   "outputs": [
    {
     "name": "stdout",
     "output_type": "stream",
     "text": [
      "3.0\n",
      "4.0\n"
     ]
    }
   ],
   "source": [
    "z = 3 + 4j  # Complex number\n",
    "print(z.real)  # Output: 3.0\n",
    "print(z.imag)  # Output: 4.0"
   ]
  },
  {
   "cell_type": "markdown",
   "metadata": {},
   "source": [
    "### **Q7. What is the correct way to declare a variable named `age` and assign the value `25` to it?**  "
   ]
  },
  {
   "cell_type": "code",
   "execution_count": 11,
   "metadata": {},
   "outputs": [],
   "source": [
    "age = 25"
   ]
  },
  {
   "cell_type": "markdown",
   "metadata": {},
   "source": [
    "### **Q8. Declare a variable named `price` and assign the value `9.99` to it. What data type does this variable belong to?**"
   ]
  },
  {
   "cell_type": "code",
   "execution_count": 12,
   "metadata": {},
   "outputs": [
    {
     "name": "stdout",
     "output_type": "stream",
     "text": [
      "<class 'float'>\n"
     ]
    }
   ],
   "source": [
    "price = 9.99\n",
    "print(type(price))  # Output: <class 'float'>"
   ]
  },
  {
   "cell_type": "markdown",
   "metadata": {},
   "source": [
    "### **Q9. Create a variable named `name` and assign your full name to it as a string. How would you print the value of this variable?**  "
   ]
  },
  {
   "cell_type": "code",
   "execution_count": 15,
   "metadata": {},
   "outputs": [
    {
     "name": "stdout",
     "output_type": "stream",
     "text": [
      "Nilesh Banerjee\n"
     ]
    }
   ],
   "source": [
    "name = \"Nilesh Banerjee\"\n",
    "print(name)  # Output: Nilesh Banerjee"
   ]
  },
  {
   "cell_type": "markdown",
   "metadata": {},
   "source": [
    "\n",
    "### **Q10. Given the string `\"Hello, World!\"`, extract the substring `\"World\"`.**  "
   ]
  },
  {
   "cell_type": "code",
   "execution_count": 16,
   "metadata": {},
   "outputs": [
    {
     "name": "stdout",
     "output_type": "stream",
     "text": [
      "World\n"
     ]
    }
   ],
   "source": [
    "text = \"Hello, World!\"\n",
    "substring = text[7:12]\n",
    "print(substring)  # Output: World"
   ]
  },
  {
   "cell_type": "markdown",
   "metadata": {},
   "source": [
    "### **Q11. Create a variable named `\"is_student\"` and assign it a boolean value indicating whether you are currently a student or not.**  "
   ]
  },
  {
   "cell_type": "code",
   "execution_count": 17,
   "metadata": {},
   "outputs": [
    {
     "name": "stdout",
     "output_type": "stream",
     "text": [
      "True\n"
     ]
    }
   ],
   "source": [
    "is_student = True  # If you are a student\n",
    "# is_student = False  # If you are not a student\n",
    "print(is_student)  # Output: True or False"
   ]
  }
 ],
 "metadata": {
  "kernelspec": {
   "display_name": "Python 3",
   "language": "python",
   "name": "python3"
  },
  "language_info": {
   "codemirror_mode": {
    "name": "ipython",
    "version": 3
   },
   "file_extension": ".py",
   "mimetype": "text/x-python",
   "name": "python",
   "nbconvert_exporter": "python",
   "pygments_lexer": "ipython3",
   "version": "3.11.9"
  }
 },
 "nbformat": 4,
 "nbformat_minor": 2
}
