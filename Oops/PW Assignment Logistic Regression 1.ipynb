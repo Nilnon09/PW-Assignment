{
 "cells": [
  {
   "cell_type": "markdown",
   "metadata": {},
   "source": [
    "Q1. Explain the difference between linear regression and logistic regression models. Provide an example of\n",
    "a scenario where logistic regression would be more appropriate."
   ]
  },
  {
   "cell_type": "code",
   "execution_count": 2,
   "metadata": {},
   "outputs": [],
   "source": [
    "# Linear Regression:\n",
    "\n",
    "# Used for predicting continuous values (e.g., price, temperature).\n",
    "# The output is a real number.\n",
    "# # Uses the equation:\n",
    "# y = B0 + B1*x + B2*x^2 + ... + Bn*x^n\n",
    " \n",
    "# Logistic Regression:\n",
    "# Used for classification problems (e.g., spam vs. not spam).\n",
    "# The output is a probability, mapped to 0 or 1 using the sigmoid function.\n",
    "# Equation:\n",
    "# P(y = 1) = 1/(1 + e^(B0 + B1*x + B2*x^2 + ... + Bn*x^n))\n",
    "\n",
    "# Example Scenario for Logistic Regression:\n",
    "# Predicting whether a student will pass (1) or fail (0) an exam based on study hours and attendance."
   ]
  },
  {
   "cell_type": "markdown",
   "metadata": {},
   "source": [
    "Q2. What is the cost function used in logistic regression, and how is it optimized?"
   ]
  },
  {
   "cell_type": "code",
   "execution_count": 6,
   "metadata": {},
   "outputs": [],
   "source": [
    "# Cost Function:\n",
    "\n",
    "# Logistic regression uses Log Loss (Binary Cross-Entropy Loss):\n",
    "# J(theta) = - 1/m * (summation from i = 1 to m) [(y * log(h(x^(i))) + (1-y^(i)) * log(1-h(x^(i))))]\n",
    "\n",
    "# Where:\n",
    "\n",
    "# h theta(x)-> is the sigmoid function\n",
    "\n",
    "# y -> is the true label\n",
    "\n",
    "# m-> is the number of samples\n",
    "\n",
    "# Optimization:\n",
    "\n",
    "# Optimized using Gradient Descent to minimize the cost function by updating weights iteratively:\n",
    "# theta = theta - alpha * gradient\n"
   ]
  },
  {
   "cell_type": "markdown",
   "metadata": {},
   "source": [
    "Q3. Explain the concept of regularization in logistic regression and how it helps prevent overfitting."
   ]
  },
  {
   "cell_type": "markdown",
   "metadata": {},
   "source": [
    "Q4. What is the ROC curve, and how is it used to evaluate the performance of the logistic regression\n",
    "model?\n",
    "\n"
   ]
  },
  {
   "cell_type": "code",
   "execution_count": 11,
   "metadata": {},
   "outputs": [],
   "source": [
    "# ROC Curve (Receiver Operating Characteristic):\n",
    "# Plots True Positive Rate (Recall) vs False Positive Rate at different thresholds.\n",
    "\n",
    "# How it helps:\n",
    " # Shows how well the model separates the classes.\n",
    " # AUC (Area Under Curve) summarizes the ROC curve.\n",
    "  # AUC = 1 → perfect model\n",
    "  # AUC = 0.5 → random guess\n",
    " \n",
    " "
   ]
  },
  {
   "cell_type": "code",
   "execution_count": 12,
   "metadata": {},
   "outputs": [
    {
     "data": {
      "image/png": "[encoded data removed]",
      "text/plain": [
       "<Figure size 640x480 with 1 Axes>"
      ]
     },
     "metadata": {},
     "output_type": "display_data"
    }
   ],
   "source": [
    "from sklearn.datasets import load_breast_cancer\n",
    "from sklearn.model_selection import train_test_split\n",
    "from sklearn.linear_model import LogisticRegression\n",
    "from sklearn.metrics import roc_curve, roc_auc_score\n",
    "import matplotlib.pyplot as plt\n",
    "\n",
    "# Load dataset\n",
    "data = load_breast_cancer()\n",
    "X, y = data.data, data.target  # y = 1 for malignant, 0 for benign\n",
    "\n",
    "# Split the dataset\n",
    "X_train, X_test, y_train, y_test = train_test_split(X, y, test_size=0.2, random_state=42)\n",
    "\n",
    "# Train a logistic regression model\n",
    "model = LogisticRegression(max_iter=10000)\n",
    "model.fit(X_train, y_train)\n",
    "\n",
    "# Predict probabilities (not class labels)\n",
    "y_pred_proba = model.predict_proba(X_test)[:, 1]  # Probability for class 1 (malignant)\n",
    "\n",
    "# Compute ROC curve and AUC\n",
    "fpr, tpr, thresholds = roc_curve(y_test, y_pred_proba)\n",
    "auc = roc_auc_score(y_test, y_pred_proba)\n",
    "\n",
    "# Plot ROC curve\n",
    "plt.plot(fpr, tpr, label=f'AUC = {auc:.2f}')\n",
    "plt.plot([0, 1], [0, 1], 'k--')\n",
    "plt.xlabel('False Positive Rate')\n",
    "plt.ylabel('True Positive Rate')\n",
    "plt.title('ROC Curve')\n",
    "plt.legend()\n",
    "plt.show()\n"
   ]
  },
  {
   "cell_type": "markdown",
   "metadata": {},
   "source": [
    "Q5. What are some common techniques for feature selection in logistic regression? How do these\n",
    "techniques help improve the model's performance?"
   ]
  },
  {
   "cell_type": "code",
   "execution_count": 7,
   "metadata": {},
   "outputs": [],
   "source": [
    "# Feature Selection Techniques:\n",
    "# Recursive Feature Elimination (RFE)\n",
    "# L1 Regularization (Lasso)\n",
    "# Univariate Statistical Tests (e.g., Chi-Square, ANOVA)\n",
    "# Information Gain / Mutual Information\n",
    "# Correlation Matrix (to remove highly correlated features)\n",
    "\n",
    "# Benefits:\n",
    "# Reduces overfitting.\n",
    "# Improves model interpretability and speed.\n",
    "# Enhances generalization on unseen data."
   ]
  },
  {
   "cell_type": "markdown",
   "metadata": {},
   "source": [
    "Q6. How can you handle imbalanced datasets in logistic regression? What are some strategies for dealing\n",
    "with class imbalance?"
   ]
  },
  {
   "cell_type": "code",
   "execution_count": 8,
   "metadata": {},
   "outputs": [],
   "source": [
    "# Strategies:\n",
    "\n",
    "# 1.Resampling:\n",
    "# Oversampling minority class (e.g., SMOTE)\n",
    "# Undersampling majority class\n",
    "\n",
    "# 2.Class Weights:\n",
    "# Assign higher penalty to misclassifying minority class\n",
    "# model = LogisticRegression(class_weight='balanced')\n",
    "\n",
    "#3.Use Evaluation Metrics:\n",
    "# Precision, Recall, F1-score instead of just Accuracy\n",
    "# ROC-AUC, PR Curve\n",
    "\n",
    "#4.Threshold Tuning:\n",
    "# Adjust decision threshold from 0.5 to optimize recall/precision"
   ]
  },
  {
   "cell_type": "markdown",
   "metadata": {},
   "source": [
    "Q7. Can you discuss some common issues and challenges that may arise when implementing logistic\n",
    "regression, and how they can be addressed? For example, what can be done if there is multicollinearity\n",
    "among the independent variables?"
   ]
  },
  {
   "cell_type": "code",
   "execution_count": 10,
   "metadata": {},
   "outputs": [],
   "source": [
    "# Issue\t\n",
    "# Multicollinearity (high correlation between independent variables)\n",
    "# Solution\n",
    "# - Use Variance Inflation Factor (VIF) to detect\n",
    "# - Remove or combine correlated features\n",
    "# - Use PCA\n",
    "\n",
    "# Issue\t\n",
    "#non linear relationship\n",
    "#solution -> use polynomial features or switch to a non linear model\n",
    "\n",
    "#issue\n",
    "#outliers\n",
    "#solution -> use robust scaling or remove extreme outliers\n",
    "\n",
    "#issue\n",
    "#imbalanced data \n",
    "#solution-> apply class weighting or resampling\n",
    "\n",
    "#issue\n",
    "#overfitting\n",
    "#solution-> use regularization, early stopping, or cross-validation\n",
    "\n",
    "#issue\n",
    "#too many irrelevant features \n",
    "#solution-> perform feature selection"
   ]
  },
  {
   "cell_type": "markdown",
   "metadata": {},
   "source": []
  }
 ],
 "metadata": {
  "kernelspec": {
   "display_name": "Python 3",
   "language": "python",
   "name": "python3"
  },
  "language_info": {
   "codemirror_mode": {
    "name": "ipython",
    "version": 3
   },
   "file_extension": ".py",
   "mimetype": "text/x-python",
   "name": "python",
   "nbconvert_exporter": "python",
   "pygments_lexer": "ipython3",
   "version": "3.11.4"
  }
 },
 "nbformat": 4,
 "nbformat_minor": 2
}
