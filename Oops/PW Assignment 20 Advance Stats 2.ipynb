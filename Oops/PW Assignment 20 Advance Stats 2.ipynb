{
 "cells": [
  {
   "cell_type": "markdown",
   "metadata": {},
   "source": [
    "Q1: What are the Probability Mass Function (PMF) and Probability Density Function (PDF)? Explain with an example."
   ]
  },
  {
   "cell_type": "code",
   "execution_count": 4,
   "metadata": {},
   "outputs": [],
   "source": [
    "# PMF (Probability Mass Function):\n",
    "# Used for discrete random variables, it gives the probability that a discrete random variable is exactly equal to some value.\n",
    "# Example: The probability of getting heads in a single coin toss.\n",
    "#P(X = x) = PMF(x)\n",
    "\n",
    "# PDF (Probability Density Function):\n",
    "# Used for continuous random variables, it describes the relative likelihood of a random variable to take on a given value. The actual probability is given by the area under the curve.\n",
    "# example: The probability of a person being 1.75 meters tall.\n",
    "# P(a<= X <= b) = ∫[a,b] f(x) dx\n"
   ]
  },
  {
   "cell_type": "markdown",
   "metadata": {},
   "source": [
    "Q2: What is Cumulative Density Function (CDF)? Explain with an example. Why CDF is used?"
   ]
  },
  {
   "cell_type": "code",
   "execution_count": 5,
   "metadata": {},
   "outputs": [],
   "source": [
    "# CDF (Cumulative Distribution Function):\n",
    "# It gives the probability that a random variable is less than or equal to a certain value:\n",
    "\n",
    "# F(x) = P(X ≤ x)\n",
    "# Example: If X represents marks in an exam, F(60) could represent the probability of scoring 60 or less.\n",
    "\n",
    "# Why CDF is used?\n",
    "\n",
    "# To find cumulative probabilities\n",
    "\n",
    "# Useful in hypothesis testing and percentiles"
   ]
  },
  {
   "cell_type": "markdown",
   "metadata": {},
   "source": [
    "Q3: What are some examples of situations where the normal distribution might be used as a model? Explain how the parameters of the normal distribution relate to the shape of the distribution."
   ]
  },
  {
   "cell_type": "code",
   "execution_count": 7,
   "metadata": {},
   "outputs": [],
   "source": [
    "# Examples:\n",
    "# Heights of people\n",
    "# Test scores (e.g., SAT, IQ)\n",
    "# Errors in measurements\n",
    "\n",
    "# Parameters:\n",
    "# Mean (μ): Determines the center of the distribution.\n",
    "# Standard Deviation (σ): Controls the spread. Higher σ = wider bell curve."
   ]
  },
  {
   "cell_type": "markdown",
   "metadata": {},
   "source": [
    "Q4: Importance of Normal Distribution + Real-life examples"
   ]
  },
  {
   "cell_type": "code",
   "execution_count": 8,
   "metadata": {},
   "outputs": [],
   "source": [
    "# Importance:\n",
    "# Many real-world phenomena follow it\n",
    "# It's mathematically tractable\n",
    "# Central Limit Theorem applies\n",
    "\n",
    "# Real-life examples:\n",
    "# Human heights\n",
    "# Measurement errors\n",
    "# Blood pressure levels\n",
    "# Daily stock returns (approx.)"
   ]
  },
  {
   "cell_type": "markdown",
   "metadata": {},
   "source": [
    "Q5: What is Bernoulli Distribution? Example & Difference from Binomial"
   ]
  },
  {
   "cell_type": "code",
   "execution_count": 9,
   "metadata": {},
   "outputs": [],
   "source": [
    "# Bernoulli Distribution:\n",
    "# Describes a random experiment with only two possible outcomes: success (1) or failure (0).\n",
    "\n",
    "# Example: Tossing a coin once.\n",
    "\n",
    "#differece betweeen binomial and bernoulli\n",
    "#bernoulli\n",
    "#number of trials 1\n",
    "# output values 0 or 1\n",
    "#example : one coin toss\n",
    "\n",
    "#binomial\n",
    "#fixed number of trials n\n",
    "#output values 0 to n\n",
    "#example : 10 coin toss"
   ]
  },
  {
   "cell_type": "markdown",
   "metadata": {},
   "source": [
    "Q6. Consider a dataset with a mean of 50 and a standard deviation of 10. If we assume that the dataset\n",
    "is normally distributed, what is the probability that a randomly selected observation will be greater\n",
    "than 60? Use the appropriate formula and show your calculations."
   ]
  },
  {
   "cell_type": "code",
   "execution_count": 11,
   "metadata": {},
   "outputs": [
    {
     "name": "stdout",
     "output_type": "stream",
     "text": [
      "P(X > 60) = 0.15865525393145707\n"
     ]
    }
   ],
   "source": [
    "#formula\n",
    "#z => (60 - 50) / 10 = 1\n",
    "\n",
    "from scipy.stats import norm\n",
    "\n",
    "z = 1\n",
    "P = 1 - norm.cdf(z)\n",
    "print(\"P(X > 60) =\", P)\n"
   ]
  },
  {
   "cell_type": "markdown",
   "metadata": {},
   "source": [
    "Q7: Explain Uniform Distribution with an example"
   ]
  },
  {
   "cell_type": "code",
   "execution_count": 12,
   "metadata": {},
   "outputs": [],
   "source": [
    "# Uniform Distribution:\n",
    "# Every value in a given range has equal probability.\n",
    "# Example: Rolling a fair die (discrete), or choosing a random number between 0 and 1 (continuous).\n",
    "\n",
    "#formula : p(x) = 1 /b-a, a <= x <= b"
   ]
  },
  {
   "cell_type": "markdown",
   "metadata": {},
   "source": [
    "Q8: What is the z-score? Importance of z-score"
   ]
  },
  {
   "cell_type": "code",
   "execution_count": 13,
   "metadata": {},
   "outputs": [],
   "source": [
    "# Z-score:\n",
    "# Represents how many standard deviations a value is from the mean:\n",
    "\n",
    "# Z = (X - μ) / σ\n",
    " \n",
    "# Importance:\n",
    "# Helps identify outliers\n",
    "# Standardizes different distributions\n",
    "# Used in hypothesis testing"
   ]
  },
  {
   "cell_type": "markdown",
   "metadata": {},
   "source": [
    "Q9: What is the Central Limit Theorem (CLT)? Significance"
   ]
  },
  {
   "cell_type": "code",
   "execution_count": 14,
   "metadata": {},
   "outputs": [],
   "source": [
    "# CLT:\n",
    "# It states that the sampling distribution of the sample mean approaches a normal distribution as the sample size becomes large, regardless of the original distribution.\n",
    "\n",
    "# Significance:\n",
    "\n",
    "# Enables use of normal distribution for inference\n",
    "\n",
    "# Foundation for confidence intervals and hypothesis tests"
   ]
  },
  {
   "cell_type": "markdown",
   "metadata": {},
   "source": [
    "Q10: Assumptions of the Central Limit Theorem"
   ]
  },
  {
   "cell_type": "code",
   "execution_count": 15,
   "metadata": {},
   "outputs": [],
   "source": [
    "# Independent observations\n",
    "\n",
    "# Random sampling\n",
    "\n",
    "# Finite variance and mean\n",
    "\n",
    "# Sample size is sufficiently large (n ≥ 30 recommended)"
   ]
  },
  {
   "cell_type": "code",
   "execution_count": null,
   "metadata": {},
   "outputs": [],
   "source": []
  },
  {
   "cell_type": "code",
   "execution_count": null,
   "metadata": {},
   "outputs": [],
   "source": []
  },
  {
   "cell_type": "code",
   "execution_count": null,
   "metadata": {},
   "outputs": [],
   "source": []
  }
 ],
 "metadata": {
  "kernelspec": {
   "display_name": "Python 3",
   "language": "python",
   "name": "python3"
  },
  "language_info": {
   "codemirror_mode": {
    "name": "ipython",
    "version": 3
   },
   "file_extension": ".py",
   "mimetype": "text/x-python",
   "name": "python",
   "nbconvert_exporter": "python",
   "pygments_lexer": "ipython3",
   "version": "3.11.4"
  }
 },
 "nbformat": 4,
 "nbformat_minor": 2
}
