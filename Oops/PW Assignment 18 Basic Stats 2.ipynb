{
 "cells": [
  {
   "cell_type": "markdown",
   "metadata": {},
   "source": [
    "Q1. What are the three measures of central tendency?"
   ]
  },
  {
   "cell_type": "code",
   "execution_count": 1,
   "metadata": {},
   "outputs": [],
   "source": [
    "# The three measures of central tendency are:\n",
    "\n",
    "# Mean – The average of all data points.\n",
    "\n",
    "# Median – The middle value when the data is ordered.\n",
    "\n",
    "# Mode – The most frequently occurring value(s) in a dataset."
   ]
  },
  {
   "cell_type": "markdown",
   "metadata": {},
   "source": [
    "Q2. What is the difference between the mean, median, and mode? How are they used to measure the central tendency of a dataset?"
   ]
  },
  {
   "cell_type": "code",
   "execution_count": 2,
   "metadata": {},
   "outputs": [],
   "source": [
    "# Mean is the sum of all data values divided by the number of values. It is sensitive to outliers.\n",
    "\n",
    "# Median is the middle value when the data is sorted. It is more robust to outliers and skewed data.\n",
    "\n",
    "# Mode is the most frequent value. It’s useful for categorical data or to find common trends.\n",
    "\n",
    "# They all describe the center of a dataset, but are used differently depending on data distribution and type."
   ]
  },
  {
   "cell_type": "markdown",
   "metadata": {},
   "source": [
    "Q3. Measure the three measures of central tendency for the given height data:"
   ]
  },
  {
   "cell_type": "code",
   "execution_count": 3,
   "metadata": {},
   "outputs": [
    {
     "name": "stdout",
     "output_type": "stream",
     "text": [
      "Mean: 177.01875\n",
      "Median: 177.0\n",
      "Mode: 178\n"
     ]
    }
   ],
   "source": [
    "import statistics\n",
    "\n",
    "data = [178, 177, 176, 177, 178.2, 178, 175, 179, 180, 175, 178.9, 176.2, 177, 172.5, 178, 176.5]\n",
    "\n",
    "mean_val = statistics.mean(data)\n",
    "median_val = statistics.median(data)\n",
    "mode_val = statistics.mode(data)\n",
    "\n",
    "print(\"Mean:\", mean_val)\n",
    "print(\"Median:\", median_val)\n",
    "print(\"Mode:\", mode_val)\n"
   ]
  },
  {
   "cell_type": "markdown",
   "metadata": {},
   "source": [
    "Q4. Find the standard deviation for the given data:"
   ]
  },
  {
   "cell_type": "code",
   "execution_count": 4,
   "metadata": {},
   "outputs": [
    {
     "name": "stdout",
     "output_type": "stream",
     "text": [
      "Standard Deviation: 1.8472389305844188\n"
     ]
    }
   ],
   "source": [
    "std_dev = statistics.stdev(data)\n",
    "print(\"Standard Deviation:\", std_dev)\n"
   ]
  },
  {
   "cell_type": "markdown",
   "metadata": {},
   "source": [
    "Q5. How are measures of dispersion such as range, variance, and standard deviation used to describe the spread of a dataset? Provide an example"
   ]
  },
  {
   "cell_type": "code",
   "execution_count": 5,
   "metadata": {},
   "outputs": [],
   "source": [
    "# Range is the difference between the maximum and minimum values.\n",
    "\n",
    "# Variance shows how far each data point is from the mean (in squared units).\n",
    "\n",
    "# Standard Deviation is the square root of variance and tells how much the values typically deviate from the mean.\n",
    "\n",
    "# Example:\n",
    "# If two classes have the same average marks but one has a higher standard deviation, that class has more variability in student performance."
   ]
  },
  {
   "cell_type": "markdown",
   "metadata": {},
   "source": [
    "Q6. What is a Venn diagram?\n"
   ]
  },
  {
   "cell_type": "code",
   "execution_count": 6,
   "metadata": {},
   "outputs": [],
   "source": [
    "\n",
    "# A Venn diagram is a diagram that shows relationships between different sets using overlapping circles. The overlapping areas represent elements common to the sets."
   ]
  },
  {
   "cell_type": "markdown",
   "metadata": {},
   "source": [
    "Q7. For the two given sets A = (2,3,4,5,6,7) & B = (0,2,6,8,10), find:\n",
    "(i) A ∩ B (Intersection)\n",
    "(ii) A ∪ B (Union)"
   ]
  },
  {
   "cell_type": "code",
   "execution_count": 7,
   "metadata": {},
   "outputs": [
    {
     "name": "stdout",
     "output_type": "stream",
     "text": [
      "A ∩ B: {2, 6}\n",
      "A ∪ B: {0, 2, 3, 4, 5, 6, 7, 8, 10}\n"
     ]
    }
   ],
   "source": [
    "A = {2, 3, 4, 5, 6, 7}\n",
    "B = {0, 2, 6, 8, 10}\n",
    "\n",
    "intersection = A & B\n",
    "union = A | B\n",
    "\n",
    "print(\"A ∩ B:\", intersection)\n",
    "print(\"A ∪ B:\", union)\n"
   ]
  },
  {
   "cell_type": "markdown",
   "metadata": {},
   "source": [
    "Q8. What do you understand about skewness in data?"
   ]
  },
  {
   "cell_type": "code",
   "execution_count": 8,
   "metadata": {},
   "outputs": [],
   "source": [
    "# Skewness describes the asymmetry of a dataset's distribution:\n",
    "\n",
    "# Right-skewed (positive): Tail is longer on the right.\n",
    "\n",
    "# Left-skewed (negative): Tail is longer on the left.\n",
    "\n",
    "# Zero skewness: Data is symmetric."
   ]
  },
  {
   "cell_type": "markdown",
   "metadata": {},
   "source": [
    "Q9. If a data is right skewed then what will be the position of median with respect to mean?"
   ]
  },
  {
   "cell_type": "code",
   "execution_count": 9,
   "metadata": {},
   "outputs": [],
   "source": [
    "# In right-skewed data:\n",
    "# Mean > Median > Mode\n",
    "# The mean is pulled in the direction of the longer tail."
   ]
  },
  {
   "cell_type": "markdown",
   "metadata": {},
   "source": [
    "Q10. Explain the difference between covariance and correlation. How are these measures used in statistical analysis?"
   ]
  },
  {
   "cell_type": "code",
   "execution_count": 10,
   "metadata": {},
   "outputs": [],
   "source": [
    "# Covariance measures the direction of the linear relationship between two variables.\n",
    "\n",
    "# Correlation measures both the direction and strength of the relationship and is standardized (between -1 and 1).\n",
    "\n",
    "# Use:\n",
    "# Both help in understanding the relationship between variables, like stock prices or sales vs. temperature."
   ]
  },
  {
   "cell_type": "markdown",
   "metadata": {},
   "source": [
    "Q11. What is the formula for calculating the sample mean? Provide an example calculation for a dataset."
   ]
  },
  {
   "cell_type": "code",
   "execution_count": 11,
   "metadata": {},
   "outputs": [],
   "source": [
    "#formula = summation of all the sample / number of samples\n",
    " \n",
    "# Example:\n",
    "# For data = [4, 6, 8, 10]:\n",
    "# Mean = (4 + 6 + 8 + 10) / 4 = 7"
   ]
  },
  {
   "cell_type": "markdown",
   "metadata": {},
   "source": [
    "Q12. For a normal distribution data what is the relationship between its measures of central tendency?"
   ]
  },
  {
   "cell_type": "code",
   "execution_count": 12,
   "metadata": {},
   "outputs": [],
   "source": [
    "# In a perfectly normal distribution:\n",
    "\n",
    "# Mean = Median = Mode\n"
   ]
  },
  {
   "cell_type": "markdown",
   "metadata": {},
   "source": [
    "Q13. How is covariance different from correlation?"
   ]
  },
  {
   "cell_type": "code",
   "execution_count": 13,
   "metadata": {},
   "outputs": [],
   "source": [
    "# Covariance is unstandardized and can take any value (depends on units).\n",
    "\n",
    "# Correlation is standardized between -1 and 1 and unitless.\n",
    "\n",
    "# So, correlation provides more interpretable insight into the strength of relationships."
   ]
  },
  {
   "cell_type": "markdown",
   "metadata": {},
   "source": [
    "Q14. How do outliers affect measures of central tendency and dispersion? Provide an example."
   ]
  },
  {
   "cell_type": "code",
   "execution_count": 14,
   "metadata": {},
   "outputs": [],
   "source": [
    "# Outliers have a large effect on the mean (can shift it significantly), but less effect on median and mode.\n",
    "\n",
    "# Standard deviation and variance also increase due to outliers.\n",
    "\n",
    "# Example:\n",
    "# Data: [5, 6, 7, 8, 100]\n",
    "# Mean = 25.2 (inflated due to 100),\n",
    "# Median = 7 (robust to outliers)"
   ]
  },
  {
   "cell_type": "code",
   "execution_count": null,
   "metadata": {},
   "outputs": [],
   "source": []
  }
 ],
 "metadata": {
  "kernelspec": {
   "display_name": "Python 3",
   "language": "python",
   "name": "python3"
  },
  "language_info": {
   "codemirror_mode": {
    "name": "ipython",
    "version": 3
   },
   "file_extension": ".py",
   "mimetype": "text/x-python",
   "name": "python",
   "nbconvert_exporter": "python",
   "pygments_lexer": "ipython3",
   "version": "3.11.4"
  }
 },
 "nbformat": 4,
 "nbformat_minor": 2
}
