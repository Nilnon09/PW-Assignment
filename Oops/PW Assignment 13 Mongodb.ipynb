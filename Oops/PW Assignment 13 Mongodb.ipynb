{
 "cells": [
  {
   "cell_type": "markdown",
   "metadata": {},
   "source": [
    "Q1. What is MongoDB? Explain non-relational databases in short. When is it preferred over SQL?"
   ]
  },
  {
   "cell_type": "code",
   "execution_count": 1,
   "metadata": {},
   "outputs": [],
   "source": [
    "#MongoDB is an open-source NoSQL (non-relational) database that stores data in JSON-like documents (BSON format), making it flexible and easy to use.\n",
    "\n",
    "#non relational databases:\n",
    "#Store data in formats like key-value, documents, graphs, or wide-column.\n",
    "#Do not require a fixed schema.\n",
    "#Best suited for unstructured or semi-structured data.\n",
    "\n",
    "#when to prefer MongoDB over SQL:\n",
    "#When you need schema flexibility.\n",
    "#When you’re working with large unstructured datasets.\n",
    "#When you need to scale horizontally (across multiple servers).\n",
    "#Ideal for real-time analytics, IoT, content management, and fast development cycles."
   ]
  },
  {
   "cell_type": "markdown",
   "metadata": {},
   "source": [
    "Q2. Features of MongoDB"
   ]
  },
  {
   "cell_type": "code",
   "execution_count": 2,
   "metadata": {},
   "outputs": [],
   "source": [
    "#features of MongoDB are:\n",
    "# Document-Oriented Storage: Uses flexible JSON-like documents.\n",
    "\n",
    "# Schema-less: Each document can have different fields.\n",
    "\n",
    "# Scalability: Supports horizontal scaling via sharding.\n",
    "\n",
    "# Indexing: Supports fast search using indexes.\n",
    "\n",
    "# Aggregation: Supports powerful aggregation pipelines.\n",
    "\n",
    "# Replication: Provides high availability via replica sets.\n",
    "\n",
    "# Rich Query Language: Supports complex queries with filters, projections, etc."
   ]
  },
  {
   "cell_type": "markdown",
   "metadata": {},
   "source": [
    " Q3. Code to connect MongoDB to Python, create DB & collection"
   ]
  },
  {
   "cell_type": "code",
   "execution_count": null,
   "metadata": {},
   "outputs": [],
   "source": [
    "import pymongo\n",
    "\n",
    "# Connect to MongoDB\n",
    "client = pymongo.MongoClient(\"mongodb://localhost:27017/\")\n",
    "\n",
    "# Create database\n",
    "db = client[\"school\"]\n",
    "\n",
    "# Create collection\n",
    "collection = db[\"students\"]\n",
    "\n",
    "print(\"MongoDB connected and collection created!\")\n"
   ]
  },
  {
   "cell_type": "markdown",
   "metadata": {},
   "source": [
    " Q4. Insert one record, many records & use find methods"
   ]
  },
  {
   "cell_type": "code",
   "execution_count": null,
   "metadata": {},
   "outputs": [],
   "source": [
    "# Insert one document\n",
    "collection.insert_one({\"name\": \"Anup\", \"age\": 21, \"grade\": \"A\"})\n",
    "\n",
    "# Insert many documents\n",
    "students = [\n",
    "    {\"name\": \"Riya\", \"age\": 22, \"grade\": \"B\"},\n",
    "    {\"name\": \"Rahul\", \"age\": 20, \"grade\": \"A\"},\n",
    "    {\"name\": \"Sneha\", \"age\": 23, \"grade\": \"C\"}\n",
    "]\n",
    "collection.insert_many(students)\n",
    "\n",
    "# Find one document\n",
    "print(\"Find One:\")\n",
    "print(collection.find_one({\"name\": \"Anup\"}))\n",
    "\n",
    "# Find all documents\n",
    "print(\"Find All:\")\n",
    "for student in collection.find():\n",
    "    print(student)\n"
   ]
  },
  {
   "cell_type": "markdown",
   "metadata": {},
   "source": [
    " Q5. Using find() to query MongoDB"
   ]
  },
  {
   "cell_type": "code",
   "execution_count": null,
   "metadata": {},
   "outputs": [],
   "source": [
    "# Find students with grade A\n",
    "query = {\"grade\": \"A\"}\n",
    "\n",
    "print(\"Students with grade A:\")\n",
    "for student in collection.find(query):\n",
    "    print(student)\n"
   ]
  },
  {
   "cell_type": "markdown",
   "metadata": {},
   "source": [
    " Q6. Using sort() in MongoDB"
   ]
  },
  {
   "cell_type": "code",
   "execution_count": null,
   "metadata": {},
   "outputs": [],
   "source": [
    "# Sort by age in ascending order\n",
    "for student in collection.find().sort(\"age\", 1):\n",
    "    print(student)\n",
    "\n",
    "# Sort by age in descending order\n",
    "for student in collection.find().sort(\"age\", -1):\n",
    "    print(student)\n"
   ]
  },
  {
   "cell_type": "markdown",
   "metadata": {},
   "source": [
    " Q7. Why delete_one(), delete_many(), and drop() are used"
   ]
  },
  {
   "cell_type": "code",
   "execution_count": 3,
   "metadata": {},
   "outputs": [],
   "source": [
    "#delete_one(): Deletes the first matching document\n",
    "#collection.delete_one({\"name\": \"Anup\"})\n",
    "\n",
    "#delete_many(): Deletes all documents matching the query\n",
    "#collection.delete_many({\"grade\": \"C\"})\n",
    "\n",
    "#drop(): Deletes the entire collection (removes all data and structure)\n",
    "#collection.drop()\n"
   ]
  },
  {
   "cell_type": "markdown",
   "metadata": {},
   "source": []
  },
  {
   "cell_type": "markdown",
   "metadata": {},
   "source": []
  },
  {
   "cell_type": "code",
   "execution_count": null,
   "metadata": {},
   "outputs": [],
   "source": []
  }
 ],
 "metadata": {
  "kernelspec": {
   "display_name": "Python 3",
   "language": "python",
   "name": "python3"
  },
  "language_info": {
   "codemirror_mode": {
    "name": "ipython",
    "version": 3
   },
   "file_extension": ".py",
   "mimetype": "text/x-python",
   "name": "python",
   "nbconvert_exporter": "python",
   "pygments_lexer": "ipython3",
   "version": "3.11.4"
  }
 },
 "nbformat": 4,
 "nbformat_minor": 2
}
