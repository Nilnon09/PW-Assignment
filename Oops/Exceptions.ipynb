{
 "cells": [
  {
   "cell_type": "markdown",
   "id": "d93692f3",
   "metadata": {},
   "source": [
    "Q1. What is an Exception in Python? Write the difference between Exceptions and Syntax errors.\n",
    "\n",
    "\n",
    "\n",
    "\n",
    "An exception in Python is an error that occurs during the execution of a program, which disrupts the normal flow of instructions. Exceptions occur when the program is syntactically correct but encounters an unexpected situation like division by zero, accessing a non-existent file, or converting a string to an integer that doesn’t represent a number.\n",
    "\n",
    "On the other hand, syntax errors are mistakes in the structure of the program code. These are detected before the program runs and are caused by writing code that doesn't follow the rules of Python syntax—for example, missing a colon after an if statement or using incorrect indentation.\n",
    "\n",
    "The key difference is that exceptions occur at runtime, and they can be handled using try-except blocks. Syntax errors happen at compile-time (parsing time) and must be fixed before the program can run."
   ]
  },
  {
   "cell_type": "markdown",
   "id": "3c096b4d",
   "metadata": {},
   "source": [
    "Q2. What happens when an exception is not handled? Explain with an example.\n",
    "\n",
    "If not handled, the program crashes and Python prints a traceback error message"
   ]
  },
  {
   "cell_type": "code",
   "execution_count": 2,
   "id": "a490cc26",
   "metadata": {},
   "outputs": [
    {
     "ename": "ZeroDivisionError",
     "evalue": "division by zero",
     "output_type": "error",
     "traceback": [
      "\u001b[1;31m---------------------------------------------------------------------------\u001b[0m",
      "\u001b[1;31mZeroDivisionError\u001b[0m                         Traceback (most recent call last)",
      "Cell \u001b[1;32mIn[2], line 3\u001b[0m\n\u001b[0;32m      1\u001b[0m x \u001b[38;5;241m=\u001b[39m \u001b[38;5;241m10\u001b[39m\n\u001b[0;32m      2\u001b[0m y \u001b[38;5;241m=\u001b[39m \u001b[38;5;241m0\u001b[39m\n\u001b[1;32m----> 3\u001b[0m \u001b[38;5;28mprint\u001b[39m(\u001b[43mx\u001b[49m\u001b[43m \u001b[49m\u001b[38;5;241;43m/\u001b[39;49m\u001b[43m \u001b[49m\u001b[43my\u001b[49m)  \n",
      "\u001b[1;31mZeroDivisionError\u001b[0m: division by zero"
     ]
    }
   ],
   "source": [
    "\n",
    "x = 10\n",
    "y = 0\n",
    "print(x / y)  \n"
   ]
  },
  {
   "cell_type": "markdown",
   "id": "d892f1b3",
   "metadata": {},
   "source": [
    "Q3. Which Python statements are used to catch and handle exceptions? Explain with an example.\n",
    "\n",
    "\n",
    "\n",
    "Python uses try and except blocks to catch and handle exceptions."
   ]
  },
  {
   "cell_type": "code",
   "execution_count": 5,
   "id": "62505d53",
   "metadata": {},
   "outputs": [
    {
     "name": "stdout",
     "output_type": "stream",
     "text": [
      "You can't divide by zero!\n"
     ]
    }
   ],
   "source": [
    "try:\n",
    "    num = int(input(0))\n",
    "    print(10 / num)\n",
    "except ZeroDivisionError:\n",
    "    print(\"You can't divide by zero!\")\n",
    "except ValueError:\n",
    "    print(\"Invalid input! Please enter a number.\")\n"
   ]
  },
  {
   "cell_type": "code",
   "execution_count": 7,
   "id": "80db6b79",
   "metadata": {},
   "outputs": [
    {
     "name": "stdout",
     "output_type": "stream",
     "text": [
      "Invalid input! Please enter a number.\n"
     ]
    }
   ],
   "source": [
    "try:\n",
    "    num = int(input(\"abc\"))\n",
    "    print(10 / num)\n",
    "except ZeroDivisionError:\n",
    "    print(\"You can't divide by zero!\")\n",
    "except ValueError:\n",
    "    print(\"Invalid input! Please enter a number.\")\n"
   ]
  },
  {
   "cell_type": "markdown",
   "id": "e62b1f12",
   "metadata": {},
   "source": [
    "Q4. Explain with an example: try, else, finally, raise"
   ]
  },
  {
   "cell_type": "code",
   "execution_count": 8,
   "id": "929266d6",
   "metadata": {},
   "outputs": [
    {
     "name": "stdout",
     "output_type": "stream",
     "text": [
      "Division successful: 5.0\n",
      "This block always runs.\n",
      "Error: Cannot divide by zero.\n",
      "This block always runs.\n"
     ]
    }
   ],
   "source": [
    "def divide_numbers(a, b):\n",
    "    try:\n",
    "        result = a / b\n",
    "    except ZeroDivisionError:\n",
    "        print(\"Error: Cannot divide by zero.\")\n",
    "    else:\n",
    "        print(\"Division successful:\", result)\n",
    "    finally:\n",
    "        print(\"This block always runs.\")\n",
    "\n",
    "# Usage\n",
    "divide_numbers(10, 2)\n",
    "divide_numbers(10, 0)\n"
   ]
  },
  {
   "cell_type": "code",
   "execution_count": 9,
   "id": "8bdaa8bf",
   "metadata": {},
   "outputs": [
    {
     "name": "stdout",
     "output_type": "stream",
     "text": [
      "Exception raised: Age must be 18 or above.\n"
     ]
    }
   ],
   "source": [
    "## example of raise\n",
    "def check_age(age):\n",
    "    if age < 18:\n",
    "        raise ValueError(\"Age must be 18 or above.\")\n",
    "    print(\"Age is valid.\")\n",
    "\n",
    "try:\n",
    "    check_age(15)\n",
    "except ValueError as ve:\n",
    "    print(\"Exception raised:\", ve)\n"
   ]
  },
  {
   "cell_type": "markdown",
   "id": "cc1081b3",
   "metadata": {},
   "source": [
    "Q5. What are Custom Exceptions in Python? Why do we need them? Explain with an example.\n",
    "\n",
    "\n",
    "\n",
    "\n",
    "Custom exceptions are user-defined errors created by inheriting from the Exception class.\n",
    "\n",
    "Useful when default exceptions don’t explain your specific business logic error."
   ]
  },
  {
   "cell_type": "code",
   "execution_count": 11,
   "id": "8484b1a2",
   "metadata": {},
   "outputs": [
    {
     "name": "stdout",
     "output_type": "stream",
     "text": [
      "Caught custom exception: Negative numbers are not allowed.\n"
     ]
    }
   ],
   "source": [
    "class NegativeNumber_Error(Exception):\n",
    "    pass\n",
    "\n",
    "def check_number(num):\n",
    "    if num < 0:\n",
    "        raise NegativeNumber_Error(\"Negative numbers are not allowed.\")\n",
    "    print(\"Valid number.\")\n",
    "\n",
    "try:\n",
    "    check_number(-5)\n",
    "except NegativeNumber_Error as e:\n",
    "    print(\"Caught custom exception:\", e)\n"
   ]
  },
  {
   "cell_type": "markdown",
   "id": "339466c2",
   "metadata": {},
   "source": [
    "Q6. Create a custom exception class. Use this class to handle an exception."
   ]
  },
  {
   "cell_type": "code",
   "execution_count": 12,
   "id": "cc2f6473",
   "metadata": {},
   "outputs": [
    {
     "name": "stdout",
     "output_type": "stream",
     "text": [
      "Transaction failed: Attempted to withdraw 1500, but balance is only 1000\n"
     ]
    }
   ],
   "source": [
    "# Custom exception class banya hai\n",
    "class InsufficientBalanceError(Exception):\n",
    "    def __init__(self, message=\"Balance is too low for withdrawal\"):\n",
    "        self.message = message\n",
    "        super().__init__(self.message)\n",
    "\n",
    "# Usage example hai\n",
    "def withdraw(balance, amount):\n",
    "    if amount > balance:\n",
    "        raise InsufficientBalanceError(f\"Attempted to withdraw {amount}, but balance is only {balance}\")\n",
    "    return balance - amount\n",
    "\n",
    "try:\n",
    "    print(\"New balance:\", withdraw(1000, 1500))\n",
    "except InsufficientBalanceError as e:\n",
    "    print(\"Transaction failed:\", e)\n"
   ]
  },
  {
   "cell_type": "code",
   "execution_count": null,
   "id": "e0dfe9b5",
   "metadata": {},
   "outputs": [],
   "source": []
  }
 ],
 "metadata": {
  "kernelspec": {
   "display_name": "Python 3",
   "language": "python",
   "name": "python3"
  },
  "language_info": {
   "codemirror_mode": {
    "name": "ipython",
    "version": 3
   },
   "file_extension": ".py",
   "mimetype": "text/x-python",
   "name": "python",
   "nbconvert_exporter": "python",
   "pygments_lexer": "ipython3",
   "version": "3.11.9"
  }
 },
 "nbformat": 4,
 "nbformat_minor": 5
}
