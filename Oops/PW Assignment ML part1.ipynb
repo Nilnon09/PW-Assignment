{
 "cells": [
  {
   "cell_type": "markdown",
   "metadata": {},
   "source": [
    "Assignment\n",
    "Data Science Masters\n",
    "Q1: Explain the following with an example:\n",
    "\n",
    "Artificial Intelligenc\n",
    "\n",
    "Machine Learning\n",
    "\n",
    "Deep Learning"
   ]
  },
  {
   "cell_type": "code",
   "execution_count": 1,
   "metadata": {},
   "outputs": [],
   "source": [
    "# A) Artificial Intelligence (AI):\n",
    "# AI is the broader concept of machines being able to carry out tasks in a way that we would consider \"smart.\"\n",
    "\n",
    "# Example: A chatbot that answers customer queries 24/7 is an application of AI.\n",
    "\n",
    "# B) Machine Learning (ML):\n",
    "# ML is a subset of AI where machines are trained using data to make predictions or decisions without being explicitly programmed for every task.\n",
    "\n",
    "# Example: A spam email filter that learns to separate spam from non-spam by analyzing past emails.\n",
    "\n",
    "# C) Deep Learning (DL):\n",
    "# DL is a subset of ML that uses neural networks with multiple layers (deep neural networks) to model complex patterns in large datasets.\n",
    "\n",
    "# Example: Facial recognition systems use deep learning to identify individuals in images."
   ]
  },
  {
   "cell_type": "markdown",
   "metadata": {},
   "source": [
    "Q2: What is supervised learning? List some examples of supervised learning."
   ]
  },
  {
   "cell_type": "code",
   "execution_count": 2,
   "metadata": {},
   "outputs": [],
   "source": [
    "# Supervised Learning is a type of machine learning where the model is trained on a labeled dataset, meaning each input has a corresponding output.\n",
    "\n",
    "# Examples:\n",
    "\n",
    "# Spam detection (email labeled as spam or not)\n",
    "\n",
    "# House price prediction (predicting prices based on features)\n",
    "\n",
    "# Image classification (e.g., cats vs dogs)"
   ]
  },
  {
   "cell_type": "markdown",
   "metadata": {},
   "source": [
    "Q3: What is unsupervised learning? List some examples of unsupervised learning."
   ]
  },
  {
   "cell_type": "code",
   "execution_count": 3,
   "metadata": {},
   "outputs": [],
   "source": [
    "# Unsupervised Learning is a type of machine learning where the data has no labels, and the algorithm tries to find hidden patterns or groupings.\n",
    "\n",
    "# Examples:\n",
    "\n",
    "# Customer segmentation (grouping similar customers)\n",
    "\n",
    "# Anomaly detection (e.g., fraud detection)\n",
    "\n",
    "# Dimensionality reduction (e.g., PCA)"
   ]
  },
  {
   "cell_type": "markdown",
   "metadata": {},
   "source": [
    "Q4: What is the difference between AI, ML, DL, and DS?"
   ]
  },
  {
   "cell_type": "markdown",
   "metadata": {},
   "source": [
    "              Concept | Description | Example\n",
    "AI | Broad field for simulating human intelligence | Voice assistants\n",
    "\n",
    "\n",
    "ML | Algorithms that learn from data | Product recommendation\n",
    "\n",
    "\n",
    "DL | Complex ML using neural networks | Autonomous driving\n",
    "\n",
    "\n",
    "DS (Data Science) | Extracting insights from data using ML, stats, and domain knowledge | Business forecasting"
   ]
  },
  {
   "cell_type": "markdown",
   "metadata": {},
   "source": [
    "Q5: Differences between Supervised, Unsupervised, and Semi-Supervised Learning"
   ]
  },
  {
   "cell_type": "markdown",
   "metadata": {},
   "source": [
    "                Type | Labeled Data | Goal | Example\n",
    "\n",
    "\n",
    "  Supervised | Yes | Predict output | House price prediction\n",
    "\n",
    "  Unsupervised | No | Find structure | Clustering customers\n",
    "\n",
    "Semi-Supervised | Partially | Use small labeled + large unlabeled data | Text classification with few labeled samples"
   ]
  },
  {
   "cell_type": "markdown",
   "metadata": {},
   "source": [
    "Q6: What is train, test and validation split? Explain the importance of each term."
   ]
  },
  {
   "cell_type": "code",
   "execution_count": 4,
   "metadata": {},
   "outputs": [],
   "source": [
    "# Train Set: Used to train the model.\n",
    "\n",
    "# Validation Set: Used to tune hyperparameters and evaluate the model during training.\n",
    "\n",
    "# Test Set: Used to evaluate final model performance on unseen data.\n",
    "\n",
    "# Importance:\n",
    "\n",
    "# Prevents overfitting\n",
    "\n",
    "# Ensures model generalizes well\n",
    "\n",
    "# Helps in fair performance evaluation"
   ]
  },
  {
   "cell_type": "markdown",
   "metadata": {},
   "source": [
    "Q7: How can unsupervised learning be used in anomaly detection?"
   ]
  },
  {
   "cell_type": "code",
   "execution_count": 5,
   "metadata": {},
   "outputs": [],
   "source": [
    "# Unsupervised models learn the \"normal\" behavior from data and flag anything that deviates significantly as an anomaly.\n",
    "\n",
    "# Example:\n",
    "\n",
    "# In banking, an unsupervised model can flag unusual spending as potential fraud without needing labeled examples."
   ]
  },
  {
   "cell_type": "markdown",
   "metadata": {},
   "source": [
    "Q8: List down some commonly used supervised learning algorithms and unsupervised learning\n",
    "algorithms"
   ]
  },
  {
   "cell_type": "code",
   "execution_count": 6,
   "metadata": {},
   "outputs": [],
   "source": [
    "# Supervised Learning Algorithms:\n",
    "# Linear Regression\n",
    "# Logistic Regression\n",
    "# Decision Trees\n",
    "# Random Forest\n",
    "# Support Vector Machine (SVM)\n",
    "# k-Nearest Neighbors (KNN)\n",
    "# Gradient Boosting (XGBoost, LightGBM)\n",
    "\n",
    "# Unsupervised Learning Algorithms:\n",
    "# k-Means Clustering\n",
    "# Hierarchical Clustering\n",
    "# DBSCAN\n",
    "# Principal Component Analysis (PCA)\n",
    "# Autoencoders"
   ]
  },
  {
   "cell_type": "code",
   "execution_count": null,
   "metadata": {},
   "outputs": [],
   "source": []
  },
  {
   "cell_type": "markdown",
   "metadata": {},
   "source": []
  }
 ],
 "metadata": {
  "kernelspec": {
   "display_name": "Python 3",
   "language": "python",
   "name": "python3"
  },
  "language_info": {
   "codemirror_mode": {
    "name": "ipython",
    "version": 3
   },
   "file_extension": ".py",
   "mimetype": "text/x-python",
   "name": "python",
   "nbconvert_exporter": "python",
   "pygments_lexer": "ipython3",
   "version": "3.11.4"
  }
 },
 "nbformat": 4,
 "nbformat_minor": 2
}
