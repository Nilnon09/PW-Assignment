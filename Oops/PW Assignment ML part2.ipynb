{
 "cells": [
  {
   "cell_type": "markdown",
   "metadata": {},
   "source": [
    "Q1: Define overfitting and underfitting in machine learning. What are the consequences of each, and how\n",
    "can they be mitigated?"
   ]
  },
  {
   "cell_type": "code",
   "execution_count": 1,
   "metadata": {},
   "outputs": [],
   "source": [
    "# Overfitting: When a model learns the training data too well, including noise and outliers. It performs well on training data but poorly on unseen data.\n",
    "\n",
    "# Consequence: Poor generalization.\n",
    "\n",
    "# Mitigation: Use regularization, more data, simpler models, or early stopping.\n",
    "\n",
    "# Underfitting: When a model is too simple to learn the underlying patterns in the data.\n",
    "\n",
    "# Consequence: Poor performance on both training and test data.\n",
    "\n",
    "# Mitigation: Use more complex models, add features, reduce regularization"
   ]
  },
  {
   "cell_type": "markdown",
   "metadata": {},
   "source": [
    "Q2: How can we reduce overfitting? Explain in brief."
   ]
  },
  {
   "cell_type": "code",
   "execution_count": 3,
   "metadata": {},
   "outputs": [],
   "source": [
    "# Techniques to reduce overfitting:\n",
    "\n",
    "# Cross-validation: Use k-fold CV to check performance on unseen data.\n",
    "\n",
    "# Simplify model: Reduce number of parameters or features.\n",
    "\n",
    "# Regularization: Add penalty to large coefficients (e.g., L1/L2).\n",
    "\n",
    "# Pruning (for trees): Remove unimportant branches.\n",
    "\n",
    "# Early stopping: Stop training when validation loss starts increasing.\n",
    "\n",
    "# Data augmentation: Increase dataset size (especially in image/text tasks).\n",
    "\n",
    "# Ensemble methods: Like bagging or boosting"
   ]
  },
  {
   "cell_type": "markdown",
   "metadata": {},
   "source": [
    "Q3: Explain underfitting. List scenarios where underfitting can occur in ML"
   ]
  },
  {
   "cell_type": "code",
   "execution_count": 4,
   "metadata": {},
   "outputs": [],
   "source": [
    "# Underfitting occurs when a model cannot capture the underlying trend of the data. It's usually caused by a model that's too simple or not trained enough.\n",
    "\n",
    "# Scenarios where underfitting can occur:\n",
    "\n",
    "# Using linear regression for a non-linear dataset.\n",
    "\n",
    "# Insufficient training (early stopping too soon).\n",
    "\n",
    "# High regularization penali"
   ]
  },
  {
   "cell_type": "markdown",
   "metadata": {},
   "source": [
    "Q4: Explain the bias-variance tradeoff in machine learning. What is the relationship between bias and\n",
    "variance, and how do they affect model performance?"
   ]
  },
  {
   "cell_type": "code",
   "execution_count": 5,
   "metadata": {},
   "outputs": [],
   "source": [
    "# Bias: Error due to overly simplistic assumptions. High bias leads to underfitting.\n",
    "\n",
    "# Variance: Error due to model sensitivity to small changes in data. High variance leads to overfitting.\n",
    "\n",
    "# Tradeoff:\n",
    "\n",
    "# Low bias usually means high variance, and vice versa.\n",
    "\n",
    "# Goal is to find the sweet spot where both bias and variance are balanced to minimize total error.\n",
    "\n",
    "# Total Error = Bias² + Variance + Irreducible Error\n"
   ]
  },
  {
   "cell_type": "markdown",
   "metadata": {},
   "source": [
    "Q5: Discuss some common methods for detecting overfitting and underfitting in machine learning models.\n",
    "How can you determine whether your model is overfitting or underfitting?"
   ]
  },
  {
   "cell_type": "markdown",
   "metadata": {},
   "source": [
    "how to detect\n",
    "\n",
    "\n",
    "     Scenario | Training Accuracy | Validation Accuracy \n",
    "     High | Low | Underfitting | \n",
    "     High | Low | Overfitting |  \n",
    "     Balanced | Balanced | Good fit | "
   ]
  },
  {
   "cell_type": "code",
   "execution_count": 6,
   "metadata": {},
   "outputs": [],
   "source": [
    "# Methods:\n",
    "\n",
    "# Plot learning curves (accuracy/loss vs. epochs)\n",
    "\n",
    "# Evaluate train vs test accuracy\n",
    "\n",
    "# Use cross-validation\n",
    "\n",
    "# Check for high model complexity"
   ]
  },
  {
   "cell_type": "markdown",
   "metadata": {},
   "source": [
    "Q6: Compare and contrast bias and variance in machine learning. What are some examples of high bias\n",
    "and high variance models, and how do they differ in terms of their performance?"
   ]
  },
  {
   "cell_type": "markdown",
   "metadata": {},
   "source": [
    "        Term | High Bias | High Variance\n",
    "        Definition | Model too simple | Model too complex\n",
    "        Problem | Underfitting | Overfitting\n",
    "        Example | Linear regression on curves | Decision tree with deep depth\n",
    "        Fix | Add complexity, more features | Simplify model, regularize"
   ]
  },
  {
   "cell_type": "markdown",
   "metadata": {},
   "source": [
    "Q7: What is regularization in machine learning, and how can it be used to prevent overfitting? Describe\n",
    "some common regularization techniques and how they work"
   ]
  },
  {
   "cell_type": "code",
   "execution_count": 8,
   "metadata": {},
   "outputs": [],
   "source": [
    "# Regularization is a technique to prevent overfitting by adding a penalty to the loss function for large weights.\n",
    "\n",
    "# Common Types:\n",
    "\n",
    "# L1 (Lasso): Adds sum of absolute weights. Can reduce some weights to zero (feature selection).\n",
    "\n",
    "# L2 (Ridge): Adds sum of squared weights. Shrinks all weights uniformly.\n",
    "\n",
    "# Elastic Net: Combines L1 and L2.\n",
    "\n",
    "# How it works:\n",
    "# It discourages complex models by penalizing large coefficients, thus promoting simpler models that generalize better."
   ]
  },
  {
   "cell_type": "code",
   "execution_count": null,
   "metadata": {},
   "outputs": [],
   "source": []
  },
  {
   "cell_type": "code",
   "execution_count": null,
   "metadata": {},
   "outputs": [],
   "source": []
  },
  {
   "cell_type": "markdown",
   "metadata": {},
   "source": []
  }
 ],
 "metadata": {
  "kernelspec": {
   "display_name": "Python 3",
   "language": "python",
   "name": "python3"
  },
  "language_info": {
   "codemirror_mode": {
    "name": "ipython",
    "version": 3
   },
   "file_extension": ".py",
   "mimetype": "text/x-python",
   "name": "python",
   "nbconvert_exporter": "python",
   "pygments_lexer": "ipython3",
   "version": "3.11.4"
  }
 },
 "nbformat": 4,
 "nbformat_minor": 2
}
