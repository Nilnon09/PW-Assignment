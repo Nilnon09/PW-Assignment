{
 "cells": [
  {
   "cell_type": "markdown",
   "metadata": {},
   "source": [
    "Q1. What is the Filter method in feature selection, and how does it work?"
   ]
  },
  {
   "cell_type": "code",
   "execution_count": 1,
   "metadata": {},
   "outputs": [],
   "source": [
    "# The Filter method selects features based on statistical metrics that evaluate the relationship between input features and the target variable before applying any machine learning model.\n",
    "\n",
    "# How it works:\n",
    "\n",
    "# It ranks features using metrics like:\n",
    "\n",
    "# Correlation coefficient (for regression)\n",
    "\n",
    "# Chi-square test (for classification)\n",
    "\n",
    "# Mutual information\n",
    "\n",
    "# ANOVA F-score\n",
    "\n",
    "# Selects top-ranked features for the model.\n",
    "\n",
    "# Example: Removing features that are highly correlated (correlation threshold) or have low variance."
   ]
  },
  {
   "cell_type": "markdown",
   "metadata": {},
   "source": [
    "Q2. How does the Wrapper method differ from the Filter method in feature selection?"
   ]
  },
  {
   "cell_type": "markdown",
   "metadata": {},
   "source": [
    "        Aspect | Filter Method | Wrapper Method\n",
    "\n",
    "        Based on | Statistical metrics | Model performance\n",
    "        Model usage | Independent of any model | Requires a predictive model\n",
    "        Computation | Fast and less expensive | Slower, computationally heavy\n",
    "        Output | Generic across models | Tailored to specific model"
   ]
  },
  {
   "cell_type": "code",
   "execution_count": 2,
   "metadata": {},
   "outputs": [],
   "source": [
    "# Example:\n",
    "\n",
    "# Filter: Select top 10 features with highest correlation.\n",
    "\n",
    "# Wrapper: Try different subsets of features and evaluate model performance (e.g., using cross-validation)"
   ]
  },
  {
   "cell_type": "markdown",
   "metadata": {},
   "source": [
    "Q3. What are some common techniques used in Embedded feature selection methods?"
   ]
  },
  {
   "cell_type": "code",
   "execution_count": 3,
   "metadata": {},
   "outputs": [],
   "source": [
    "# Embedded methods perform feature selection during model training, using the model’s own learning process.\n",
    "\n",
    "# Common Techniques:\n",
    "\n",
    "# Lasso Regression (L1 Regularization): Shrinks some coefficients to zero.\n",
    "\n",
    "# Ridge Regression (L2): Penalizes large coefficients (not for selection but stability).\n",
    "\n",
    "# Decision Trees / Random Forests: Use feature importance scores.\n",
    "\n",
    "# Gradient Boosting (e.g., XGBoost, LightGBM): Uses built-in feature importance."
   ]
  },
  {
   "cell_type": "markdown",
   "metadata": {},
   "source": [
    "Q4. What are some drawbacks of using the Filter method for feature selection?"
   ]
  },
  {
   "cell_type": "code",
   "execution_count": 4,
   "metadata": {},
   "outputs": [],
   "source": [
    "# Ignores interactions between features.\n",
    "# May select redundant features (e.g., multiple highly correlated features).\n",
    "# Doesn’t consider feature importance in the context of a model.\n",
    "# Not optimal for model-specific tuning"
   ]
  },
  {
   "cell_type": "markdown",
   "metadata": {},
   "source": [
    "Q5. In which situations would you prefer using the Filter method over the Wrapper method for feature\n",
    "selection?"
   ]
  },
  {
   "cell_type": "code",
   "execution_count": 5,
   "metadata": {},
   "outputs": [],
   "source": [
    "# Use the Filter method when:\n",
    "\n",
    "# You have a very large dataset (many features).\n",
    "\n",
    "# You need fast computation and a baseline.\n",
    "\n",
    "# You want to reduce dimensionality before applying a model.\n",
    "\n",
    "# You want model-agnostic feature selection"
   ]
  },
  {
   "cell_type": "markdown",
   "metadata": {},
   "source": [
    "Q6. In a telecom company, you are working on a project to develop a predictive model for customer churn.\n",
    "You are unsure of which features to include in the model because the dataset contains several different\n",
    "ones. Describe how you would choose the most pertinent attributes for the model using the Filter Method."
   ]
  },
  {
   "cell_type": "code",
   "execution_count": 7,
   "metadata": {},
   "outputs": [],
   "source": [
    "# 1.Initial Data Cleaning: Handle missing values and encode categorical features.\n",
    "\n",
    "# 2.Univariate Feature Selection:\n",
    "# Use Chi-square test (for categorical target).\n",
    "# Use Mutual Information for both categorical and continuous.\n",
    "\n",
    "# 3.Correlation Analysis:\n",
    "# Drop features with low correlation to target.\n",
    "# Drop features highly correlated with each other.\n",
    "\n",
    "# 4.Select Top Features: Choose top N based on scores.\n",
    "\n",
    "# 5.Feed into the model: Use filtered features to train initial model."
   ]
  },
  {
   "cell_type": "markdown",
   "metadata": {},
   "source": [
    "Q7. You are working on a project to predict the outcome of a soccer match. You have a large dataset with\n",
    "many features, including player statistics and team rankings. Explain how you would use the Embedded\n",
    "method to select the most relevant features for the model."
   ]
  },
  {
   "cell_type": "code",
   "execution_count": 11,
   "metadata": {},
   "outputs": [],
   "source": [
    "# 1.Data Preprocessing: Clean and encode player stats, team rankings.\n",
    "\n",
    "# 2.Model Selection: Choose a model with built-in feature selection like:\n",
    "# Lasso (for linear problems)\n",
    "# Tree-based models (Random Forest, XGBoost)\n",
    "\n",
    "# 3.Train Model:\n",
    "# Fit the model to training data.\n",
    "# Extract feature importance scores or non-zero coefficients.\n",
    "\n",
    "# 4.Feature Ranking:\n",
    "# Select top features contributing most to prediction.\n",
    "\n",
    "# 5.Retrain Final Model: Use selected features to improve efficiency and generalization"
   ]
  },
  {
   "cell_type": "markdown",
   "metadata": {},
   "source": [
    "Q8. You are working on a project to predict the price of a house based on its features, such as size, location,\n",
    "and age. You have a limited number of features, and you want to ensure that you select the most important\n",
    "ones for the model. Explain how you would use the Wrapper method to select the best set of features for the\n",
    "predictor"
   ]
  },
  {
   "cell_type": "code",
   "execution_count": 10,
   "metadata": {},
   "outputs": [],
   "source": [
    "# 1.Start with All Features: Size, location, age, etc.\n",
    "\n",
    "# 2.Choose an Algorithm: Linear regression or decision tree.\n",
    "\n",
    "# 3.Apply Wrapper Technique:\n",
    "# Forward Selection: Start with no features, add one at a time based on performance.\n",
    "# Backward Elimination: Start with all features, remove one at a time.\n",
    "# Recursive Feature Elimination (RFE): Systematically remove least important feature.\n",
    "\n",
    "# 4.Evaluate Using Cross-validation: Use metrics like RMSE or R².\n",
    "\n",
    "# 5.Select Optimal Subset: Choose feature set with best performance on validation data."
   ]
  },
  {
   "cell_type": "code",
   "execution_count": null,
   "metadata": {},
   "outputs": [],
   "source": []
  },
  {
   "cell_type": "code",
   "execution_count": null,
   "metadata": {},
   "outputs": [],
   "source": []
  },
  {
   "cell_type": "markdown",
   "metadata": {},
   "source": []
  }
 ],
 "metadata": {
  "kernelspec": {
   "display_name": "Python 3",
   "language": "python",
   "name": "python3"
  },
  "language_info": {
   "codemirror_mode": {
    "name": "ipython",
    "version": 3
   },
   "file_extension": ".py",
   "mimetype": "text/x-python",
   "name": "python",
   "nbconvert_exporter": "python",
   "pygments_lexer": "ipython3",
   "version": "3.11.4"
  }
 },
 "nbformat": 4,
 "nbformat_minor": 2
}
