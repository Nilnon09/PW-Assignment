{
 "cells": [
  {
   "cell_type": "markdown",
   "metadata": {},
   "source": [
    "Q1. What is Statistics?"
   ]
  },
  {
   "cell_type": "code",
   "execution_count": 1,
   "metadata": {},
   "outputs": [],
   "source": [
    "#Statistics is a branch of mathematics that deals with collecting, organizing, analyzing, interpreting, and presenting data. \n",
    "# It helps us understand data patterns, draw conclusions, and make informed decisions based on data."
   ]
  },
  {
   "cell_type": "markdown",
   "metadata": {},
   "source": [
    "Q2. Define the different types of statistics and give an example of when each type might be used."
   ]
  },
  {
   "cell_type": "code",
   "execution_count": 2,
   "metadata": {},
   "outputs": [],
   "source": [
    "# There are two main types of statistics:\n",
    "\n",
    "# Descriptive Statistics:\n",
    "# These summarize and describe the main features of a dataset.\n",
    "# Example: Calculating the average marks of students in a class.\n",
    "\n",
    "# Inferential Statistics:\n",
    "# These are used to draw conclusions and make predictions about a population based on a sample.\n",
    "# Example: Estimating the average height of people in a city by analyzing a random sample."
   ]
  },
  {
   "cell_type": "markdown",
   "metadata": {},
   "source": [
    "Q3. What are the different types of data and how do they differ from each other? Provide an example of each type of data."
   ]
  },
  {
   "cell_type": "code",
   "execution_count": 3,
   "metadata": {},
   "outputs": [],
   "source": [
    "# Data can be classified into two main types:\n",
    "\n",
    "# Qualitative (Categorical) Data:\n",
    "# This type describes qualities or characteristics.\n",
    "# Example: Eye color (blue, brown, green).\n",
    "\n",
    "# Quantitative (Numerical) Data:\n",
    "# This type represents numerical values. It can be further divided into:\n",
    "\n",
    "# Discrete Data: Countable values. Example: Number of students in a class.\n",
    "\n",
    "# Continuous Data: Measurable values. Example: Height of individuals."
   ]
  },
  {
   "cell_type": "markdown",
   "metadata": {},
   "source": [
    "Q4. Categorize the following datasets with respect to quantitative and qualitative data types:"
   ]
  },
  {
   "cell_type": "code",
   "execution_count": 4,
   "metadata": {},
   "outputs": [],
   "source": [
    "# (i) Grading in exam: A+, A, B+, B, C+, C, D, E\n",
    "# → Qualitative (Ordinal)\n",
    "\n",
    "# (ii) Colour of mangoes: yellow, green, orange, red\n",
    "# → Qualitative (Nominal)\n",
    "\n",
    "# (iii) Height data of a class: [178.9, 179, 179.5, 176, 177.2, 178.3, 175.8,…]\n",
    "# → Quantitative (Continuous)\n",
    "\n",
    "# (iv) Number of mangoes exported by a farm: [500, 600, 478, 672,…]\n",
    "# → Quantitative (Discrete)"
   ]
  },
  {
   "cell_type": "markdown",
   "metadata": {},
   "source": [
    "Q5. Explain the concept of levels of measurement and give an example of a variable for each level."
   ]
  },
  {
   "cell_type": "code",
   "execution_count": 5,
   "metadata": {},
   "outputs": [],
   "source": [
    "# Levels of measurement refer to the ways variables can be categorized, measured, or classified. The four levels are:\n",
    "\n",
    "# Nominal: Categories with no order.\n",
    "# Example: Gender (Male, Female)\n",
    "\n",
    "# Ordinal: Categories with a meaningful order but not equal spacing.\n",
    "# Example: Education level (High school, Bachelor's, Master's)\n",
    "\n",
    "# Interval: Ordered data with equal intervals but no true zero.\n",
    "# Example: Temperature in Celsius\n",
    "\n",
    "# Ratio: Like interval but with a true zero point.\n",
    "# Example: Weight in kilograms"
   ]
  },
  {
   "cell_type": "markdown",
   "metadata": {},
   "source": [
    "Q6. Why is it important to understand the level of measurement when analyzing data? Provide an example to illustrate your answer."
   ]
  },
  {
   "cell_type": "code",
   "execution_count": 6,
   "metadata": {},
   "outputs": [],
   "source": [
    "# Understanding the level of measurement is important because it determines what statistical operations and visualizations are valid.\n",
    "\n",
    "# Example:\n",
    "# You can calculate the mean of ratio data like income, but not for nominal data like types of fruit. Using incorrect analysis (like calculating an average of colors) would give meaningless results."
   ]
  },
  {
   "cell_type": "markdown",
   "metadata": {},
   "source": [
    "Q7. How is the nominal data type different from the ordinal data type?"
   ]
  },
  {
   "cell_type": "code",
   "execution_count": 7,
   "metadata": {},
   "outputs": [],
   "source": [
    "# Nominal Data: Categories without any specific order.\n",
    "# Example: Types of fruits (apple, banana, mango)\n",
    "\n",
    "# Ordinal Data: Categories with a defined order or ranking.\n",
    "# Example: Movie ratings (Excellent, Good, Fair, Poor)"
   ]
  },
  {
   "cell_type": "markdown",
   "metadata": {},
   "source": [
    "Q8. Which type of plot can be used to display data in terms of range?"
   ]
  },
  {
   "cell_type": "code",
   "execution_count": 8,
   "metadata": {},
   "outputs": [],
   "source": [
    "# A Box Plot (Box-and-Whisker Plot) is used to display data in terms of range. It shows the minimum, first quartile, median, third quartile, and maximum of a dataset."
   ]
  },
  {
   "cell_type": "markdown",
   "metadata": {},
   "source": [
    "Q9. Describe the difference between descriptive and inferential statistics. Give an example of each type of statistics and explain how they are used"
   ]
  },
  {
   "cell_type": "code",
   "execution_count": 9,
   "metadata": {},
   "outputs": [],
   "source": [
    "# Descriptive Statistics: Summarizes features of a dataset.\n",
    "# Example: Calculating average marks in a class.\n",
    "# Use: Helps describe the current data.\n",
    "\n",
    "# Inferential Statistics: Makes predictions or generalizations about a population using a sample.\n",
    "# Example: Predicting election results from a voter sample.\n",
    "# Use: Helps make conclusions beyond the available data"
   ]
  },
  {
   "cell_type": "markdown",
   "metadata": {},
   "source": [
    "Q10. What are some common measures of central tendency and variability used in statistics? Explain how each measure can be used to describe a dataset."
   ]
  },
  {
   "cell_type": "code",
   "execution_count": 10,
   "metadata": {},
   "outputs": [],
   "source": [
    "# Measures of Central Tendency:\n",
    "\n",
    "# Mean: Average of the dataset.\n",
    "# Use: Gives a central value but can be affected by outliers.\n",
    "\n",
    "# Median: Middle value when data is sorted.\n",
    "# Use: Good for skewed data or when outliers exist.\n",
    "\n",
    "# Mode: Most frequent value.\n",
    "# Use: Useful for categorical data.\n",
    "\n",
    "# Measures of Variability:\n",
    "\n",
    "# Range: Difference between maximum and minimum.\n",
    "# Use: Shows the spread of data.\n",
    "\n",
    "# Variance: Average of squared deviations from the mean.\n",
    "# Use: Measures data spread.\n",
    "\n",
    "# Standard Deviation: Square root of variance.\n",
    "# Use: Indicates how data is spread out from the mean."
   ]
  },
  {
   "cell_type": "markdown",
   "metadata": {},
   "source": []
  }
 ],
 "metadata": {
  "kernelspec": {
   "display_name": "Python 3",
   "language": "python",
   "name": "python3"
  },
  "language_info": {
   "codemirror_mode": {
    "name": "ipython",
    "version": 3
   },
   "file_extension": ".py",
   "mimetype": "text/x-python",
   "name": "python",
   "nbconvert_exporter": "python",
   "pygments_lexer": "ipython3",
   "version": "3.11.4"
  }
 },
 "nbformat": 4,
 "nbformat_minor": 2
}
