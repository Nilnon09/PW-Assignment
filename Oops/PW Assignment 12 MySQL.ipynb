{
 "cells": [
  {
   "cell_type": "markdown",
   "metadata": {},
   "source": [
    "Q1. What is a database? Differentiate between SQL and NoSQL databases."
   ]
  },
  {
   "cell_type": "code",
   "execution_count": 1,
   "metadata": {},
   "outputs": [],
   "source": [
    "#A database is a structured collection of data that allows storing, managing, and retrieving information efficiently.\n",
    "\n",
    "#SQL (relational DB)\n",
    "#structure = Tables(rows and columns)\n",
    "#schema = fixed(predefiend schema)\n",
    "#query language = SQL\n",
    "#example = MySQL, PostgresSQL\n",
    "\n",
    "#NoSQL (non-relational DB)\n",
    "#structure = Documents, key-value, graphs\n",
    "#schema = flexible\n",
    "#Query language = JSON-like, varies by type\n",
    "#example = mongoDB, Cassandra, Redis, Firebase"
   ]
  },
  {
   "cell_type": "markdown",
   "metadata": {},
   "source": [
    " Q2. What is DDL? Explain CREATE, DROP, ALTER, and TRUNCATE with an example."
   ]
  },
  {
   "cell_type": "code",
   "execution_count": 2,
   "metadata": {},
   "outputs": [],
   "source": [
    "#DDL stands for Data Definition language is used to degine or change the strucutre of database object like tables\n",
    "\n",
    "#Create = Creates a new table\n",
    "#CREATE TABLE students (id INT, name VARCHAR(50));\n",
    "\n",
    "#DROP – Deletes a table permanently\n",
    "#DROP TABLE students;\n",
    "\n",
    "#ALTER – Modifies an existing table\n",
    "#ALTER TABLE students ADD age INT;\n",
    "\n",
    "#TRUNCATE – Deletes all data in a table (structure remains)\n",
    "#TRUNCATE TABLE students;\n"
   ]
  },
  {
   "cell_type": "markdown",
   "metadata": {},
   "source": [
    "Q3. What is DML? Explain INSERT, UPDATE, and DELETE with an example."
   ]
  },
  {
   "cell_type": "code",
   "execution_count": 3,
   "metadata": {},
   "outputs": [],
   "source": [
    "#DML stands for Data Manipulation Language. it is used to modify data in tables\n",
    "\n",
    "#INSERT – Adds new data\n",
    "#INSERT INTO students (id, name) VALUES (1, 'Anup');\n",
    "\n",
    "#UPDATE – Changes existing data\n",
    "#UPDATE students SET name = 'Anup Kumar' WHERE id = 1;\n",
    "\n",
    "#DELETE – Removes data\n",
    "#DELETE FROM students WHERE id = 1;\n",
    "\n"
   ]
  },
  {
   "cell_type": "markdown",
   "metadata": {},
   "source": []
  },
  {
   "cell_type": "markdown",
   "metadata": {},
   "source": [
    "Q4. What is DQL? Explain SELECT with an example."
   ]
  },
  {
   "cell_type": "code",
   "execution_count": 4,
   "metadata": {},
   "outputs": [],
   "source": [
    "#DQL stands for Data query language is used to fetch/query data from the database.\n",
    "\n",
    "#SELECT = Retrieves Data\n",
    "#SELECT * FROM students;\n",
    "\n",
    "\n",
    "#we can also filter results:\n",
    "#SELECT name FROM students WHERE age > 18;\n",
    "\n"
   ]
  },
  {
   "cell_type": "markdown",
   "metadata": {},
   "source": [
    "Q5. Explain Primary Key and Foreign Key"
   ]
  },
  {
   "cell_type": "code",
   "execution_count": 11,
   "metadata": {},
   "outputs": [
    {
     "data": {
      "text/plain": [
       "'CREATE TABLE marks (\\n  student_id INT,\\n  score INT,\\n  FOREIGN KEY (student_id) REFERENCES students(id)\\n);'"
      ]
     },
     "execution_count": 11,
     "metadata": {},
     "output_type": "execute_result"
    }
   ],
   "source": [
    "#Primary Key: A unique identifier for each record in a table. It cannot be null or duplicate.\n",
    "#example\n",
    "#CREATE TABLE students (id INT PRIMARY KEY, name VARCHAR(50));\n",
    "\n",
    "\n",
    "#Foreign Key: A key used to link two tables. It references the primary key of another table.\n",
    "#example\n",
    "\"\"\"CREATE TABLE marks (\n",
    "  student_id INT,\n",
    "  score INT,\n",
    "  FOREIGN KEY (student_id) REFERENCES students(id)\n",
    ");\"\"\"\n"
   ]
  },
  {
   "cell_type": "markdown",
   "metadata": {},
   "source": []
  },
  {
   "cell_type": "markdown",
   "metadata": {},
   "source": [
    "#Write Python code to connect MySQL to Python. Explain\n",
    "\n",
    "cursor() and execute()"
   ]
  },
  {
   "cell_type": "code",
   "execution_count": 9,
   "metadata": {},
   "outputs": [],
   "source": [
    "# import mysql.connector\n",
    "\n",
    "# conn = mysql.connector.connect(\n",
    "#     host=\"localhost\",\n",
    "#     user=\"root\",\n",
    "#     password = \"my_password\",\n",
    "#     database=\"mydatabase\"\n",
    "# )\n",
    "\n",
    "\n",
    "# cur = conn.cursor()\n",
    "\n",
    "# cur.execute(\"SELECT * FROM students\")\n",
    "\n",
    "# for row in cur.fetchall():\n",
    "#     print(row)\n",
    "    \n",
    "\n",
    "# conn.close()    \n",
    "\n",
    "\n",
    "#Cursor() = creates a cursor object to execute SQL Queries.\n",
    "#exectue() = Exectues a given SQL statement (e.g SELECT, INSERT)"
   ]
  },
  {
   "cell_type": "markdown",
   "metadata": {},
   "source": [
    "Q7. Order of Execution of SQL Clauses in a Query\n"
   ]
  },
  {
   "cell_type": "code",
   "execution_count": 10,
   "metadata": {},
   "outputs": [],
   "source": [
    "#THe logical Order in which SQL clauses are executed \n",
    "\n",
    "# 1. FROM\n",
    "# 2. WHERE\n",
    "# 3. GROUP BY\n",
    "# 4. HAVING\n",
    "# 5. SELECT\n",
    "# 6. ORDER BY\n",
    "# 7. LIMIT (or OFFSET)\n"
   ]
  },
  {
   "cell_type": "code",
   "execution_count": null,
   "metadata": {},
   "outputs": [],
   "source": []
  },
  {
   "cell_type": "code",
   "execution_count": null,
   "metadata": {},
   "outputs": [],
   "source": []
  },
  {
   "cell_type": "markdown",
   "metadata": {},
   "source": []
  }
 ],
 "metadata": {
  "kernelspec": {
   "display_name": "Python 3",
   "language": "python",
   "name": "python3"
  },
  "language_info": {
   "codemirror_mode": {
    "name": "ipython",
    "version": 3
   },
   "file_extension": ".py",
   "mimetype": "text/x-python",
   "name": "python",
   "nbconvert_exporter": "python",
   "pygments_lexer": "ipython3",
   "version": "3.11.4"
  }
 },
 "nbformat": 4,
 "nbformat_minor": 2
}
