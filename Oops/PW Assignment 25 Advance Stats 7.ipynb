{
 "cells": [
  {
   "cell_type": "markdown",
   "metadata": {},
   "source": [
    "Q1. Write a Python function that takes in two arrays of data and calculates the F-value for a variance ratio\n",
    "test. The function should return the F-value and the corresponding p-value for the test."
   ]
  },
  {
   "cell_type": "code",
   "execution_count": 1,
   "metadata": {},
   "outputs": [],
   "source": [
    "from scipy.stats import f\n",
    "import numpy as np\n",
    "\n",
    "def f_test_variance(data1, data2):\n",
    "    var1 = np.var(data1, ddof=1)\n",
    "    var2 = np.var(data2, ddof=1)\n",
    "    f_val = var1 / var2 if var1 > var2 else var2 / var1\n",
    "    dfn = len(data1) - 1\n",
    "    dfd = len(data2) - 1\n",
    "    p_val = 2 * min(f.cdf(f_val, dfn, dfd), 1 - f.cdf(f_val, dfn, dfd))\n",
    "    return f_val, p_val\n",
    "\n",
    "# Example:\n",
    "# data1 = [10, 12, 14], data2 = [8, 9, 10]\n"
   ]
  },
  {
   "cell_type": "markdown",
   "metadata": {},
   "source": [
    "Q2. Given a significance level of 0.05 and the degrees of freedom for the numerator and denominator of an\n",
    "F-distribution, write a Python function that returns the critical F-value for a two-tailed test"
   ]
  },
  {
   "cell_type": "code",
   "execution_count": 2,
   "metadata": {},
   "outputs": [],
   "source": [
    "def critical_f_value(alpha, dfn, dfd):\n",
    "    lower = f.ppf(alpha / 2, dfn, dfd)\n",
    "    upper = f.ppf(1 - alpha / 2, dfn, dfd)\n",
    "    return lower, upper\n",
    "\n",
    "# Example:\n",
    "# critical_f_value(0.05, 5, 10)\n"
   ]
  },
  {
   "cell_type": "markdown",
   "metadata": {},
   "source": [
    "Q3. Write a Python program that generates random samples from two normal distributions with known\n",
    "variances and uses an F-test to determine if the variances are equal. The program should output the F-\n",
    "value, degrees of freedom, and p-value for the test."
   ]
  },
  {
   "cell_type": "code",
   "execution_count": 11,
   "metadata": {},
   "outputs": [
    {
     "name": "stdout",
     "output_type": "stream",
     "text": [
      "F-value: 3.2515\n",
      "Degrees of freedom: 29, 29\n",
      "P-value: 0.0022\n"
     ]
    }
   ],
   "source": [
    "def random_f_test(mean1, mean2, var1, var2, n1, n2):\n",
    "    data1 = np.random.normal(mean1, np.sqrt(var1), n1)\n",
    "    data2 = np.random.normal(mean2, np.sqrt(var2), n2)\n",
    "    f_val, p_val = f_test_variance(data1, data2)\n",
    "    print(f\"F-value: {f_val:.4f}\")\n",
    "    print(f\"Degrees of freedom: {n1-1}, {n2-1}\")\n",
    "    print(f\"P-value: {p_val:.4f}\")\n",
    "\n",
    "# Example:\n",
    "random_f_test(0, 0, 10, 15, 30, 30)\n"
   ]
  },
  {
   "cell_type": "markdown",
   "metadata": {},
   "source": [
    "Q4.The variances of two populations are known to be 10 and 15. A sample of 12 observations is taken from\n",
    "each population. Conduct an F-test at the 5% significance level to determine if the variances are\n",
    "significantly different."
   ]
  },
  {
   "cell_type": "code",
   "execution_count": 12,
   "metadata": {},
   "outputs": [
    {
     "name": "stdout",
     "output_type": "stream",
     "text": [
      "F-value: 1.5000, Critical range: (0.2879, 3.4737)\n",
      "Fail to reject the null hypothesis: Variances are not significantly different.\n"
     ]
    }
   ],
   "source": [
    "def f_test_known_var(var1, var2, n1, n2, alpha=0.05):\n",
    "    f_val = var1 / var2 if var1 > var2 else var2 / var1\n",
    "    dfn = n1 - 1\n",
    "    dfd = n2 - 1\n",
    "    lower, upper = critical_f_value(alpha, dfn, dfd)\n",
    "    print(f\"F-value: {f_val:.4f}, Critical range: ({lower:.4f}, {upper:.4f})\")\n",
    "    if f_val < lower or f_val > upper:\n",
    "        print(\"Reject the null hypothesis: Variances are significantly different.\")\n",
    "    else:\n",
    "        print(\"Fail to reject the null hypothesis: Variances are not significantly different.\")\n",
    "\n",
    "# Example:\n",
    "f_test_known_var(10, 15, 12, 12)\n"
   ]
  },
  {
   "cell_type": "markdown",
   "metadata": {},
   "source": [
    "Q5. A manufacturer claims that the variance of the diameter of a certain product is 0.005. A sample of 25\n",
    "products is taken, and the sample variance is found to be 0.006. Conduct an F-test at the 1% significance\n",
    "level to determine if the claim is justified"
   ]
  },
  {
   "cell_type": "code",
   "execution_count": 13,
   "metadata": {},
   "outputs": [
    {
     "name": "stdout",
     "output_type": "stream",
     "text": [
      "F-value: 1.2000, Critical F-value (one-tailed): 2.6591\n",
      "Fail to reject the claim.\n"
     ]
    }
   ],
   "source": [
    "def test_variance_claim(sample_var, claimed_var, n, alpha=0.01):\n",
    "    f_val = sample_var / claimed_var\n",
    "    dfn = n - 1\n",
    "    crit_val = f.ppf(1 - alpha, dfn, dfn)\n",
    "    print(f\"F-value: {f_val:.4f}, Critical F-value (one-tailed): {crit_val:.4f}\")\n",
    "    if f_val > crit_val:\n",
    "        print(\"Reject the claim: Variance is significantly different.\")\n",
    "    else:\n",
    "        print(\"Fail to reject the claim.\")\n",
    "\n",
    "# Example:\n",
    "test_variance_claim(0.006, 0.005, 25)\n"
   ]
  },
  {
   "cell_type": "markdown",
   "metadata": {},
   "source": [
    "Q6. Write a Python function that takes in the degrees of freedom for the numerator and denominator of an\n",
    "F-distribution and calculates the mean and variance of the distribution. The function should return the\n",
    "mean and variance as a tuple."
   ]
  },
  {
   "cell_type": "code",
   "execution_count": 14,
   "metadata": {},
   "outputs": [
    {
     "data": {
      "text/plain": [
       "(1.25, 1.3541666666666667)"
      ]
     },
     "execution_count": 14,
     "metadata": {},
     "output_type": "execute_result"
    }
   ],
   "source": [
    "def f_dist_mean_variance(dfn, dfd):\n",
    "    mean = dfd / (dfd - 2) if dfd > 2 else np.nan\n",
    "    variance = (2 * dfd**2 * (dfn + dfd - 2)) / (dfn * (dfd - 2)**2 * (dfd - 4)) if dfd > 4 else np.nan\n",
    "    return mean, variance\n",
    "\n",
    "# Example:\n",
    "f_dist_mean_variance(5, 10)\n"
   ]
  },
  {
   "cell_type": "markdown",
   "metadata": {},
   "source": [
    "Q7. A random sample of 10 measurements is taken from a normal population with unknown variance. The\n",
    "sample variance is found to be 25. Another random sample of 15 measurements is taken from another\n",
    "normal population with unknown variance, and the sample variance is found to be 20. Conduct an F-test\n",
    "at the 10% significance level to determine if the variances are significantly different"
   ]
  },
  {
   "cell_type": "code",
   "execution_count": 15,
   "metadata": {},
   "outputs": [
    {
     "name": "stdout",
     "output_type": "stream",
     "text": [
      "F-value: 1.2500, Critical values: (0.3305, 2.6458)\n",
      "Fail to reject null hypothesis.\n"
     ]
    }
   ],
   "source": [
    "def f_test_from_sample_vars(var1, n1, var2, n2, alpha=0.10):\n",
    "    f_val = var1 / var2 if var1 > var2 else var2 / var1\n",
    "    dfn = n1 - 1\n",
    "    dfd = n2 - 1\n",
    "    lower, upper = critical_f_value(alpha, dfn, dfd)\n",
    "    print(f\"F-value: {f_val:.4f}, Critical values: ({lower:.4f}, {upper:.4f})\")\n",
    "    if f_val < lower or f_val > upper:\n",
    "        print(\"Reject null hypothesis: Variances are significantly different.\")\n",
    "    else:\n",
    "        print(\"Fail to reject null hypothesis.\")\n",
    "\n",
    "# Example:\n",
    "f_test_from_sample_vars(25, 10, 20, 15)\n"
   ]
  },
  {
   "cell_type": "markdown",
   "metadata": {},
   "source": [
    "Q8. The following data represent the waiting times in minutes at two different restaurants on a Saturday\n",
    "night: Restaurant A: 24, 25, 28, 23, 22, 20, 27; Restaurant B: 31, 33, 35, 30, 32, 36. Conduct an F-test at the 5%\n",
    "significance level to determine if the variances are significantly different."
   ]
  },
  {
   "cell_type": "code",
   "execution_count": 16,
   "metadata": {},
   "outputs": [
    {
     "name": "stdout",
     "output_type": "stream",
     "text": [
      "F-value: 1.4552, P-value: 0.6975\n",
      "Fail to reject null hypothesis.\n"
     ]
    }
   ],
   "source": [
    "restaurant_a = [24, 25, 28, 23, 22, 20, 27]\n",
    "restaurant_b = [31, 33, 35, 30, 32, 36]\n",
    "f_val, p_val = f_test_variance(restaurant_a, restaurant_b)\n",
    "print(f\"F-value: {f_val:.4f}, P-value: {p_val:.4f}\")\n",
    "if p_val < 0.05:\n",
    "    print(\"Reject null hypothesis: Variances are significantly different.\")\n",
    "else:\n",
    "    print(\"Fail to reject null hypothesis.\")\n"
   ]
  },
  {
   "cell_type": "markdown",
   "metadata": {},
   "source": [
    "Q9. The following data represent the test scores of two groups of students: Group A: 80, 85, 90, 92, 87, 83;\n",
    "Group B: 75, 78, 82, 79, 81, 84. Conduct an F-test at the 1% significance level to determine if the variances\n",
    "are significantly different"
   ]
  },
  {
   "cell_type": "code",
   "execution_count": 17,
   "metadata": {},
   "outputs": [
    {
     "name": "stdout",
     "output_type": "stream",
     "text": [
      "F-value: 1.9443, P-value: 0.4831\n",
      "Fail to reject null hypothesis.\n"
     ]
    }
   ],
   "source": [
    "group_a = [80, 85, 90, 92, 87, 83]\n",
    "group_b = [75, 78, 82, 79, 81, 84]\n",
    "f_val, p_val = f_test_variance(group_a, group_b)\n",
    "print(f\"F-value: {f_val:.4f}, P-value: {p_val:.4f}\")\n",
    "if p_val < 0.01:\n",
    "    print(\"Reject null hypothesis: Variances are significantly different.\")\n",
    "else:\n",
    "    print(\"Fail to reject null hypothesis.\")\n"
   ]
  },
  {
   "cell_type": "code",
   "execution_count": null,
   "metadata": {},
   "outputs": [],
   "source": []
  },
  {
   "cell_type": "markdown",
   "metadata": {},
   "source": []
  }
 ],
 "metadata": {
  "kernelspec": {
   "display_name": "Python 3",
   "language": "python",
   "name": "python3"
  },
  "language_info": {
   "codemirror_mode": {
    "name": "ipython",
    "version": 3
   },
   "file_extension": ".py",
   "mimetype": "text/x-python",
   "name": "python",
   "nbconvert_exporter": "python",
   "pygments_lexer": "ipython3",
   "version": "3.11.4"
  }
 },
 "nbformat": 4,
 "nbformat_minor": 2
}
