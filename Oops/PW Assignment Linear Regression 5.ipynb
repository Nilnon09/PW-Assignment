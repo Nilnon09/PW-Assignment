{
 "cells": [
  {
   "cell_type": "markdown",
   "metadata": {},
   "source": [
    "Q1. What is Elastic Net Regression and how does it differ from other regression techniques?"
   ]
  },
  {
   "cell_type": "code",
   "execution_count": 1,
   "metadata": {},
   "outputs": [],
   "source": [
    "# Elastic Net Regression is a linear regression technique that combines both L1 (Lasso) and L2 (Ridge) regularization. It balances between shrinking coefficients (like Ridge) and setting some of them to zero (like Lasso).\n",
    "\n",
    "# Loss Function:\n",
    "# Loss = RSS + λ1 * Σ|β| + λ2 * Σβ²\n",
    "\n",
    "# Difference:\n",
    "\n",
    "# Lasso → only L1 (feature selection)\n",
    "\n",
    "# Ridge → only L2 (coefficient shrinkage)\n",
    "\n",
    "# Elastic Net → combines both, making it more flexible and stable especially when features are highly correlated."
   ]
  },
  {
   "cell_type": "markdown",
   "metadata": {},
   "source": [
    "Q2. How do you choose the optimal values of the regularization parameters for Elastic Net Regression?"
   ]
  },
  {
   "cell_type": "code",
   "execution_count": 2,
   "metadata": {},
   "outputs": [],
   "source": [
    "# Elastic Net has two main parameters:\n",
    "\n",
    "# alpha (λ): overall regularization strength\n",
    "\n",
    "# l1_ratio (between 0 and 1): balance between Lasso (L1) and Ridge (L2)\n",
    "\n",
    "# Use:\n",
    "\n",
    "# Grid search with cross-validation (GridSearchCV)\n",
    "\n",
    "# ElasticNetCV in scikit-learn, which automatically selects optimal alpha and l1_ratio"
   ]
  },
  {
   "cell_type": "markdown",
   "metadata": {},
   "source": [
    "Q3. What are the advantages and disadvantages of Elastic Net Regression?\n",
    "\n"
   ]
  },
  {
   "cell_type": "code",
   "execution_count": 3,
   "metadata": {},
   "outputs": [],
   "source": [
    "# Advantages:\n",
    "\n",
    "# Handles multicollinearity well.\n",
    "\n",
    "# Performs feature selection (like Lasso).\n",
    "\n",
    "# More stable than Lasso when features are highly correlated.\n",
    "\n",
    "# Disadvantages:\n",
    "\n",
    "# Slightly more complex to tune (needs both alpha and l1_ratio).\n",
    "\n",
    "# Might not be necessary if Lasso or Ridge alone works well."
   ]
  },
  {
   "cell_type": "markdown",
   "metadata": {},
   "source": [
    "Q4. What are some common use cases for Elastic Net Regression?"
   ]
  },
  {
   "cell_type": "code",
   "execution_count": 4,
   "metadata": {},
   "outputs": [],
   "source": [
    "# High-dimensional datasets (more features than samples)\n",
    "\n",
    "# Genomics or bioinformatics (many correlated features)\n",
    "\n",
    "# Finance (predictive models with feature selection)\n",
    "\n",
    "# When both prediction accuracy and interpretability are important"
   ]
  },
  {
   "cell_type": "markdown",
   "metadata": {},
   "source": [
    "Q5. How do you interpret the coefficients in Elastic Net Regression?"
   ]
  },
  {
   "cell_type": "code",
   "execution_count": 5,
   "metadata": {},
   "outputs": [],
   "source": [
    "# Like linear regression: sign (+/–) shows direction, magnitude shows strength.\n",
    "\n",
    "# Some coefficients may be zero → feature not used (L1 effect).\n",
    "\n",
    "# Remaining non-zero coefficients indicate important predictors.\n",
    "\n",
    "# Coefficients are regularized, so they’re shrunk compared to OLS."
   ]
  },
  {
   "cell_type": "markdown",
   "metadata": {},
   "source": [
    "Q6. How do you handle missing values when using Elastic Net Regression?"
   ]
  },
  {
   "cell_type": "code",
   "execution_count": 14,
   "metadata": {},
   "outputs": [
    {
     "name": "stdout",
     "output_type": "stream",
     "text": [
      "Predictions: [235436.6095323]\n",
      "Mean Squared Error: 212092341.91482225\n",
      "Coefficients: [ 77.94830018 570.99639976 807.77531994]\n"
     ]
    }
   ],
   "source": [
    "# Before applying Elastic Net Regression, you need to handle missing values in your dataset. This can be done using imputation techniques like:\n",
    "\n",
    "# Mean/Median/Mode imputation\n",
    "\n",
    "# KNN imputation\n",
    "\n",
    "# Dropping rows/columns (if appropriate)\n",
    "\n",
    "# Here's a code example showing mean imputation using SimpleImputer from\n",
    "\n",
    "# Use imputation:\n",
    "import pandas as pd\n",
    "import numpy as np\n",
    "from sklearn.linear_model import ElasticNet\n",
    "from sklearn.model_selection import train_test_split\n",
    "from sklearn.impute import SimpleImputer\n",
    "from sklearn.metrics import mean_squared_error\n",
    "\n",
    "# Create a sample dataset with missing values\n",
    "data = {\n",
    "    'area': [1000, 1500, np.nan, 2400, 3000],\n",
    "    'bedrooms': [2, 3, 3, 4, np.nan],\n",
    "    'age': [10, 5, 3, np.nan, 15],\n",
    "    'price': [200000, 250000, 270000, 310000, 360000]\n",
    "}\n",
    "df = pd.DataFrame(data)\n",
    "\n",
    "# Split into features and target\n",
    "X = df.drop(columns=['price'])\n",
    "y = df['price']\n",
    "\n",
    "# Step 1: Handle missing values using mean imputation\n",
    "imputer = SimpleImputer(strategy='mean')\n",
    "X_imputed = imputer.fit_transform(X)\n",
    "\n",
    "# Step 2: Train/test split\n",
    "X_train, X_test, y_train, y_test = train_test_split(X_imputed, y, test_size=0.2, random_state=42)\n",
    "\n",
    "# Step 3: Train Elastic Net Regression\n",
    "model = ElasticNet(alpha=1.0, l1_ratio=0.5)\n",
    "model.fit(X_train, y_train)\n",
    "\n",
    "# Step 4: Evaluate\n",
    "predictions = model.predict(X_test)\n",
    "mse = mean_squared_error(y_test, predictions)\n",
    "\n",
    "print(\"Predictions:\", predictions)\n",
    "print(\"Mean Squared Error:\", mse)\n",
    "print(\"Coefficients:\", model.coef_)\n",
    "from sklearn.impute import SimpleImputer\n",
    "imputer = SimpleImputer(strategy='mean')  # or 'median', 'most_frequent'\n",
    "X_imputed = imputer.fit_transform(X)\n"
   ]
  },
  {
   "cell_type": "markdown",
   "metadata": {},
   "source": [
    "Q7. How do you use Elastic Net Regression for feature selection?"
   ]
  },
  {
   "cell_type": "code",
   "execution_count": 8,
   "metadata": {},
   "outputs": [],
   "source": [
    "# Train Elastic Net with appropriate alpha and l1_ratio.\n",
    "\n",
    "# After training, check model.coef_:\n",
    "# Features with non-zero coefficients are selected.\n",
    "# Features with zero coefficients are excluded.\n",
    "\n",
    "# This helps you select a subset of the most relevant features."
   ]
  },
  {
   "cell_type": "markdown",
   "metadata": {},
   "source": [
    "Q8. How do you pickle and unpickle a trained Elastic Net Regression model in Python?"
   ]
  },
  {
   "cell_type": "code",
   "execution_count": 13,
   "metadata": {},
   "outputs": [
    {
     "name": "stdout",
     "output_type": "stream",
     "text": [
      "Loaded model prediction: [235436.6095323]\n"
     ]
    }
   ],
   "source": [
    "import pickle\n",
    "\n",
    "#  Assume model is already trained (from previous example)\n",
    "\n",
    "#  Save (pickle) the model\n",
    "with open(\"elastic_net_model.pkl\", \"wb\") as f:\n",
    "    pickle.dump(model, f)\n",
    "\n",
    "#  Load (unpickle) the model\n",
    "with open(\"elastic_net_model.pkl\", \"rb\") as f:\n",
    "    loaded_model = pickle.load(f)\n",
    "\n",
    "#  Use the loaded model to make predictions\n",
    "print(\"Loaded model prediction:\", loaded_model.predict(X_test))\n"
   ]
  },
  {
   "cell_type": "markdown",
   "metadata": {},
   "source": [
    "Q9. What is the purpose of pickling a model in machine learning?"
   ]
  },
  {
   "cell_type": "code",
   "execution_count": 10,
   "metadata": {},
   "outputs": [],
   "source": [
    "# #Pickling saves the trained model to a file, so it can be:\n",
    "\n",
    "# Reused later without retraining.\n",
    "\n",
    "# Shared across systems or deployed to production.\n",
    "\n",
    "# Quickly loaded for making predictions.\n",
    "\n",
    "# It's useful for saving time and ensuring reproducibility."
   ]
  },
  {
   "cell_type": "markdown",
   "metadata": {},
   "source": []
  },
  {
   "cell_type": "code",
   "execution_count": null,
   "metadata": {},
   "outputs": [],
   "source": []
  },
  {
   "cell_type": "code",
   "execution_count": null,
   "metadata": {},
   "outputs": [],
   "source": []
  }
 ],
 "metadata": {
  "kernelspec": {
   "display_name": "Python 3",
   "language": "python",
   "name": "python3"
  },
  "language_info": {
   "codemirror_mode": {
    "name": "ipython",
    "version": 3
   },
   "file_extension": ".py",
   "mimetype": "text/x-python",
   "name": "python",
   "nbconvert_exporter": "python",
   "pygments_lexer": "ipython3",
   "version": "3.11.4"
  }
 },
 "nbformat": 4,
 "nbformat_minor": 2
}
