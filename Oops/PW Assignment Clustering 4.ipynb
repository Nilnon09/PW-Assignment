{
 "cells": [
  {
   "cell_type": "markdown",
   "metadata": {},
   "source": [
    "Q1. Explain the concept of homogeneity and completeness in clustering evaluation. How are they\n",
    "calculated?"
   ]
  },
  {
   "cell_type": "code",
   "execution_count": 1,
   "metadata": {},
   "outputs": [],
   "source": [
    "# Homogeneity measures whether each cluster contains only members of a single class.\n",
    "\n",
    "# Completeness measures whether all members of a given class are assigned to the same cluster.\n",
    "\n",
    "# Both metrics range from 0 to 1, where 1 indicates perfect clustering.\n",
    "\n",
    "# Formulas (conceptual):\n",
    "\n",
    "#homogeneity : h = 1 - H(C|K)/H(C)\n",
    "#completeness : c = 1 - H(K|C)/H(K)\n",
    "# where\n",
    "# H(C|K) is the conditional entropy of the class given the cluster\n",
    "#H(C),H(K) are the entropies of class and cluster distributions"
   ]
  },
  {
   "cell_type": "code",
   "execution_count": null,
   "metadata": {},
   "outputs": [],
   "source": []
  },
  {
   "cell_type": "markdown",
   "metadata": {},
   "source": [
    "Q2. What is the V-measure in clustering evaluation? How is it related to homogeneity and completeness?"
   ]
  },
  {
   "cell_type": "code",
   "execution_count": 2,
   "metadata": {},
   "outputs": [],
   "source": [
    "# The V-measure is the harmonic mean of homogeneity and completeness:\n",
    "\n",
    "#V = 2 * (h * c) / (h + c)\n",
    "\n",
    "# where\n",
    "#h : homogeneity\n",
    "#c: completeness\n",
    "#it balances both metrics to provide an overall evaluation of cluster labelling quality\n"
   ]
  },
  {
   "cell_type": "markdown",
   "metadata": {},
   "source": [
    "Q3. How is the Silhouette Coefficient used to evaluate the quality of a clustering result? What is the range\n",
    "of its values?"
   ]
  },
  {
   "cell_type": "code",
   "execution_count": 3,
   "metadata": {},
   "outputs": [],
   "source": [
    "# The Silhouette Coefficient (S) measures how similar a point is to its own cluster compared to others:\n",
    "\n",
    "# S = b - a /max(a,b)\n",
    "#where a : avverage distance to points in the same cluster\n",
    "# b : minimum average distance to points in other clusters\n",
    "\n",
    "#range -1 to 1\n",
    "#1 = well-clustered \n",
    "#0 = no clustering\n",
    "# -1 = incorrect clustering"
   ]
  },
  {
   "cell_type": "markdown",
   "metadata": {},
   "source": [
    "Q4. How is the Davies-Bouldin Index used to evaluate the quality of a clustering result? What is the range\n",
    "of its values?"
   ]
  },
  {
   "cell_type": "code",
   "execution_count": 4,
   "metadata": {},
   "outputs": [],
   "source": [
    "# The Davies-Bouldin Index (DBI) evaluates intra-cluster similarity and inter-cluster separation:\n",
    "\n",
    "#DBI = 1/n * Σ[ max(σi, σj) / min(σi, σj)\n",
    "#range : 0 to infinity(lower is better)"
   ]
  },
  {
   "cell_type": "markdown",
   "metadata": {},
   "source": [
    "Q5. Can a clustering result have a high homogeneity but low completeness? Explain with an example."
   ]
  },
  {
   "cell_type": "code",
   "execution_count": 5,
   "metadata": {},
   "outputs": [],
   "source": [
    "# Yes. Imagine a model that creates many tiny clusters, each containing only samples of one class:\n",
    "\n",
    "# High homogeneity: All points in each cluster belong to one class.\n",
    "\n",
    "# Low completeness: Members of the same class are split across many clusters."
   ]
  },
  {
   "cell_type": "markdown",
   "metadata": {},
   "source": [
    "Q6. How can the V-measure be used to determine the optimal number of clusters in a clustering\n",
    "algorithm?"
   ]
  },
  {
   "cell_type": "code",
   "execution_count": 6,
   "metadata": {},
   "outputs": [],
   "source": [
    "# You can run the clustering algorithm for various values of k and compute the V-measure for each.\n",
    "\n",
    "# The k that gives the highest V-measure is considered optimal, balancing homogeneity and completeness.\n",
    "\n",
    "# Requires access to true class labels (i.e., supervised evaluation)."
   ]
  },
  {
   "cell_type": "markdown",
   "metadata": {},
   "source": [
    "Q7. What are some advantages and disadvantages of using the Silhouette Coefficient to evaluate a\n",
    "clustering result?"
   ]
  },
  {
   "cell_type": "code",
   "execution_count": 7,
   "metadata": {},
   "outputs": [],
   "source": [
    "# Advantages:\n",
    "# Does not require ground truth.\n",
    "# Interpretable: near 1 is good, near 0 is ambiguous.\n",
    "\n",
    "# Disadvantages:\n",
    "# Sensitive to cluster shapes and densities.\n",
    "# May not perform well with non-convex clusters (e.g., moon shapes).\n",
    "# Can be biased toward convex, evenly-sized clusters."
   ]
  },
  {
   "cell_type": "markdown",
   "metadata": {},
   "source": [
    "Q8. What are some limitations of the Davies-Bouldin Index as a clustering evaluation metric? How can\n",
    "they be overcome?"
   ]
  },
  {
   "cell_type": "code",
   "execution_count": 8,
   "metadata": {},
   "outputs": [],
   "source": [
    "# Limitations:\n",
    "# Assumes spherical clusters.\n",
    "# Sensitive to outliers.\n",
    "# Struggles with clusters of different sizes or densities.\n",
    "\n",
    "# Solutions:\n",
    "# Combine with other metrics like Silhouette Score or V-measure.\n",
    "# Use HDBSCAN or density-based methods when cluster shapes vary."
   ]
  },
  {
   "cell_type": "markdown",
   "metadata": {},
   "source": [
    "Q9. What is the relationship between homogeneity, completeness, and the V-measure? Can they have\n",
    "different values for the same clustering result"
   ]
  },
  {
   "cell_type": "code",
   "execution_count": 9,
   "metadata": {},
   "outputs": [],
   "source": [
    "# Yes, they can differ:\n",
    "\n",
    "# Homogeneity and completeness often trade off.\n",
    "\n",
    "# V-measure balances them using harmonic mean:\n",
    "\n",
    "# V = 2 * (h*C)/(h+c)\n",
    "\n",
    "#for example, a model might\n",
    "# have high homogeneity\n",
    "# but low completness\n"
   ]
  },
  {
   "cell_type": "code",
   "execution_count": null,
   "metadata": {},
   "outputs": [],
   "source": []
  },
  {
   "cell_type": "markdown",
   "metadata": {},
   "source": [
    "Q10. How can the Silhouette Coefficient be used to compare the quality of different clustering algorithms\n",
    "on the same dataset? What are some potential issues to watch out for?"
   ]
  },
  {
   "cell_type": "code",
   "execution_count": 11,
   "metadata": {},
   "outputs": [],
   "source": [
    "# Compute Silhouette Score for each algorithm.\n",
    "\n",
    "# Higher score indicates better defined clusters.\n",
    "\n",
    "# Issues:\n",
    "# Assumes convex clusters.\n",
    "# Not reliable for non-Euclidean distances.\n",
    "# Sensitive to noise and outliers.\n",
    "# Use alongside visualization or other metrics."
   ]
  },
  {
   "cell_type": "markdown",
   "metadata": {},
   "source": [
    "Q11. How does the Davies-Bouldin Index measure the separation and compactness of clusters? What are some assumptions it makes about the data and the clusters?"
   ]
  },
  {
   "cell_type": "code",
   "execution_count": 13,
   "metadata": {},
   "outputs": [],
   "source": [
    "# It evaluates:\n",
    "\n",
    "# Compactness: average intra-cluster distance\n",
    "# Separation: distance between cluster centers\n",
    "\n",
    "# Assumptions:\n",
    "# Clusters are spherical and similar in size.\n",
    "# Distances reflect cluster structure well.\n",
    "# Works best when these assumptions hold."
   ]
  },
  {
   "cell_type": "markdown",
   "metadata": {},
   "source": [
    "Q12. Can the Silhouette Coefficient be used to evaluate hierarchical clustering algorithms? If so, how?"
   ]
  },
  {
   "cell_type": "code",
   "execution_count": 14,
   "metadata": {},
   "outputs": [],
   "source": [
    "# Yes, it can:\n",
    "\n",
    "# After applying agglomerative clustering, assign cluster labels.\n",
    "\n",
    "# Compute Silhouette Score on the resulting labels.\n",
    "\n",
    "# This provides a quantitative measure of how well the data is grouped, and helps choose the optimal cut level in the dendrogram."
   ]
  },
  {
   "cell_type": "markdown",
   "metadata": {},
   "source": []
  },
  {
   "cell_type": "markdown",
   "metadata": {},
   "source": []
  },
  {
   "cell_type": "markdown",
   "metadata": {},
   "source": []
  },
  {
   "cell_type": "code",
   "execution_count": null,
   "metadata": {},
   "outputs": [],
   "source": []
  },
  {
   "cell_type": "markdown",
   "metadata": {},
   "source": []
  },
  {
   "cell_type": "markdown",
   "metadata": {},
   "source": []
  },
  {
   "cell_type": "markdown",
   "metadata": {},
   "source": []
  },
  {
   "cell_type": "code",
   "execution_count": null,
   "metadata": {},
   "outputs": [],
   "source": []
  },
  {
   "cell_type": "markdown",
   "metadata": {},
   "source": []
  }
 ],
 "metadata": {
  "kernelspec": {
   "display_name": "Python 3",
   "language": "python",
   "name": "python3"
  },
  "language_info": {
   "codemirror_mode": {
    "name": "ipython",
    "version": 3
   },
   "file_extension": ".py",
   "mimetype": "text/x-python",
   "name": "python",
   "nbconvert_exporter": "python",
   "pygments_lexer": "ipython3",
   "version": "3.11.4"
  }
 },
 "nbformat": 4,
 "nbformat_minor": 2
}
