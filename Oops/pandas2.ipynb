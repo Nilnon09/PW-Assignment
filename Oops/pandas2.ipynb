{
 "cells": [
  {
   "cell_type": "markdown",
   "id": "543e04ae",
   "metadata": {},
   "source": [
    "Q1. List any five functions of the pandas library with execution."
   ]
  },
  {
   "cell_type": "code",
   "execution_count": 1,
   "id": "c288cecb",
   "metadata": {},
   "outputs": [
    {
     "name": "stdout",
     "output_type": "stream",
     "text": [
      "   A  B\n",
      "0  1  4\n",
      "1  2  5\n",
      "2  3  6\n",
      "         A    B\n",
      "count  3.0  3.0\n",
      "mean   2.0  5.0\n",
      "std    1.0  1.0\n",
      "min    1.0  4.0\n",
      "25%    1.5  4.5\n",
      "50%    2.0  5.0\n",
      "75%    2.5  5.5\n",
      "max    3.0  6.0\n",
      "<class 'pandas.core.frame.DataFrame'>\n",
      "RangeIndex: 3 entries, 0 to 2\n",
      "Data columns (total 2 columns):\n",
      " #   Column  Non-Null Count  Dtype\n",
      "---  ------  --------------  -----\n",
      " 0   A       3 non-null      int64\n",
      " 1   B       3 non-null      int64\n",
      "dtypes: int64(2)\n",
      "memory usage: 180.0 bytes\n",
      "None\n",
      "   A\n",
      "0  1\n",
      "1  2\n",
      "2  3\n",
      "A    2.0\n",
      "B    5.0\n",
      "dtype: float64\n"
     ]
    }
   ],
   "source": [
    "import pandas as pd\n",
    "\n",
    "# Sample DataFrame\n",
    "df = pd.DataFrame({'A': [1, 2, 3], 'B': [4, 5, 6]})\n",
    "\n",
    "# 1. head() - Returns first n rows\n",
    "print(df.head())\n",
    "\n",
    "# 2. describe() - Summary statistics\n",
    "print(df.describe())\n",
    "\n",
    "# 3. info() - Metadata\n",
    "print(df.info())\n",
    "\n",
    "# 4. drop() - Drop rows/columns\n",
    "print(df.drop('B', axis=1))\n",
    "\n",
    "# 5. mean() - Mean of columns\n",
    "print(df.mean())\n"
   ]
  },
  {
   "cell_type": "markdown",
   "id": "6577f470",
   "metadata": {},
   "source": [
    "Q2. Re-index the DataFrame with a new index that starts from 1 and increments by 2 for each row."
   ]
  },
  {
   "cell_type": "code",
   "execution_count": 8,
   "id": "86258a28",
   "metadata": {},
   "outputs": [],
   "source": [
    "def reindex_df(df):\n",
    "    df = pd.DataFrame({'A': [1, 2, 3], 'B': [4, 5, 6]})\n",
    "    new_index = list(range(1, 2*len(df)+1, 2))\n",
    "    df.index = new_index\n",
    "    return df\n"
   ]
  },
  {
   "cell_type": "code",
   "execution_count": 9,
   "id": "7012e7aa",
   "metadata": {},
   "outputs": [
    {
     "data": {
      "text/html": [
       "<div>\n",
       "<style scoped>\n",
       "    .dataframe tbody tr th:only-of-type {\n",
       "        vertical-align: middle;\n",
       "    }\n",
       "\n",
       "    .dataframe tbody tr th {\n",
       "        vertical-align: top;\n",
       "    }\n",
       "\n",
       "    .dataframe thead th {\n",
       "        text-align: right;\n",
       "    }\n",
       "</style>\n",
       "<table border=\"1\" class=\"dataframe\">\n",
       "  <thead>\n",
       "    <tr style=\"text-align: right;\">\n",
       "      <th></th>\n",
       "      <th>A</th>\n",
       "      <th>B</th>\n",
       "    </tr>\n",
       "  </thead>\n",
       "  <tbody>\n",
       "    <tr>\n",
       "      <th>0</th>\n",
       "      <td>1</td>\n",
       "      <td>4</td>\n",
       "    </tr>\n",
       "    <tr>\n",
       "      <th>1</th>\n",
       "      <td>2</td>\n",
       "      <td>5</td>\n",
       "    </tr>\n",
       "    <tr>\n",
       "      <th>2</th>\n",
       "      <td>3</td>\n",
       "      <td>6</td>\n",
       "    </tr>\n",
       "  </tbody>\n",
       "</table>\n",
       "</div>"
      ],
      "text/plain": [
       "   A  B\n",
       "0  1  4\n",
       "1  2  5\n",
       "2  3  6"
      ]
     },
     "execution_count": 9,
     "metadata": {},
     "output_type": "execute_result"
    }
   ],
   "source": [
    "df"
   ]
  },
  {
   "cell_type": "markdown",
   "id": "9c6caaad",
   "metadata": {},
   "source": [
    "Q3. Calculate the sum of the first three values in the 'Values' column."
   ]
  },
  {
   "cell_type": "code",
   "execution_count": 13,
   "id": "7608d297",
   "metadata": {},
   "outputs": [],
   "source": [
    "def sum_first_three(df):\n",
    "    result = df['Values'].head(3).sum()\n",
    "    print(\"Sum of first three values:\", result)\n"
   ]
  },
  {
   "cell_type": "markdown",
   "id": "a3ea7a06",
   "metadata": {},
   "source": [
    "Q4. Create a new column 'Word_Count' from 'Text' column."
   ]
  },
  {
   "cell_type": "code",
   "execution_count": 14,
   "id": "b44683ee",
   "metadata": {},
   "outputs": [],
   "source": [
    "def add_word_count(df):\n",
    "    df['Word_Count'] = df['Text'].apply(lambda x: len(str(x).split()))\n",
    "    return df\n"
   ]
  },
  {
   "cell_type": "markdown",
   "id": "ba41ef8e",
   "metadata": {},
   "source": [
    "Q5. How are DataFrame.size() and DataFrame.shape() different?"
   ]
  },
  {
   "cell_type": "markdown",
   "id": "4f342af9",
   "metadata": {},
   "source": [
    "DataFrame.size: Total number of elements in the DataFrame (rows × columns).\n",
    "\n",
    "DataFrame.shape: Tuple indicating (number of rows, number of columns)."
   ]
  },
  {
   "cell_type": "code",
   "execution_count": 15,
   "id": "7a5a0a07",
   "metadata": {},
   "outputs": [
    {
     "data": {
      "text/plain": [
       "6"
      ]
     },
     "execution_count": 15,
     "metadata": {},
     "output_type": "execute_result"
    }
   ],
   "source": [
    "df.size"
   ]
  },
  {
   "cell_type": "markdown",
   "id": "40d48363",
   "metadata": {},
   "source": [
    "Q6. Which function of pandas do we use to read an excel file?"
   ]
  },
  {
   "cell_type": "code",
   "execution_count": 18,
   "id": "740d4e24",
   "metadata": {},
   "outputs": [
    {
     "data": {
      "text/plain": [
       "'pd.read_excel(file_name.xlsx)'"
      ]
     },
     "execution_count": 18,
     "metadata": {},
     "output_type": "execute_result"
    }
   ],
   "source": [
    "'pd.read_excel(''file_name.xlsx'')'\n"
   ]
  },
  {
   "cell_type": "markdown",
   "id": "bb5e253e",
   "metadata": {},
   "source": [
    "Q7. Extract username from 'Email' column into new 'Username' column."
   ]
  },
  {
   "cell_type": "code",
   "execution_count": 19,
   "id": "b2548131",
   "metadata": {},
   "outputs": [],
   "source": [
    "def extract_username(df):\n",
    "    df['Username'] = df['Email'].apply(lambda x: x.split('@')[0])\n",
    "    return df\n"
   ]
  },
  {
   "cell_type": "markdown",
   "id": "efbd1368",
   "metadata": {},
   "source": [
    "Q8. Select rows where column 'A' > 5 and 'B' < 10."
   ]
  },
  {
   "cell_type": "code",
   "execution_count": 20,
   "id": "9d4730b2",
   "metadata": {},
   "outputs": [],
   "source": [
    "def filter_rows(df):\n",
    "    return df[(df['A'] > 5) & (df['B'] < 10)]\n"
   ]
  },
  {
   "cell_type": "markdown",
   "id": "eb993429",
   "metadata": {},
   "source": [
    "Q9. Calculate mean, median, and std of 'Values' column."
   ]
  },
  {
   "cell_type": "code",
   "execution_count": 21,
   "id": "1d316727",
   "metadata": {},
   "outputs": [],
   "source": [
    "def calculate_stats(df):\n",
    "    mean = df['Values'].mean()\n",
    "    median = df['Values'].median()\n",
    "    std = df['Values'].std()\n",
    "    return mean, median, std\n"
   ]
  },
  {
   "cell_type": "markdown",
   "id": "2320a0d1",
   "metadata": {},
   "source": [
    "Q10. Create a 'MovingAverage' column using 7-day window on 'Sales'."
   ]
  },
  {
   "cell_type": "code",
   "execution_count": 22,
   "id": "0e68d8db",
   "metadata": {},
   "outputs": [],
   "source": [
    "def add_moving_average(df):\n",
    "    df['MovingAverage'] = df['Sales'].rolling(window=7).mean()\n",
    "    return df\n"
   ]
  },
  {
   "cell_type": "markdown",
   "id": "131148fb",
   "metadata": {},
   "source": [
    "Q11. Add 'Weekday' column from 'Date' column."
   ]
  },
  {
   "cell_type": "code",
   "execution_count": 23,
   "id": "b16bd483",
   "metadata": {},
   "outputs": [],
   "source": [
    "def add_weekday(df):\n",
    "    df['Date'] = pd.to_datetime(df['Date'])\n",
    "    df['Weekday'] = df['Date'].dt.day_name()\n",
    "    return df\n"
   ]
  },
  {
   "cell_type": "markdown",
   "id": "b779a9dc",
   "metadata": {},
   "source": [
    "Q12. Select rows between '2023-01-01' and '2023-01-31'."
   ]
  },
  {
   "cell_type": "code",
   "execution_count": 24,
   "id": "0ad6246d",
   "metadata": {},
   "outputs": [],
   "source": [
    "def filter_by_date(df):\n",
    "    df['Date'] = pd.to_datetime(df['Date'])\n",
    "    return df[(df['Date'] >= '2023-01-01') & (df['Date'] <= '2023-01-31')]\n"
   ]
  },
  {
   "cell_type": "markdown",
   "id": "a374481a",
   "metadata": {},
   "source": [
    "Q13. What is the first and foremost necessary library to import in pandas?"
   ]
  },
  {
   "cell_type": "code",
   "execution_count": 25,
   "id": "b74973e8",
   "metadata": {},
   "outputs": [],
   "source": [
    "import pandas as pd\n"
   ]
  },
  {
   "cell_type": "markdown",
   "id": "49cf6728",
   "metadata": {},
   "source": []
  }
 ],
 "metadata": {
  "kernelspec": {
   "display_name": "Python 3",
   "language": "python",
   "name": "python3"
  },
  "language_info": {
   "codemirror_mode": {
    "name": "ipython",
    "version": 3
   },
   "file_extension": ".py",
   "mimetype": "text/x-python",
   "name": "python",
   "nbconvert_exporter": "python",
   "pygments_lexer": "ipython3",
   "version": "3.11.9"
  }
 },
 "nbformat": 4,
 "nbformat_minor": 5
}
