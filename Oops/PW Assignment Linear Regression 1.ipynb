{
 "cells": [
  {
   "cell_type": "markdown",
   "metadata": {},
   "source": [
    "Q1. Explain the difference between simple linear regression and multiple linear regression. Provide an\n",
    "example of each."
   ]
  },
  {
   "cell_type": "code",
   "execution_count": 2,
   "metadata": {},
   "outputs": [],
   "source": [
    "# Simple linear regression involves one independent variable used to predict one dependent variable.\n",
    "# Multiple linear regression uses two or more independent variables to predict a dependent variable.\n",
    "\n",
    "# Example (Simple Linear Regression):\n",
    "# Predicting house price based on size:\n",
    "# Price = β₀ + β₁ * Size\n",
    "\n",
    "# Example (Multiple Linear Regression):\n",
    "# Predicting house price based on size, number of bedrooms, and age:\n",
    "# Price = β₀ + β₁ * Size + β₂ * Bedrooms + β₃ * Age"
   ]
  },
  {
   "cell_type": "markdown",
   "metadata": {},
   "source": [
    "Q2. Discuss the assumptions of linear regression. How can you check whether these assumptions hold in a given dataset?"
   ]
  },
  {
   "cell_type": "code",
   "execution_count": 3,
   "metadata": {},
   "outputs": [],
   "source": [
    "# Assumptions of linear regression:\n",
    "\n",
    "# Linearity: Relationship between independent and dependent variables is linear.\n",
    "# Check: Use scatter plots or residual vs. fitted plots.\n",
    "\n",
    "# Independence: Observations are independent.\n",
    "# Check: Durbin-Watson test for autocorrelation.\n",
    "\n",
    "# Homoscedasticity: Constant variance of residuals.\n",
    "# Check: Plot residuals; should show no clear pattern.\n",
    "\n",
    "# Normality of residuals: Residuals should be normally distributed.\n",
    "# Check: Histogram or Q-Q plot of residuals.\n",
    "\n",
    "# No multicollinearity (for multiple regression):\n",
    "# Check: Variance Inflation Factor (VIF)"
   ]
  },
  {
   "cell_type": "markdown",
   "metadata": {},
   "source": [
    "Q3. How do you interpret the slope and intercept in a linear regression model? Provide an example using\n",
    "a real-world scenario"
   ]
  },
  {
   "cell_type": "code",
   "execution_count": 12,
   "metadata": {},
   "outputs": [],
   "source": [
    "# Intercept (β₀): Predicted value of the dependent variable when all independent variables are zero.\n",
    "# Slope (β₁): The change in the dependent variable for a one-unit change in the independent variable.\n",
    "\n",
    "# Example:\n",
    "# In a model: Salary = 20,000 + 5,000 * YearsExperience\n",
    "# Intercept: Base salary is ₹20,000 when experience is 0.\n",
    "# Slope: For every extra year of experience, salary increases by ₹5,000"
   ]
  },
  {
   "cell_type": "markdown",
   "metadata": {},
   "source": [
    "Q4. Explain the concept of gradient descent. How is it used in machine learning?"
   ]
  },
  {
   "cell_type": "code",
   "execution_count": 5,
   "metadata": {},
   "outputs": [],
   "source": [
    "# Gradient descent is an optimization algorithm used to minimize a cost/loss function by iteratively updating model parameters in the direction of the negative gradient.\n",
    "\n",
    "# In machine learning, it's used to find the best-fitting line or parameters for models by minimizing error (e.g., Mean Squared Error in regression)."
   ]
  },
  {
   "cell_type": "markdown",
   "metadata": {},
   "source": [
    "Q5. Describe the multiple linear regression model. How does it differ from simple linear regression?"
   ]
  },
  {
   "cell_type": "code",
   "execution_count": 6,
   "metadata": {},
   "outputs": [],
   "source": [
    "# Multiple linear regression predicts a dependent variable using more than one independent variable. The model is:\n",
    "# Y = β₀ + β₁X₁ + β₂X₂ + ... + βₙXₙ + ε\n",
    "\n",
    "# It differs from simple linear regression, which uses only one independent variable:\n",
    "# Y = β₀ + β₁X + ε\n",
    "\n",
    "# The key difference is the number of predictors used"
   ]
  },
  {
   "cell_type": "markdown",
   "metadata": {},
   "source": [
    "Q6. Explain the concept of multicollinearity in multiple linear regression. How can you detect and\n",
    "address this issue"
   ]
  },
  {
   "cell_type": "code",
   "execution_count": 11,
   "metadata": {},
   "outputs": [],
   "source": [
    "# Multicollinearity occurs when independent variables are highly correlated with each other, making it difficult to isolate the effect of each variable.\n",
    "\n",
    "# Detection:\n",
    "# High Variance Inflation Factor (VIF > 5 or 10)\n",
    "# Correlation matrix showing high correlations\n",
    "\n",
    "# Addressing:\n",
    "# Remove or combine correlated variables\n",
    "# Use dimensionality reduction (e.g., PCA)\n",
    "# Use regularization (Ridge, Lasso"
   ]
  },
  {
   "cell_type": "markdown",
   "metadata": {},
   "source": [
    "Q7. Describe the polynomial regression model. How is it different from linear regression?"
   ]
  },
  {
   "cell_type": "code",
   "execution_count": 8,
   "metadata": {},
   "outputs": [],
   "source": [
    "# Polynomial regression models a nonlinear relationship between the independent and dependent variable by including polynomial terms (squared, cubic, etc.).\n",
    "\n",
    "# Example:\n",
    "# Y = β₀ + β₁X + β₂X² + β₃X³ + ... + ε\n",
    "\n",
    "# Unlike linear regression which fits a straight line, polynomial regression fits a curve."
   ]
  },
  {
   "cell_type": "markdown",
   "metadata": {},
   "source": [
    "Q8. What are the advantages and disadvantages of polynomial regression compared to linear\n",
    "regression? In what situations would you prefer to use polynomial regression?"
   ]
  },
  {
   "cell_type": "code",
   "execution_count": 10,
   "metadata": {},
   "outputs": [],
   "source": [
    "# Advantages:\n",
    "# Can model nonlinear relationships.\n",
    "# More flexible than linear regression.\n",
    "\n",
    "# Disadvantages:\n",
    "# Can overfit the data, especially with high-degree polynomials.\n",
    "# Harder to interpret coefficients.\n",
    "# Sensitive to outliers.\n",
    "\n",
    "# When to use:\n",
    "# When the data shows a clear nonlinear trend that cannot be captured by a straight line."
   ]
  },
  {
   "cell_type": "code",
   "execution_count": null,
   "metadata": {},
   "outputs": [],
   "source": []
  }
 ],
 "metadata": {
  "kernelspec": {
   "display_name": "Python 3",
   "language": "python",
   "name": "python3"
  },
  "language_info": {
   "codemirror_mode": {
    "name": "ipython",
    "version": 3
   },
   "file_extension": ".py",
   "mimetype": "text/x-python",
   "name": "python",
   "nbconvert_exporter": "python",
   "pygments_lexer": "ipython3",
   "version": "3.11.4"
  }
 },
 "nbformat": 4,
 "nbformat_minor": 2
}
