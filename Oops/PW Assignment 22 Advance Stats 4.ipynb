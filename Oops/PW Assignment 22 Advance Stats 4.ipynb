{
 "cells": [
  {
   "cell_type": "markdown",
   "metadata": {},
   "source": [
    "Q1: Difference between a t-test and a z-test"
   ]
  },
  {
   "cell_type": "code",
   "execution_count": 2,
   "metadata": {},
   "outputs": [],
   "source": [
    "#T test\n",
    "# when to use : Population Standard Deviation is unkown\n",
    "# sample size n < 30\n",
    "# distribution : Student's t distribution\n",
    "#example :Comparing means of two small groups (n=25)\n",
    "\n",
    "#Z test\n",
    "#when to use : Population Standard Deviation known and large n\n",
    "# sample size n > 30\n",
    "# distribution : Standard Normal Distribution\n",
    "#exaxmple:  Testing if a sample mean differs from a population mean with known σ and n=100"
   ]
  },
  {
   "cell_type": "markdown",
   "metadata": {},
   "source": [
    "Q2: One-tailed vs Two-tailed tests"
   ]
  },
  {
   "cell_type": "code",
   "execution_count": 3,
   "metadata": {},
   "outputs": [],
   "source": [
    "# One-tailed test: Tests for effect in one direction (e.g., greater than or less than)\n",
    "\n",
    "# Two-tailed test: Tests for any difference (e.g., not equal)\n",
    "\n",
    "# Example:\n",
    "\n",
    "# One-tailed: Testing if new teaching method scores > traditional method.\n",
    "\n",
    "# Two-tailed: Testing if a new drug has any effect (increase or decrease)"
   ]
  },
  {
   "cell_type": "markdown",
   "metadata": {},
   "source": [
    "Q3: Type 1 and Type 2 Errors"
   ]
  },
  {
   "cell_type": "code",
   "execution_count": 4,
   "metadata": {},
   "outputs": [],
   "source": [
    "#Type I\n",
    "# Rejecting a true null hypothesis\t\n",
    "# example : Saying a drug works when it actually doesn't\n",
    "\n",
    "#Type II\t\n",
    "# Failing to reject a false null hypothesis\t\n",
    "# Saying a drug doesn’t work when it actually does"
   ]
  },
  {
   "cell_type": "markdown",
   "metadata": {},
   "source": [
    "Q4: Bayes’ Theorem + Example"
   ]
  },
  {
   "cell_type": "code",
   "execution_count": 5,
   "metadata": {},
   "outputs": [
    {
     "name": "stdout",
     "output_type": "stream",
     "text": [
      "Probability of disease given positive test: 0.5000\n"
     ]
    }
   ],
   "source": [
    "#the formula for bayes theorem is : P(A|B) = P(B|A) * P(A) / P(B)\n",
    "# Example:\n",
    "\n",
    "# 1% of people have a disease.\n",
    "# Test is 99% accurate.\n",
    "# What’s the chance someone who tests positive has the disease?\n",
    "\n",
    "P_disease = 0.01\n",
    "P_no_disease = 0.99\n",
    "P_pos_given_disease = 0.99\n",
    "P_pos_given_no_disease = 0.01\n",
    "\n",
    "P_pos = (P_pos_given_disease * P_disease) + (P_pos_given_no_disease * P_no_disease)\n",
    "\n",
    "P_disease_given_pos = (P_pos_given_disease * P_disease) / P_pos\n",
    "print(f\"Probability of disease given positive test: {P_disease_given_pos:.4f}\")\n"
   ]
  },
  {
   "cell_type": "markdown",
   "metadata": {},
   "source": [
    "Q5: What is a confidence interval?\n",
    "It’s a range that estimates a population parameter with a certain level of confidence."
   ]
  },
  {
   "cell_type": "code",
   "execution_count": 7,
   "metadata": {},
   "outputs": [
    {
     "name": "stdout",
     "output_type": "stream",
     "text": [
      "95% Confidence Interval: (95.10009003864987, 104.89990996135013)\n"
     ]
    }
   ],
   "source": [
    "#the formula for Confidece interval = mean +/- (Z * (standard deviation / sqrt(n)))\n",
    "# Example:\n",
    "\n",
    "# Mean = 100, σ = 15, n = 36, Confidence = 95%\n",
    "import scipy.stats as stats\n",
    "import numpy as np\n",
    "\n",
    "mean = 100\n",
    "std_dev = 15\n",
    "n = 36\n",
    "z = stats.norm.ppf(0.975)\n",
    "\n",
    "margin = z * (std_dev / np.sqrt(n))\n",
    "CI = (mean - margin, mean + margin)\n",
    "print(f\"95% Confidence Interval: {CI}\")\n"
   ]
  },
  {
   "cell_type": "markdown",
   "metadata": {},
   "source": [
    "Q6: Bayes Theorem Sample"
   ]
  },
  {
   "cell_type": "code",
   "execution_count": 8,
   "metadata": {},
   "outputs": [
    {
     "name": "stdout",
     "output_type": "stream",
     "text": [
      "Probability customer is premium given renewal: 0.4909\n"
     ]
    }
   ],
   "source": [
    "# 30% of customers are premium.\n",
    "\n",
    "# 90% of premium customers renew.\n",
    "\n",
    "# 40% of standard customers renew.\n",
    "\n",
    "# What’s the chance a customer who renewed is premium?\n",
    "P_premium = 0.3\n",
    "P_standard = 0.7\n",
    "P_renew_given_premium = 0.9\n",
    "P_renew_given_standard = 0.4\n",
    "\n",
    "P_renew = (P_renew_given_premium * P_premium) + (P_renew_given_standard * P_standard)\n",
    "P_premium_given_renew = (P_renew_given_premium * P_premium) / P_renew\n",
    "print(f\"Probability customer is premium given renewal: {P_premium_given_renew:.4f}\")\n"
   ]
  },
  {
   "cell_type": "markdown",
   "metadata": {},
   "source": [
    "Q7. Calculate the 95% confidence interval for a sample of data with a mean of 50 and a standard deviation\n",
    "of 5. Interpret the results."
   ]
  },
  {
   "cell_type": "code",
   "execution_count": 9,
   "metadata": {},
   "outputs": [
    {
     "name": "stdout",
     "output_type": "stream",
     "text": [
      "95% Confidence Interval: (40.200180077299734, 59.799819922700266)\n"
     ]
    }
   ],
   "source": [
    "mean = 50\n",
    "std = 5\n",
    "n = 1  # Assuming single value\n",
    "\n",
    "z = stats.norm.ppf(0.975)\n",
    "margin = z * std\n",
    "CI = (mean - margin, mean + margin)\n",
    "print(f\"95% Confidence Interval: {CI}\")\n"
   ]
  },
  {
   "cell_type": "markdown",
   "metadata": {},
   "source": [
    "Q8. What is the margin of error in a confidence interval? How does sample size affect the margin of error?\n",
    "Provide an example of a scenario where a larger sample size would result in a smaller margin of error"
   ]
  },
  {
   "cell_type": "code",
   "execution_count": 10,
   "metadata": {},
   "outputs": [],
   "source": [
    "# Margin of Error (MoE): Half the width of the confidence interval.\n",
    "# MoE = z * (σ / sqrt(n))\n",
    "\n",
    "# Larger sample size ⇒ Smaller MoE\n",
    "\n",
    "# Example:\n",
    "\n",
    "# Surveying 1000 vs 100 people → 1000 gives more precise results."
   ]
  },
  {
   "cell_type": "markdown",
   "metadata": {},
   "source": [
    "Q9. Calculate the z-score for a data point with a value of 75, a population mean of 70, and a population\n",
    "standard deviation of 5. Interpret the results"
   ]
  },
  {
   "cell_type": "code",
   "execution_count": 11,
   "metadata": {},
   "outputs": [],
   "source": [
    "#the formula for z score is : z = X - mean / standard deviation \n",
    "# 75 - 70 / 5 = 1.0\n",
    "#Interpretation: The value is 1 SD above the mean."
   ]
  },
  {
   "cell_type": "markdown",
   "metadata": {},
   "source": [
    "Q10. In a study of the effectiveness of a new weight loss drug, a sample of 50 participants lost an average\n",
    "of 6 pounds with a standard deviation of 2.5 pounds. Conduct a hypothesis test to determine if the drug is\n",
    "significantly effective at a 95% confidence level using a t-test."
   ]
  },
  {
   "cell_type": "code",
   "execution_count": 12,
   "metadata": {},
   "outputs": [
    {
     "name": "stdout",
     "output_type": "stream",
     "text": [
      "T-statistic: 16.970562748477143\n",
      "P-value: 3.7168840835270203e-22\n"
     ]
    }
   ],
   "source": [
    "sample_mean = 6\n",
    "mu = 0\n",
    "std = 2.5\n",
    "n = 50\n",
    "\n",
    "t_stat = (sample_mean - mu) / (std / np.sqrt(n))\n",
    "p_val = stats.t.sf(np.abs(t_stat), df=n-1) * 2\n",
    "print(\"T-statistic:\", t_stat)\n",
    "print(\"P-value:\", p_val)\n"
   ]
  },
  {
   "cell_type": "markdown",
   "metadata": {},
   "source": [
    "Q11. In a survey of 500 people, 65% reported being satisfied with their current job. Calculate the 95%\n",
    "confidence interval for the true proportion of people who are satisfied with their job"
   ]
  },
  {
   "cell_type": "code",
   "execution_count": 13,
   "metadata": {},
   "outputs": [
    {
     "name": "stdout",
     "output_type": "stream",
     "text": [
      "95% Confidence Interval: (0.6081925393809212, 0.6918074606190788)\n"
     ]
    }
   ],
   "source": [
    "p_hat = 0.65\n",
    "n = 500\n",
    "z = stats.norm.ppf(0.975)\n",
    "\n",
    "margin = z * np.sqrt((p_hat * (1 - p_hat)) / n)\n",
    "CI = (p_hat - margin, p_hat + margin)\n",
    "print(f\"95% Confidence Interval: {CI}\")\n"
   ]
  },
  {
   "cell_type": "markdown",
   "metadata": {},
   "source": [
    "Q12. A researcher is testing the effectiveness of two different teaching methods on student performance.\n",
    "Sample A has a mean score of 85 with a standard deviation of 6, while sample B has a mean score of 82\n",
    "with a standard deviation of 5. Conduct a hypothesis test to determine if the two teaching methods have a\n",
    "significant difference in student performance using a t-test with a significance level of 0.01"
   ]
  },
  {
   "cell_type": "code",
   "execution_count": 14,
   "metadata": {},
   "outputs": [
    {
     "name": "stdout",
     "output_type": "stream",
     "text": [
      "T-statistic: 2.1038606199548298\n",
      "P-value: 0.0441779623620329\n"
     ]
    }
   ],
   "source": [
    "mean1, std1, n1 = 85, 6, 30\n",
    "mean2, std2, n2 = 82, 5, 30\n",
    "\n",
    "se = np.sqrt((std1**2 / n1) + (std2**2 / n2))\n",
    "t_stat = (mean1 - mean2) / se\n",
    "p_val = stats.t.sf(np.abs(t_stat), df=min(n1-1, n2-1)) * 2\n",
    "\n",
    "print(\"T-statistic:\", t_stat)\n",
    "print(\"P-value:\", p_val)\n"
   ]
  },
  {
   "cell_type": "markdown",
   "metadata": {},
   "source": [
    "Q13. A population has a mean of 60 and a standard deviation of 8. A sample of 50 observations has a mean\n",
    "of 65. Calculate the 90% confidence interval for the true population mean"
   ]
  },
  {
   "cell_type": "code",
   "execution_count": 15,
   "metadata": {},
   "outputs": [
    {
     "name": "stdout",
     "output_type": "stream",
     "text": [
      "90% Confidence Interval: (63.13906055411732, 66.86093944588268)\n"
     ]
    }
   ],
   "source": [
    "mean = 65\n",
    "std = 8\n",
    "n = 50\n",
    "z = stats.norm.ppf(0.95)\n",
    "\n",
    "margin = z * (std / np.sqrt(n))\n",
    "CI = (mean - margin, mean + margin)\n",
    "print(f\"90% Confidence Interval: {CI}\")\n"
   ]
  },
  {
   "cell_type": "markdown",
   "metadata": {},
   "source": [
    "Q14. In a study of the effects of caffeine on reaction time, a sample of 30 participants had an average\n",
    "reaction time of 0.25 seconds with a standard deviation of 0.05 seconds. Conduct a hypothesis test to\n",
    "determine if the caffeine has a significant effect on reaction time at a 90% confidence level using a t-test"
   ]
  },
  {
   "cell_type": "code",
   "execution_count": 16,
   "metadata": {},
   "outputs": [
    {
     "name": "stdout",
     "output_type": "stream",
     "text": [
      "T-statistic: 27.386127875258307\n",
      "P-value: 2.8325244885113353e-22\n"
     ]
    }
   ],
   "source": [
    "mean = 0.25\n",
    "mu = 0  # if testing against 0\n",
    "std = 0.05\n",
    "n = 30\n",
    "\n",
    "t_stat = (mean - mu) / (std / np.sqrt(n))\n",
    "p_val = stats.t.sf(np.abs(t_stat), df=n-1) * 2\n",
    "print(\"T-statistic:\", t_stat)\n",
    "print(\"P-value:\", p_val)\n"
   ]
  },
  {
   "cell_type": "code",
   "execution_count": null,
   "metadata": {},
   "outputs": [],
   "source": []
  }
 ],
 "metadata": {
  "kernelspec": {
   "display_name": "Python 3",
   "language": "python",
   "name": "python3"
  },
  "language_info": {
   "codemirror_mode": {
    "name": "ipython",
    "version": 3
   },
   "file_extension": ".py",
   "mimetype": "text/x-python",
   "name": "python",
   "nbconvert_exporter": "python",
   "pygments_lexer": "ipython3",
   "version": "3.11.4"
  }
 },
 "nbformat": 4,
 "nbformat_minor": 2
}
