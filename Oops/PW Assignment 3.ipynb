{
 "cells": [
  {
   "cell_type": "markdown",
   "id": "6d2c2b92",
   "metadata": {},
   "source": [
    "Q1. Which keyword is used to create a function? Create a function to return a list of odd numbers in the\n",
    "range of 1 to 25."
   ]
  },
  {
   "cell_type": "code",
   "execution_count": 1,
   "id": "4a106619",
   "metadata": {},
   "outputs": [
    {
     "data": {
      "text/plain": [
       "[3, 6, 9, 12, 15, 18, 21, 24]"
      ]
     },
     "execution_count": 1,
     "metadata": {},
     "output_type": "execute_result"
    }
   ],
   "source": [
    "#answer\n",
    "#the key word used to create function is def \n",
    "def odd_numbers():\n",
    "    odd = []\n",
    "    for i in range(1,26):\n",
    "        if(i%3 == 0):\n",
    "            odd.append(i)\n",
    "    return odd\n",
    "odd_numbers()    "
   ]
  },
  {
   "cell_type": "markdown",
   "id": "e0c67ff5",
   "metadata": {},
   "source": [
    "Q2. Why *args and **kwargs is used in some functions? Create a function each for *args and **kwargs\n",
    "to demonstrate their use.\n"
   ]
  },
  {
   "cell_type": "code",
   "execution_count": 82,
   "id": "7b069d53",
   "metadata": {},
   "outputs": [
    {
     "data": {
      "text/plain": [
       "14"
      ]
     },
     "execution_count": 82,
     "metadata": {},
     "output_type": "execute_result"
    }
   ],
   "source": [
    "#answer\n",
    "#args keyword is used when multiple arguments are to be given in a function\n",
    "\n",
    "def sum(*args):\n",
    "    sum = 0\n",
    "    for i in args:\n",
    "        sum = sum + i\n",
    "    return sum\n",
    "\n",
    "sum(2,3,4,5)\n"
   ]
  },
  {
   "cell_type": "code",
   "execution_count": 83,
   "id": "aa449d99",
   "metadata": {},
   "outputs": [
    {
     "name": "stdout",
     "output_type": "stream",
     "text": [
      "ant 1\n",
      "tent 2\n",
      "vent 5\n"
     ]
    }
   ],
   "source": [
    "#kwrgs keyword is used when multiple arguements of key and value pairs are to be given in a function\n",
    "\n",
    "def pri(**kwargs):\n",
    "    for i,j in kwargs.items():\n",
    "        print(i,j)\n",
    "\n",
    "pri(ant=1,tent=2,vent=5)"
   ]
  },
  {
   "cell_type": "markdown",
   "id": "a984c9ac",
   "metadata": {},
   "source": [
    "Q3. What is an iterator in python? Name the method used to initialise the iterator object and the method\n",
    "used for iteration. Use these methods to print the first five elements of the given list [2, 4, 6, 8, 10, 12, 14,\n",
    "16, 18, 20]."
   ]
  },
  {
   "cell_type": "code",
   "execution_count": 3,
   "id": "0f239ed8",
   "metadata": {},
   "outputs": [
    {
     "name": "stdout",
     "output_type": "stream",
     "text": [
      "2 4 6 8 10 "
     ]
    }
   ],
   "source": [
    "#answer\n",
    "#iterator is an object that can be used to iterate over a collection of data like list, string etc\n",
    "\n",
    "given_list = [2, 4, 6, 8, 10, 12, 14, 16, 18, 20]\n",
    "\n",
    "#the method used to initialise the iterator object is called iter() it makes the object iterable\n",
    "\n",
    "iterable = iter(given_list)\n",
    "\n",
    "#the method used for iteration or getting next element is next()\n",
    "\n",
    "\n",
    "for i in range(5):\n",
    "    print(next(iterable),end=' ')\n",
    "\n",
    "    "
   ]
  },
  {
   "cell_type": "markdown",
   "id": "90b899da",
   "metadata": {},
   "source": [
    "Q4. What is a generator function in python? Why yield keyword is used? Give an example of a generator\n",
    "function."
   ]
  },
  {
   "cell_type": "code",
   "execution_count": 4,
   "id": "dc75c42f",
   "metadata": {},
   "outputs": [],
   "source": [
    "#answer\n",
    "#a generator function is a special type of function that is used to iterate over function one by one it also retains the value where it left off, unlike return that exits in one function call\n",
    "\n",
    "#keyword yield is used to return values one by one until next one is requested\n",
    "\n",
    "def cubes(n):\n",
    "    for i in range(n):\n",
    "        yield i**3\n",
    "s = cubes(5)\n",
    "\n"
   ]
  },
  {
   "cell_type": "code",
   "execution_count": 69,
   "id": "adb45886",
   "metadata": {},
   "outputs": [
    {
     "data": {
      "text/plain": [
       "27"
      ]
     },
     "execution_count": 69,
     "metadata": {},
     "output_type": "execute_result"
    }
   ],
   "source": [
    "next(s)"
   ]
  },
  {
   "cell_type": "markdown",
   "id": "00250bf4",
   "metadata": {},
   "source": [
    "Q5. Create a generator function for prime numbers less than 1000. Use the next() method to print the\n",
    "first 20 prime numbers."
   ]
  },
  {
   "cell_type": "code",
   "execution_count": 7,
   "id": "bd501fb9",
   "metadata": {},
   "outputs": [
    {
     "name": "stdout",
     "output_type": "stream",
     "text": [
      "2 3 5 7 11 13 17 19 23 29 31 37 41 43 47 53 59 61 67 71 "
     ]
    }
   ],
   "source": [
    "#answer\n",
    "\n",
    "\n",
    "#generator function for printing 20 first prime numbers for a generated function of 1000 prime numbers\n",
    "def primenumbers(n):\n",
    "    for i in range(2,n+1):\n",
    "        isprime = True\n",
    "        for j in range(2,i):  \n",
    "             \n",
    "            if(i%j == 0):\n",
    "                isprime = False\n",
    "                break\n",
    "            \n",
    "        if(isprime == True):\n",
    "            yield i\n",
    "\n",
    "                \n",
    "fornext = primenumbers(1000)\n",
    "\n",
    "#first 20 prime number\n",
    "for h in range(20):\n",
    "    print(next(fornext),end=\" \")\n",
    "                \n",
    "            \n",
    "        \n"
   ]
  },
  {
   "cell_type": "markdown",
   "id": "c235ed45",
   "metadata": {},
   "source": [
    "Q6. Write a python program to print the first 10 Fibonacci numbers using a while loop."
   ]
  },
  {
   "cell_type": "code",
   "execution_count": 116,
   "id": "b6e945a6",
   "metadata": {},
   "outputs": [
    {
     "name": "stdout",
     "output_type": "stream",
     "text": [
      "0 1 1 2 3 5 8 13 21 34 "
     ]
    }
   ],
   "source": [
    "#answer\n",
    "#for 10 fibonacci sequence\n",
    "num = 10 \n",
    "\n",
    "count = 0\n",
    "a , b = 0, 1\n",
    "\n",
    "print(a,b,end=' ')\n",
    "\n",
    "while(count < num-2):\n",
    "    n = a + b\n",
    "    a = b\n",
    "    b = n\n",
    "    count = count + 1\n",
    "    print(n,end= \" \")\n"
   ]
  },
  {
   "cell_type": "markdown",
   "id": "0e9c8872",
   "metadata": {},
   "source": [
    "Q7. Write a List Comprehension to iterate through the given string: ‘pwskills’.\n",
    "Expected output: ['p', 'w', 's', 'k', 'i', 'l', 'l', 's']"
   ]
  },
  {
   "cell_type": "code",
   "execution_count": 74,
   "id": "27158adc",
   "metadata": {},
   "outputs": [
    {
     "name": "stdout",
     "output_type": "stream",
     "text": [
      "['p', 'w', 's', 'k', 'i', 'l', 'l', 's']\n"
     ]
    }
   ],
   "source": [
    "#answer\n",
    "st = 'pwskills'\n",
    "oneliner = [i for i in st]\n",
    "print(oneliner)\n"
   ]
  },
  {
   "cell_type": "markdown",
   "id": "88066f06",
   "metadata": {},
   "source": [
    "Q8. Write a python program to check whether a given number is Palindrome or not using a while loop."
   ]
  },
  {
   "cell_type": "code",
   "execution_count": 83,
   "id": "b6f61c7b",
   "metadata": {},
   "outputs": [
    {
     "name": "stdout",
     "output_type": "stream",
     "text": [
      "enter a number: 121\n",
      "Yes it is palindrome "
     ]
    }
   ],
   "source": [
    "#answer\n",
    "num = int(input(\"enter a number: \"))\n",
    "temp = num\n",
    "rev = 0\n",
    "while(num > 0):\n",
    "    rem = num % 10\n",
    "    rev = rev * 10 + rem\n",
    "    num = num // 10\n",
    "if(temp == rev):\n",
    "    print(\"Yes it is palindrome\",end=\" \")\n",
    "else:\n",
    "    print(\"no it is not palindrome\",end=\" \")"
   ]
  },
  {
   "cell_type": "markdown",
   "id": "8841d882",
   "metadata": {},
   "source": [
    "Q9. Write a code to print odd numbers from 1 to 100 using list comprehension.\n",
    "Note: Use a list comprehension to create a list from 1 to 100 and use another List comprehension to filter\n",
    "out odd numbers.\n"
   ]
  },
  {
   "cell_type": "code",
   "execution_count": 110,
   "id": "8591839a",
   "metadata": {},
   "outputs": [
    {
     "data": {
      "text/plain": [
       "[1,\n",
       " 2,\n",
       " 3,\n",
       " 4,\n",
       " 5,\n",
       " 6,\n",
       " 7,\n",
       " 8,\n",
       " 9,\n",
       " 10,\n",
       " 11,\n",
       " 12,\n",
       " 13,\n",
       " 14,\n",
       " 15,\n",
       " 16,\n",
       " 17,\n",
       " 18,\n",
       " 19,\n",
       " 20,\n",
       " 21,\n",
       " 22,\n",
       " 23,\n",
       " 24,\n",
       " 25,\n",
       " 26,\n",
       " 27,\n",
       " 28,\n",
       " 29,\n",
       " 30,\n",
       " 31,\n",
       " 32,\n",
       " 33,\n",
       " 34,\n",
       " 35,\n",
       " 36,\n",
       " 37,\n",
       " 38,\n",
       " 39,\n",
       " 40,\n",
       " 41,\n",
       " 42,\n",
       " 43,\n",
       " 44,\n",
       " 45,\n",
       " 46,\n",
       " 47,\n",
       " 48,\n",
       " 49,\n",
       " 50,\n",
       " 51,\n",
       " 52,\n",
       " 53,\n",
       " 54,\n",
       " 55,\n",
       " 56,\n",
       " 57,\n",
       " 58,\n",
       " 59,\n",
       " 60,\n",
       " 61,\n",
       " 62,\n",
       " 63,\n",
       " 64,\n",
       " 65,\n",
       " 66,\n",
       " 67,\n",
       " 68,\n",
       " 69,\n",
       " 70,\n",
       " 71,\n",
       " 72,\n",
       " 73,\n",
       " 74,\n",
       " 75,\n",
       " 76,\n",
       " 77,\n",
       " 78,\n",
       " 79,\n",
       " 80,\n",
       " 81,\n",
       " 82,\n",
       " 83,\n",
       " 84,\n",
       " 85,\n",
       " 86,\n",
       " 87,\n",
       " 88,\n",
       " 89,\n",
       " 90,\n",
       " 91,\n",
       " 92,\n",
       " 93,\n",
       " 94,\n",
       " 95,\n",
       " 96,\n",
       " 97,\n",
       " 98,\n",
       " 99,\n",
       " 100]"
      ]
     },
     "execution_count": 110,
     "metadata": {},
     "output_type": "execute_result"
    }
   ],
   "source": [
    "#answer\n",
    "#listcomprehension to create a list from 1 to 100\n",
    "lis = [i for i in range(1,100+1)]\n",
    "lis"
   ]
  },
  {
   "cell_type": "code",
   "execution_count": 111,
   "id": "b470fec7",
   "metadata": {},
   "outputs": [
    {
     "name": "stdout",
     "output_type": "stream",
     "text": [
      "3 6 9 12 15 18 21 24 27 30 33 36 39 42 45 48 51 54 57 60 63 66 69 72 75 78 81 84 87 90 93 96 99 "
     ]
    }
   ],
   "source": [
    "#Listcomprehension to filter out odd numbers\n",
    "oddnumbers = [i for i in lis if (i%3 == 0)]\n",
    "for i in oddnumbers:\n",
    "    print(i, end=' ')"
   ]
  },
  {
   "cell_type": "code",
   "execution_count": null,
   "id": "9ca4a66b",
   "metadata": {},
   "outputs": [],
   "source": []
  }
 ],
 "metadata": {
  "kernelspec": {
   "display_name": "Python 3",
   "language": "python",
   "name": "python3"
  },
  "language_info": {
   "codemirror_mode": {
    "name": "ipython",
    "version": 3
   },
   "file_extension": ".py",
   "mimetype": "text/x-python",
   "name": "python",
   "nbconvert_exporter": "python",
   "pygments_lexer": "ipython3",
   "version": "3.11.4"
  },
  "vscode": {
   "interpreter": {
    "hash": "c261aea317cc0286b3b3261fbba9abdec21eaa57589985bb7a274bf54d6cc0a7"
   }
  }
 },
 "nbformat": 4,
 "nbformat_minor": 5
}
