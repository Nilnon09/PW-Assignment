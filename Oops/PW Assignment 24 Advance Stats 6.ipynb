{
 "cells": [
  {
   "cell_type": "markdown",
   "metadata": {},
   "source": [
    "Q1. Explain the assumptions required to use ANOVA and provide examples of violations that could impact\n",
    "the validity of the results."
   ]
  },
  {
   "cell_type": "code",
   "execution_count": 1,
   "metadata": {},
   "outputs": [],
   "source": [
    "# ANOVA assumes:\n",
    "\n",
    "# Independence of observations – Data should be collected independently.\n",
    "\n",
    "# Normality – The residuals should be approximately normally distributed.\n",
    "\n",
    "# Homogeneity of variances (homoscedasticity) – Variances across groups should be equal.\n",
    "\n",
    "# Examples of Violations:\n",
    "\n",
    "# Using the same subjects in multiple groups (violates independence).\n",
    "\n",
    "# Skewed distributions (violates normality).\n",
    "\n",
    "# Different variances across groups (violates homogeneity)."
   ]
  },
  {
   "cell_type": "markdown",
   "metadata": {},
   "source": [
    "Q2. What are the three types of ANOVA, and in what situations would each be used?"
   ]
  },
  {
   "cell_type": "code",
   "execution_count": 2,
   "metadata": {},
   "outputs": [],
   "source": [
    "# One-way ANOVA: Used when comparing means of 3+ groups based on one independent variable.\n",
    "\n",
    "# Example: Compare test scores across three teaching methods.\n",
    "\n",
    "# Two-way ANOVA: Used when comparing means with two independent variables.\n",
    "\n",
    "# Example: Test scores based on teaching method and student gender.\n",
    "\n",
    "# Repeated Measures ANOVA: Used when the same subjects are measured multiple times.\n",
    "\n",
    "# Example: Blood pressure measured before, during, and after treatment."
   ]
  },
  {
   "cell_type": "markdown",
   "metadata": {},
   "source": [
    "Q3. What is the partitioning of variance in ANOVA, and why is it important to understand this concept?"
   ]
  },
  {
   "cell_type": "code",
   "execution_count": 4,
   "metadata": {},
   "outputs": [],
   "source": [
    "# ANOVA splits total variability into:\n",
    "# SST (Total Sum of Squares): Total variation in the data.\n",
    "# SSB/SSE (Sum of Squares Between/Explained): Variation due to the model/groups.\n",
    "# SSR (Residual/Error Sum of Squares): Variation within groups.\n",
    "# It's important because it explains where the variation lies and helps determine if group means are significantly different."
   ]
  },
  {
   "cell_type": "markdown",
   "metadata": {},
   "source": [
    "Q4. How would you calculate the total sum of squares (SST), explained sum of squares (SSE), and residual\n",
    "sum of squares (SSR) in a one-way ANOVA using Python?"
   ]
  },
  {
   "cell_type": "code",
   "execution_count": 5,
   "metadata": {},
   "outputs": [
    {
     "name": "stdout",
     "output_type": "stream",
     "text": [
      "SST: 326.93333333333334, SSE (Explained): 292.1333333333334, SSR (Residual): 34.8\n"
     ]
    }
   ],
   "source": [
    "import pandas as pd\n",
    "import numpy as np\n",
    "from scipy import stats\n",
    "\n",
    "# Sample data\n",
    "data = {\n",
    "    'group': ['A']*5 + ['B']*5 + ['C']*5,\n",
    "    'score': [22, 23, 25, 20, 21, 30, 28, 27, 29, 26, 35, 33, 32, 34, 31]\n",
    "}\n",
    "df = pd.DataFrame(data)\n",
    "\n",
    "# Overall mean\n",
    "grand_mean = df['score'].mean()\n",
    "\n",
    "# SST\n",
    "sst = sum((df['score'] - grand_mean) ** 2)\n",
    "\n",
    "# Group means\n",
    "group_means = df.groupby('group')['score'].mean()\n",
    "\n",
    "# SSE (between groups)\n",
    "sse = sum(df.groupby('group').size() * (group_means - grand_mean)**2)\n",
    "\n",
    "# SSR (within groups)\n",
    "df['group_mean'] = df['group'].map(group_means)\n",
    "ssr = sum((df['score'] - df['group_mean']) ** 2)\n",
    "\n",
    "print(f\"SST: {sst}, SSE (Explained): {sse}, SSR (Residual): {ssr}\")\n"
   ]
  },
  {
   "cell_type": "markdown",
   "metadata": {},
   "source": [
    "Q5. In a two-way ANOVA, how would you calculate the main effects and interaction effects using Python?"
   ]
  },
  {
   "cell_type": "code",
   "execution_count": 7,
   "metadata": {},
   "outputs": [
    {
     "name": "stdout",
     "output_type": "stream",
     "text": [
      "                          sum_sq    df   F  PR(>F)\n",
      "C(program)                   NaN   1.0 NaN     NaN\n",
      "C(experience)                NaN   1.0 NaN     NaN\n",
      "C(program):C(experience)     NaN   1.0 NaN     NaN\n",
      "Residual                  4873.6  38.0 NaN     NaN\n"
     ]
    },
    {
     "name": "stderr",
     "output_type": "stream",
     "text": [
      "c:\\Python311\\Lib\\site-packages\\statsmodels\\base\\model.py:1894: ValueWarning: covariance of constraints does not have full rank. The number of constraints is 1, but rank is 0\n",
      "  warnings.warn('covariance of constraints does not have full '\n",
      "c:\\Python311\\Lib\\site-packages\\statsmodels\\base\\model.py:1923: RuntimeWarning: invalid value encountered in divide\n",
      "  F /= J\n",
      "c:\\Python311\\Lib\\site-packages\\statsmodels\\base\\model.py:1894: ValueWarning: covariance of constraints does not have full rank. The number of constraints is 1, but rank is 0\n",
      "  warnings.warn('covariance of constraints does not have full '\n",
      "c:\\Python311\\Lib\\site-packages\\statsmodels\\base\\model.py:1894: ValueWarning: covariance of constraints does not have full rank. The number of constraints is 1, but rank is 0\n",
      "  warnings.warn('covariance of constraints does not have full '\n"
     ]
    }
   ],
   "source": [
    "import statsmodels.api as sm\n",
    "from statsmodels.formula.api import ols\n",
    "\n",
    "# Example Data\n",
    "df = pd.DataFrame({\n",
    "    'score': np.random.randint(60, 100, size=40),\n",
    "    'program': ['A', 'B'] * 20,\n",
    "    'experience': ['novice', 'experienced'] * 20\n",
    "})\n",
    "\n",
    "model = ols('score ~ C(program) + C(experience) + C(program):C(experience)', data=df).fit()\n",
    "anova_table = sm.stats.anova_lm(model, typ=2)\n",
    "print(anova_table)\n"
   ]
  },
  {
   "cell_type": "markdown",
   "metadata": {},
   "source": [
    "Q6. Suppose you conducted a one-way ANOVA and obtained an F-statistic of 5.23 and a p-value of 0.02.\n",
    "What can you conclude about the differences between the groups, and how would you interpret these\n",
    "results?"
   ]
  },
  {
   "cell_type": "code",
   "execution_count": 8,
   "metadata": {},
   "outputs": [
    {
     "name": "stdout",
     "output_type": "stream",
     "text": [
      "                           sum_sq    df   F  PR(>F)\n",
      "C(program)                    NaN   1.0 NaN     NaN\n",
      "C(experience)                 NaN   1.0 NaN     NaN\n",
      "C(program):C(experience)      NaN   1.0 NaN     NaN\n",
      "Residual                  5385.55  38.0 NaN     NaN\n"
     ]
    },
    {
     "name": "stderr",
     "output_type": "stream",
     "text": [
      "c:\\Python311\\Lib\\site-packages\\statsmodels\\base\\model.py:1894: ValueWarning: covariance of constraints does not have full rank. The number of constraints is 1, but rank is 0\n",
      "  warnings.warn('covariance of constraints does not have full '\n",
      "c:\\Python311\\Lib\\site-packages\\statsmodels\\base\\model.py:1923: RuntimeWarning: invalid value encountered in divide\n",
      "  F /= J\n",
      "c:\\Python311\\Lib\\site-packages\\statsmodels\\base\\model.py:1894: ValueWarning: covariance of constraints does not have full rank. The number of constraints is 1, but rank is 0\n",
      "  warnings.warn('covariance of constraints does not have full '\n",
      "c:\\Python311\\Lib\\site-packages\\statsmodels\\base\\model.py:1894: ValueWarning: covariance of constraints does not have full rank. The number of constraints is 1, but rank is 0\n",
      "  warnings.warn('covariance of constraints does not have full '\n"
     ]
    }
   ],
   "source": [
    "F-statistic = 5.23, p-value = 0.02\n",
    "\n",
    "Since p < 0.05, we reject the null hypothesis.\n",
    "\n",
    "Conclusion: At least one group mean differs significantly from the others"
   ]
  },
  {
   "cell_type": "code",
   "execution_count": null,
   "metadata": {},
   "outputs": [],
   "source": []
  },
  {
   "cell_type": "markdown",
   "metadata": {},
   "source": []
  }
 ],
 "metadata": {
  "kernelspec": {
   "display_name": "Python 3",
   "language": "python",
   "name": "python3"
  },
  "language_info": {
   "codemirror_mode": {
    "name": "ipython",
    "version": 3
   },
   "file_extension": ".py",
   "mimetype": "text/x-python",
   "name": "python",
   "nbconvert_exporter": "python",
   "pygments_lexer": "ipython3",
   "version": "3.11.4"
  }
 },
 "nbformat": 4,
 "nbformat_minor": 2
}
