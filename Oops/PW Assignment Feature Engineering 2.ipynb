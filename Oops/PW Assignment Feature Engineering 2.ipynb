{
 "cells": [
  {
   "cell_type": "markdown",
   "metadata": {},
   "source": [
    "Q1. What is Min-Max scaling, and how is it used in data preprocessing? Provide an example to illustrate its\n",
    "application."
   ]
  },
  {
   "cell_type": "code",
   "execution_count": 2,
   "metadata": {},
   "outputs": [],
   "source": [
    "# Min-Max Scaling transforms features to a fixed range, typically [0, 1] or [-1, 1].\n",
    "\n",
    "# Formula:\n",
    "# xscaled = X - X_min / (X_max - X_min)\n",
    "\n",
    " \n",
    "# Use Case:\n",
    "\n",
    "# Especially helpful for algorithms sensitive to scale (e.g., KNN, SVM, Neural Networks)."
   ]
  },
  {
   "cell_type": "code",
   "execution_count": 5,
   "metadata": {},
   "outputs": [
    {
     "name": "stdout",
     "output_type": "stream",
     "text": [
      "[[0. ]\n",
      " [0.5]\n",
      " [1. ]]\n"
     ]
    }
   ],
   "source": [
    "from sklearn.preprocessing import MinMaxScaler\n",
    "import numpy as np\n",
    "\n",
    "data = np.array([[10], [15], [20]])\n",
    "scaler = MinMaxScaler()\n",
    "scaled = scaler.fit_transform(data)\n",
    "print(scaled)  # Output: [[0. ], [0.5], [1. ]]\n"
   ]
  },
  {
   "cell_type": "markdown",
   "metadata": {},
   "source": [
    "Q2. What is the Unit Vector technique in feature scaling, and how does it differ from Min-Max scaling?\n",
    "Provide an example to illustrate its application"
   ]
  },
  {
   "cell_type": "code",
   "execution_count": 9,
   "metadata": {},
   "outputs": [
    {
     "name": "stdout",
     "output_type": "stream",
     "text": [
      "[[0.74278135 0.55708601 0.37139068]]\n"
     ]
    }
   ],
   "source": [
    "# Unit Vector Scaling (Normalization) scales data such that the vector magnitude = 1 (L2 norm).\n",
    "\n",
    "# Formula (L2 Normalization):\n",
    "# xnormalized = X / ||X||\n",
    " \n",
    "# Difference:\n",
    "# Min-Max scales each feature independently.\n",
    "# Unit Vector considers all feature values in a sample (row-wise).\n",
    "\n",
    "\n",
    "#example\n",
    "from sklearn.preprocessing import Normalizer\n",
    "\n",
    "data = [[4, 3, 2]]\n",
    "normalizer = Normalizer()\n",
    "normalized = normalizer.fit_transform(data)\n",
    "print(normalized)  # Output: unit vector [0.74, 0.56, 0.37]\n"
   ]
  },
  {
   "cell_type": "markdown",
   "metadata": {},
   "source": [
    "Q3. What is PCA (Principle Component Analysis), and how is it used in dimensionality reduction? Provide an\n",
    "example to illustrate its application."
   ]
  },
  {
   "cell_type": "code",
   "execution_count": 11,
   "metadata": {},
   "outputs": [
    {
     "name": "stdout",
     "output_type": "stream",
     "text": [
      "[[-1.73205081]\n",
      " [ 0.        ]\n",
      " [ 1.73205081]]\n"
     ]
    }
   ],
   "source": [
    "# PCA (Principal Component Analysis) is a technique to reduce dimensionality by projecting data onto new axes (principal components) that capture the most variance.\n",
    "\n",
    "# Steps:\n",
    "# Standardize the data.\n",
    "# Compute covariance matrix.\n",
    "# Calculate eigenvectors/eigenvalues.\n",
    "# Select top k components.\n",
    "\n",
    "#example\n",
    "from sklearn.decomposition import PCA\n",
    "from sklearn.preprocessing import StandardScaler\n",
    "import numpy as np\n",
    "\n",
    "data = np.array([[1, 2], [3, 4], [5, 6]])\n",
    "scaler = StandardScaler()\n",
    "data_scaled = scaler.fit_transform(data)\n",
    "\n",
    "pca = PCA(n_components=1)\n",
    "reduced = pca.fit_transform(data_scaled)\n",
    "print(reduced)\n"
   ]
  },
  {
   "cell_type": "markdown",
   "metadata": {},
   "source": [
    "Q4. What is the relationship between PCA and Feature Extraction, and how can PCA be used for Feature\n",
    "Extraction? Provide an example to illustrate this concept"
   ]
  },
  {
   "cell_type": "code",
   "execution_count": 13,
   "metadata": {},
   "outputs": [],
   "source": [
    "# Feature Extraction creates new features from existing ones.\n",
    "# PCA does this by:\n",
    "# Transforming data into uncorrelated principal components.\n",
    "# Keeping components with the most variance (most information).\n",
    "# Example: In image compression, PCA can reduce pixel data to a few components while preserving structure."
   ]
  },
  {
   "cell_type": "markdown",
   "metadata": {},
   "source": [
    "Q5. You are working on a project to build a recommendation system for a food delivery service. The dataset\n",
    "contains features such as price, rating, and delivery time. Explain how you would use Min-Max scaling to\n",
    "preprocess the data."
   ]
  },
  {
   "cell_type": "code",
   "execution_count": 15,
   "metadata": {},
   "outputs": [
    {
     "name": "stdout",
     "output_type": "stream",
     "text": [
      "   price    rating  delivery_time\n",
      "0    0.0  0.571429           0.25\n",
      "1    0.5  0.000000           1.00\n",
      "2    1.0  1.000000           0.00\n"
     ]
    }
   ],
   "source": [
    "#For features like price, rating, and delivery time\n",
    "from sklearn.preprocessing import MinMaxScaler\n",
    "import pandas as pd\n",
    "\n",
    "df = pd.DataFrame({\n",
    "    'price': [100, 200, 300],\n",
    "    'rating': [4.2, 3.8, 4.5],\n",
    "    'delivery_time': [30, 45, 25]\n",
    "})\n",
    "\n",
    "scaler = MinMaxScaler()\n",
    "scaled_df = scaler.fit_transform(df)\n",
    "print(pd.DataFrame(scaled_df, columns=df.columns))\n"
   ]
  },
  {
   "cell_type": "markdown",
   "metadata": {},
   "source": [
    "Q6. You are working on a project to build a model to predict stock prices. The dataset contains many\n",
    "features, such as company financial data and market trends. Explain how you would use PCA to reduce the\n",
    "dimensionality of the dataset."
   ]
  },
  {
   "cell_type": "code",
   "execution_count": null,
   "metadata": {},
   "outputs": [],
   "source": [
    "# 1.Standardize Data\n",
    "\n",
    "# 2.Apply PCA:\n",
    "from sklearn.decomposition import PCA\n",
    "\n",
    "pca = PCA(n_components=0.95)  # Retain 95% variance\n",
    "X_pca = pca.fit_transform(X_scaled)\n",
    "# Train Model on Reduced Data\n",
    "\n",
    "# Benefits:\n",
    "# Reduces noise and multicollinearity.\n",
    "# Speeds up model training and can improve accuracy\n",
    "    "
   ]
  },
  {
   "cell_type": "code",
   "execution_count": 26,
   "metadata": {},
   "outputs": [
    {
     "name": "stdout",
     "output_type": "stream",
     "text": [
      "PCA Reduced Data:\n",
      "          0         1         2         3\n",
      "0  0.113048 -1.539566 -1.021134 -0.217330\n",
      "1 -1.946806  1.623548 -0.129380 -0.563740\n",
      "2  0.206739 -1.222536  1.041168 -0.456704\n",
      "3  2.781265  1.245504 -0.057294  0.114392\n",
      "4 -1.154246 -0.106951  0.166640  1.123381\n",
      "Explained Variance Ratio: [0.51653188 0.32253937 0.08698144 0.07394731]\n"
     ]
    }
   ],
   "source": [
    "#code \n",
    "import pandas as pd\n",
    "from sklearn.preprocessing import StandardScaler\n",
    "from sklearn.decomposition import PCA\n",
    "\n",
    "# Sample stock data\n",
    "stock_data = pd.DataFrame({\n",
    "    'PE_ratio': [15, 18, 13, 20, 17],\n",
    "    'dividend_yield': [2.5, 1.8, 2.2, 2.0, 2.3],\n",
    "    'market_cap': [200, 180, 210, 220, 190],\n",
    "    'volume': [1.2e6, 1.1e6, 1.3e6, 1.5e6, 1.25e6],\n",
    "    'price_change': [1.5, -0.5, 0.2, 2.1, -1.2]\n",
    "})\n",
    "\n",
    "# Standardize\n",
    "scaler = StandardScaler()\n",
    "scaled = scaler.fit_transform(stock_data)\n",
    "\n",
    "# Apply PCA to retain 95% of the variance\n",
    "pca = PCA(n_components=0.95)\n",
    "reduced = pca.fit_transform(scaled)\n",
    "\n",
    "print(\"PCA Reduced Data:\")\n",
    "print(pd.DataFrame(reduced))\n",
    "print(\"Explained Variance Ratio:\", pca.explained_variance_ratio_)\n"
   ]
  },
  {
   "cell_type": "markdown",
   "metadata": {},
   "source": [
    "Q7. For a dataset containing the following values: [1, 5, 10, 15, 20], perform Min-Max scaling to transform the\n",
    "values to a range of -1 to 1"
   ]
  },
  {
   "cell_type": "code",
   "execution_count": 24,
   "metadata": {},
   "outputs": [
    {
     "name": "stdout",
     "output_type": "stream",
     "text": [
      "Min-Max Scaled [-1, 1] Data:\n",
      "[-1.         -0.57894737 -0.05263158  0.47368421  1.        ]\n"
     ]
    }
   ],
   "source": [
    "import numpy as np\n",
    "from sklearn.preprocessing import MinMaxScaler\n",
    "\n",
    "# Data\n",
    "data = np.array([[1], [5], [10], [15], [20]])\n",
    "\n",
    "# Scale to [-1, 1]\n",
    "scaler = MinMaxScaler(feature_range=(-1, 1))\n",
    "scaled_data = scaler.fit_transform(data)\n",
    "\n",
    "print(\"Min-Max Scaled [-1, 1] Data:\")\n",
    "print(scaled_data.flatten())\n"
   ]
  },
  {
   "cell_type": "markdown",
   "metadata": {},
   "source": [
    "Q8. For a dataset containing the following features: [height, weight, age, gender, blood pressure], perform\n",
    "Feature Extraction using PCA. How many principal components would you choose to retain, and why?"
   ]
  },
  {
   "cell_type": "code",
   "execution_count": 21,
   "metadata": {},
   "outputs": [],
   "source": [
    "# 1.Preprocess:\n",
    "# Encode gender (categorical).\n",
    "# Standardize features.\n",
    "\n",
    "# 2.Apply PCA:\n",
    "# pca = PCA()\n",
    "# pca.fit(X)\n",
    "\n",
    "# Decide Components:\n",
    "# Use pca.explained_variance_ratio_ to plot cumulative variance.\n",
    "# Choose enough components to retain ~95% variance.\n",
    "# You might retain 3-4 components depending on redundancy and correlation.\n"
   ]
  },
  {
   "cell_type": "code",
   "execution_count": 22,
   "metadata": {},
   "outputs": [
    {
     "name": "stdout",
     "output_type": "stream",
     "text": [
      "Explained Variance Ratio: [8.21634461e-01 1.78223564e-01 1.41974763e-04 9.59081893e-34\n",
      " 2.29954039e-36]\n",
      "Number of Components to retain ~95% variance: 2\n"
     ]
    },
    {
     "data": {
      "image/png": "[encoded data removed]",
      "text/plain": [
       "<Figure size 800x400 with 1 Axes>"
      ]
     },
     "metadata": {},
     "output_type": "display_data"
    }
   ],
   "source": [
    "import pandas as pd\n",
    "from sklearn.preprocessing import StandardScaler\n",
    "from sklearn.decomposition import PCA\n",
    "import matplotlib.pyplot as plt\n",
    "import numpy as np\n",
    "\n",
    "# Sample health data\n",
    "health_data = pd.DataFrame({\n",
    "    'height': [160, 170, 180, 175, 165],\n",
    "    'weight': [60, 72, 85, 78, 66],\n",
    "    'age': [25, 35, 45, 40, 30],\n",
    "    'gender': [1, 0, 1, 1, 0],  # Male = 1, Female = 0\n",
    "    'blood_pressure': [120, 130, 140, 135, 125]\n",
    "})\n",
    "\n",
    "# Standardize\n",
    "scaler = StandardScaler()\n",
    "scaled = scaler.fit_transform(health_data)\n",
    "\n",
    "# Apply PCA\n",
    "pca = PCA()\n",
    "pca_data = pca.fit_transform(scaled)\n",
    "\n",
    "# Cumulative explained variance\n",
    "cum_var = np.cumsum(pca.explained_variance_ratio_)\n",
    "\n",
    "print(\"Explained Variance Ratio:\", pca.explained_variance_ratio_)\n",
    "\n",
    "# Choose number of components (e.g., retain 95% variance)\n",
    "components_required = np.argmax(cum_var >= 0.95) + 1\n",
    "print(\"Number of Components to retain ~95% variance:\", components_required)\n",
    "\n",
    "# Plot\n",
    "plt.figure(figsize=(8, 4))\n",
    "plt.plot(range(1, len(cum_var)+1), cum_var, marker='o')\n",
    "plt.xlabel(\"Number of Principal Components\")\n",
    "plt.ylabel(\"Cumulative Explained Variance\")\n",
    "plt.grid(True)\n",
    "plt.title(\"Explained Variance vs. Number of Components\")\n",
    "plt.show()\n"
   ]
  },
  {
   "cell_type": "markdown",
   "metadata": {},
   "source": []
  }
 ],
 "metadata": {
  "kernelspec": {
   "display_name": "Python 3",
   "language": "python",
   "name": "python3"
  },
  "language_info": {
   "codemirror_mode": {
    "name": "ipython",
    "version": 3
   },
   "file_extension": ".py",
   "mimetype": "text/x-python",
   "name": "python",
   "nbconvert_exporter": "python",
   "pygments_lexer": "ipython3",
   "version": "3.11.4"
  }
 },
 "nbformat": 4,
 "nbformat_minor": 2
}
