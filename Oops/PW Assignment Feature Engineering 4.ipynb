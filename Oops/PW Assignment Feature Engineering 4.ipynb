{
 "cells": [
  {
   "cell_type": "markdown",
   "metadata": {},
   "source": [
    "Q1. What is the difference between Ordinal Encoding and Label Encoding? Provide an example of when you\n",
    "might choose one over the other."
   ]
  },
  {
   "cell_type": "code",
   "execution_count": 1,
   "metadata": {},
   "outputs": [],
   "source": [
    "# Ordinal Encoding:\n",
    "# Assigns integer values to categories with a meaningful order.\n",
    "# Example: [\"Low\", \"Medium\", \"High\"] → [0, 1, 2]\n",
    "\n",
    "# Label Encoding:\n",
    "# Assigns integer values to categories without assuming any order.\n",
    "# Example: [\"Cat\", \"Dog\", \"Fish\"] → [0, 1, 2]\n",
    "\n",
    "# When to use:\n",
    "# Use Ordinal Encoding when the categorical variable has a clear ranking (like size or satisfaction).\n",
    "# Use Label Encoding for unordered categories only if the algorithm can handle categorical variables internally (like decision trees)."
   ]
  },
  {
   "cell_type": "markdown",
   "metadata": {},
   "source": [
    "Q2. Explain how Target Guided Ordinal Encoding works and provide an example of when you might use it in\n",
    "a machine learning project."
   ]
  },
  {
   "cell_type": "code",
   "execution_count": 2,
   "metadata": {},
   "outputs": [
    {
     "name": "stdout",
     "output_type": "stream",
     "text": [
      "  City  Churn  City_encoded\n",
      "0    A      1             2\n",
      "1    B      0             0\n",
      "2    C      1             1\n",
      "3    A      1             2\n",
      "4    C      0             1\n",
      "5    B      0             0\n"
     ]
    }
   ],
   "source": [
    "# Definition:\n",
    "\n",
    "# Assigns ordinal values to categories based on the mean of the target variable.\n",
    "import pandas as pd\n",
    "\n",
    "# Sample data\n",
    "df = pd.DataFrame({\n",
    "    'City': ['A', 'B', 'C', 'A', 'C', 'B'],\n",
    "    'Churn': [1, 0, 1, 1, 0, 0]\n",
    "})\n",
    "\n",
    "# Target guided ordinal encoding\n",
    "mean_churn = df.groupby('City')['Churn'].mean().sort_values()\n",
    "encoding = {k: i for i, k in enumerate(mean_churn.index)}\n",
    "df['City_encoded'] = df['City'].map(encoding)\n",
    "\n",
    "print(df)\n"
   ]
  },
  {
   "cell_type": "markdown",
   "metadata": {},
   "source": [
    "Q3. Define covariance and explain why it is important in statistical analysis. How is covariance calculated?"
   ]
  },
  {
   "cell_type": "code",
   "execution_count": 4,
   "metadata": {},
   "outputs": [],
   "source": [
    "# Covariance measures the direction of the linear relationship between two variables.\n",
    "\n",
    "# Positive covariance: Variables increase together.\n",
    "\n",
    "# Negative covariance: One increases, the other decreases.\n",
    "\n",
    "# Formula: Cov(x,y) = 1/n-1 * Σ[(xi - x̄)(yi - ȳ)]"
   ]
  },
  {
   "cell_type": "markdown",
   "metadata": {},
   "source": [
    "Q4. For a dataset with the following categorical variables: Color (red, green, blue), Size (small, medium,\n",
    "large), and Material (wood, metal, plastic), perform label encoding using Python's scikit-learn library.\n",
    "Show your code and explain the output"
   ]
  },
  {
   "cell_type": "code",
   "execution_count": 5,
   "metadata": {},
   "outputs": [
    {
     "name": "stdout",
     "output_type": "stream",
     "text": [
      "   Color    Size Material  Color_encoded  Size_encoded  Material_encoded\n",
      "0    red   small     wood              2             2                 2\n",
      "1  green  medium    metal              1             1                 0\n",
      "2   blue   large  plastic              0             0                 1\n",
      "3  green  medium     wood              1             1                 2\n"
     ]
    }
   ],
   "source": [
    "from sklearn.preprocessing import LabelEncoder\n",
    "import pandas as pd\n",
    "\n",
    "# Sample dataset\n",
    "df = pd.DataFrame({\n",
    "    'Color': ['red', 'green', 'blue', 'green'],\n",
    "    'Size': ['small', 'medium', 'large', 'medium'],\n",
    "    'Material': ['wood', 'metal', 'plastic', 'wood']\n",
    "})\n",
    "\n",
    "# Applying Label Encoding\n",
    "le = LabelEncoder()\n",
    "for col in df.columns:\n",
    "    df[col + '_encoded'] = le.fit_transform(df[col])\n",
    "\n",
    "print(df)\n"
   ]
  },
  {
   "cell_type": "markdown",
   "metadata": {},
   "source": [
    "Q5. Calculate the covariance matrix for the following variables in a dataset: Age, Income, and Education\n",
    "level. Interpret the results."
   ]
  },
  {
   "cell_type": "code",
   "execution_count": 7,
   "metadata": {},
   "outputs": [
    {
     "name": "stdout",
     "output_type": "stream",
     "text": [
      "                Age       Income  Education\n",
      "Age           221.3     245300.0       40.8\n",
      "Income     245300.0  278800000.0    44800.0\n",
      "Education      40.8      44800.0        8.8\n"
     ]
    }
   ],
   "source": [
    "import numpy as np\n",
    "import pandas as pd\n",
    "\n",
    "# Sample data\n",
    "data = {\n",
    "    'Age': [25, 32, 47, 51, 62],\n",
    "    'Income': [50000, 60000, 80000, 82000, 90000],\n",
    "    'Education': [12, 16, 16, 18, 20]\n",
    "}\n",
    "df = pd.DataFrame(data)\n",
    "\n",
    "# Covariance matrix\n",
    "cov_matrix = df.cov()\n",
    "print(cov_matrix)\n",
    "#Interpretation: Covariance values show how two variables vary together. Higher values = stronger linear relationship."
   ]
  },
  {
   "cell_type": "markdown",
   "metadata": {},
   "source": [
    "Q6. You are working on a machine learning project with a dataset containing several categorical\n",
    "variables, including \"Gender\" (Male/Female), \"Education Level\" (High School/Bachelor's/Master's/PhD),\n",
    "and \"Employment Status\" (Unemployed/Part-Time/Full-Time). Which encoding method would you use for\n",
    "each variable, and why?"
   ]
  },
  {
   "cell_type": "code",
   "execution_count": 8,
   "metadata": {},
   "outputs": [],
   "source": [
    "#for Variable\n",
    "#gender -> encoding method : label encoding/One Hot encoding ->reason : Only 2 values, one hot avoids assumptions\n",
    "\n",
    "#education elevel -> ordinal encoding -> reason : More than 2 values, ordinal encoding preserves the order\n",
    "\n",
    "#employment status -> One hot encoding -> reason : More than 2 values, one hot encoding avoids assumptions alsoo no clear order between categories"
   ]
  },
  {
   "cell_type": "markdown",
   "metadata": {},
   "source": [
    "Q7. You are analyzing a dataset with two continuous variables, \"Temperature\" and \"Humidity\", and two\n",
    "categorical variables, \"Weather Condition\" (Sunny/Cloudy/Rainy) and \"Wind Direction\" (North/South/\n",
    "East/West). Calculate the covariance between each pair of variables and interpret the results"
   ]
  },
  {
   "cell_type": "code",
   "execution_count": 9,
   "metadata": {},
   "outputs": [
    {
     "name": "stdout",
     "output_type": "stream",
     "text": [
      "                  Temperature  Humidity  Weather_encoded  Wind_encoded\n",
      "Temperature      6.250000e+01    118.75     1.110223e-16          1.25\n",
      "Humidity         1.187500e+02    230.00    -1.500000e+00          3.25\n",
      "Weather_encoded  1.110223e-16     -1.50     7.000000e-01          0.15\n",
      "Wind_encoded     1.250000e+00      3.25     1.500000e-01          1.30\n"
     ]
    }
   ],
   "source": [
    "# Covariance requires numerical values, so categorical variables need to be encoded first\n",
    "import pandas as pd\n",
    "\n",
    "# Sample data\n",
    "df = pd.DataFrame({\n",
    "    'Temperature': [20, 25, 30, 35, 40],\n",
    "    'Humidity': [30, 45, 50, 60, 70],\n",
    "    'Weather': ['Sunny', 'Cloudy', 'Rainy', 'Sunny', 'Rainy'],\n",
    "    'Wind': ['North', 'South', 'East', 'West', 'North']\n",
    "})\n",
    "\n",
    "# Label encoding for categories\n",
    "df['Weather_encoded'] = LabelEncoder().fit_transform(df['Weather'])\n",
    "df['Wind_encoded'] = LabelEncoder().fit_transform(df['Wind'])\n",
    "\n",
    "# Covariance matrix\n",
    "cov = df[['Temperature', 'Humidity', 'Weather_encoded', 'Wind_encoded']].cov()\n",
    "print(cov)\n"
   ]
  },
  {
   "cell_type": "code",
   "execution_count": null,
   "metadata": {},
   "outputs": [],
   "source": []
  },
  {
   "cell_type": "markdown",
   "metadata": {},
   "source": []
  }
 ],
 "metadata": {
  "kernelspec": {
   "display_name": "Python 3",
   "language": "python",
   "name": "python3"
  },
  "language_info": {
   "codemirror_mode": {
    "name": "ipython",
    "version": 3
   },
   "file_extension": ".py",
   "mimetype": "text/x-python",
   "name": "python",
   "nbconvert_exporter": "python",
   "pygments_lexer": "ipython3",
   "version": "3.11.4"
  }
 },
 "nbformat": 4,
 "nbformat_minor": 2
}
