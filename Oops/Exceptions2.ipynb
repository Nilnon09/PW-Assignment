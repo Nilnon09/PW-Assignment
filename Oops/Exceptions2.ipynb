{
 "cells": [
  {
   "cell_type": "markdown",
   "id": "9e3ac4b4",
   "metadata": {},
   "source": [
    "Q1. Explain why we have to use the Exception class while creating a Custom Exception.\n",
    "\n",
    "\n",
    "\n",
    "\n",
    "In Python, all built-in exceptions are derived from the base class Exception, which in turn inherits from the BaseException class. When you create a custom exception, you must inherit from the Exception class to ensure your custom exception behaves like a typical Python exception. This allows your custom exception to be caught using try-except blocks and to integrate properly with Python's error-handling system.\n",
    "\n",
    "Using the Exception class also gives your custom exception useful properties and behaviors, such as string representations, traceback handling, and the ability to be raised with the raise statement.\n",
    "\n"
   ]
  },
  {
   "cell_type": "markdown",
   "id": "b0819cce",
   "metadata": {},
   "source": [
    "Q2. Write a Python program to print Python Exception Hierarchy.\n",
    "\n"
   ]
  },
  {
   "cell_type": "code",
   "execution_count": 1,
   "id": "4560bfdd",
   "metadata": {},
   "outputs": [
    {
     "name": "stdout",
     "output_type": "stream",
     "text": [
      "Python Exception Hierarchy:\n",
      "BaseException\n",
      "    BaseExceptionGroup\n",
      "        ExceptionGroup\n",
      "    Exception\n",
      "        ArithmeticError\n",
      "            FloatingPointError\n",
      "            OverflowError\n",
      "            ZeroDivisionError\n",
      "                DivisionByZero\n",
      "                DivisionUndefined\n",
      "            DecimalException\n",
      "                Clamped\n",
      "                Rounded\n",
      "                    Underflow\n",
      "                    Overflow\n",
      "                Inexact\n",
      "                    Underflow\n",
      "                    Overflow\n",
      "                Subnormal\n",
      "                    Underflow\n",
      "                DivisionByZero\n",
      "                FloatOperation\n",
      "                InvalidOperation\n",
      "                    ConversionSyntax\n",
      "                    DivisionImpossible\n",
      "                    DivisionUndefined\n",
      "                    InvalidContext\n",
      "        AssertionError\n",
      "        AttributeError\n",
      "            FrozenInstanceError\n",
      "        BufferError\n",
      "        EOFError\n",
      "            IncompleteReadError\n",
      "        ImportError\n",
      "            ModuleNotFoundError\n",
      "                PackageNotFoundError\n",
      "            ZipImportError\n",
      "        LookupError\n",
      "            IndexError\n",
      "            KeyError\n",
      "                NoSuchKernel\n",
      "                UnknownBackend\n",
      "            CodecRegistryError\n",
      "        MemoryError\n",
      "        NameError\n",
      "            UnboundLocalError\n",
      "        OSError\n",
      "            BlockingIOError\n",
      "            ChildProcessError\n",
      "            ConnectionError\n",
      "                BrokenPipeError\n",
      "                ConnectionAbortedError\n",
      "                ConnectionRefusedError\n",
      "                ConnectionResetError\n",
      "                    RemoteDisconnected\n",
      "            FileExistsError\n",
      "            FileNotFoundError\n",
      "            InterruptedError\n",
      "                InterruptedSystemCall\n",
      "            IsADirectoryError\n",
      "            NotADirectoryError\n",
      "            PermissionError\n",
      "            ProcessLookupError\n",
      "            TimeoutError\n",
      "            UnsupportedOperation\n",
      "            herror\n",
      "            gaierror\n",
      "            SSLError\n",
      "                SSLCertVerificationError\n",
      "                SSLZeroReturnError\n",
      "                SSLWantWriteError\n",
      "                SSLWantReadError\n",
      "                SSLSyscallError\n",
      "                SSLEOFError\n",
      "            Error\n",
      "                SameFileError\n",
      "            SpecialFileError\n",
      "            ExecError\n",
      "            ReadError\n",
      "            URLError\n",
      "                HTTPError\n",
      "                ContentTooShortError\n",
      "            BadGzipFile\n",
      "        ReferenceError\n",
      "        RuntimeError\n",
      "            NotImplementedError\n",
      "                ZMQVersionError\n",
      "                StdinNotImplementedError\n",
      "            RecursionError\n",
      "            _DeadlockError\n",
      "            BrokenBarrierError\n",
      "            BrokenExecutor\n",
      "                BrokenThreadPool\n",
      "            SendfileNotAvailableError\n",
      "            BrokenBarrierError\n",
      "            VariableError\n",
      "        StopAsyncIteration\n",
      "        StopIteration\n",
      "        SyntaxError\n",
      "            IndentationError\n",
      "                TabError\n",
      "        SystemError\n",
      "            CodecRegistryError\n",
      "        TypeError\n",
      "            FloatOperation\n",
      "            MultipartConversionError\n",
      "        ValueError\n",
      "            UnicodeError\n",
      "                UnicodeDecodeError\n",
      "                UnicodeEncodeError\n",
      "                UnicodeTranslateError\n",
      "            UnsupportedOperation\n",
      "            AddressValueError\n",
      "            NetmaskValueError\n",
      "            JSONDecodeError\n",
      "            SSLCertVerificationError\n",
      "            Error\n",
      "            UnsupportedDigestmodError\n",
      "            IllegalMonthError\n",
      "            IllegalWeekdayError\n",
      "            ParserError\n",
      "            MessageDefect\n",
      "                NoBoundaryInMultipartDefect\n",
      "                StartBoundaryNotFoundDefect\n",
      "                CloseBoundaryNotFoundDefect\n",
      "                FirstHeaderLineIsContinuationDefect\n",
      "                MisplacedEnvelopeHeaderDefect\n",
      "                MissingHeaderBodySeparatorDefect\n",
      "                MultipartInvariantViolationDefect\n",
      "                InvalidMultipartContentTransferEncodingDefect\n",
      "                UndecodableBytesDefect\n",
      "                InvalidBase64PaddingDefect\n",
      "                InvalidBase64CharactersDefect\n",
      "                InvalidBase64LengthDefect\n",
      "                HeaderDefect\n",
      "                    InvalidHeaderDefect\n",
      "                    HeaderMissingRequiredValue\n",
      "                    NonPrintableDefect\n",
      "                    ObsoleteHeaderDefect\n",
      "                    NonASCIILocalPartDefect\n",
      "                    InvalidDateDefect\n",
      "            ClassNotFound\n",
      "            ClipboardEmpty\n",
      "            MacroToEdit\n",
      "            InvalidVersion\n",
      "        Warning\n",
      "            BytesWarning\n",
      "            DeprecationWarning\n",
      "                ProvisionalWarning\n",
      "            EncodingWarning\n",
      "            FutureWarning\n",
      "                ProvisionalCompleterWarning\n",
      "            ImportWarning\n",
      "            PendingDeprecationWarning\n",
      "            ResourceWarning\n",
      "            RuntimeWarning\n",
      "                ProactorSelectorThreadWarning\n",
      "                UnknownTimezoneWarning\n",
      "            SyntaxWarning\n",
      "            UnicodeWarning\n",
      "            UserWarning\n",
      "                GetPassWarning\n",
      "                FormatterWarning\n",
      "            DeprecatedTzFormatWarning\n",
      "        ExceptionGroup\n",
      "        _OptionError\n",
      "        _Error\n",
      "        error\n",
      "        Error\n",
      "        SubprocessError\n",
      "            CalledProcessError\n",
      "            TimeoutExpired\n",
      "        ZMQBaseError\n",
      "            ZMQError\n",
      "                ContextTerminated\n",
      "                Again\n",
      "                InterruptedSystemCall\n",
      "            ZMQBindError\n",
      "            NotDone\n",
      "        error\n",
      "        PickleError\n",
      "            PicklingError\n",
      "            UnpicklingError\n",
      "        _Stop\n",
      "        TokenError\n",
      "        StopTokenizing\n",
      "        Error\n",
      "            CancelledError\n",
      "            InvalidStateError\n",
      "        _GiveupOnSendfile\n",
      "        Incomplete\n",
      "        ClassFoundException\n",
      "        EndOfBlock\n",
      "        InvalidStateError\n",
      "        LimitOverrunError\n",
      "        QueueEmpty\n",
      "        QueueFull\n",
      "        error\n",
      "        LZMAError\n",
      "        RegistryError\n",
      "        _GiveupOnFastCopy\n",
      "        TraitError\n",
      "        Error\n",
      "        Empty\n",
      "        Full\n",
      "        ArgumentError\n",
      "        COMError\n",
      "        ReturnValueIgnoredError\n",
      "        ArgumentError\n",
      "        ArgumentTypeError\n",
      "        ConfigError\n",
      "            ConfigLoaderError\n",
      "                ArgumentError\n",
      "            ConfigFileNotFound\n",
      "        ConfigurableError\n",
      "            MultipleInstanceError\n",
      "        ApplicationError\n",
      "        InvalidPortNumber\n",
      "        NoIPAddresses\n",
      "        Error\n",
      "        BadZipFile\n",
      "        LargeZipFile\n",
      "        MessageError\n",
      "            MessageParseError\n",
      "                HeaderParseError\n",
      "                BoundaryError\n",
      "            MultipartConversionError\n",
      "            CharsetError\n",
      "        DuplicateKernelError\n",
      "        ErrorDuringImport\n",
      "        NotOneValueFound\n",
      "        KnownIssue\n",
      "        VerifierFailure\n",
      "        CannotEval\n",
      "        OptionError\n",
      "        BdbQuit\n",
      "        Restart\n",
      "        FindCmdError\n",
      "        HomeDirError\n",
      "        ProfileDirError\n",
      "        IPythonCoreError\n",
      "            TryNext\n",
      "            UsageError\n",
      "            StdinNotImplementedError\n",
      "        InputRejected\n",
      "        GetoptError\n",
      "        ErrorToken\n",
      "        PrefilterError\n",
      "        AliasError\n",
      "            InvalidAliasError\n",
      "        Error\n",
      "            InterfaceError\n",
      "            DatabaseError\n",
      "                InternalError\n",
      "                OperationalError\n",
      "                ProgrammingError\n",
      "                IntegrityError\n",
      "                DataError\n",
      "                NotSupportedError\n",
      "        Warning\n",
      "        SpaceInInput\n",
      "        DOMException\n",
      "            IndexSizeErr\n",
      "            DomstringSizeErr\n",
      "            HierarchyRequestErr\n",
      "            WrongDocumentErr\n",
      "            InvalidCharacterErr\n",
      "            NoDataAllowedErr\n",
      "            NoModificationAllowedErr\n",
      "            NotFoundErr\n",
      "            NotSupportedErr\n",
      "            InuseAttributeErr\n",
      "            InvalidStateErr\n",
      "            SyntaxErr\n",
      "            InvalidModificationErr\n",
      "            NamespaceErr\n",
      "            InvalidAccessErr\n",
      "            ValidationErr\n",
      "        ValidationError\n",
      "        EditReadOnlyBuffer\n",
      "        _Retry\n",
      "        InvalidLayoutError\n",
      "        HeightIsUnknownError\n",
      "        ExpatError\n",
      "        ParseEscape\n",
      "        GuardRejection\n",
      "        ParserSyntaxError\n",
      "        InternalParseError\n",
      "        _PositionUpdatingFinished\n",
      "        SimpleGetItemNotFound\n",
      "        UncaughtAttributeError\n",
      "        HasNoContext\n",
      "        ParamIssue\n",
      "        _JediError\n",
      "            InternalError\n",
      "            WrongVersion\n",
      "            RefactoringError\n",
      "        OnErrorLeaf\n",
      "        InvalidPythonEnvironment\n",
      "        HTTPException\n",
      "            NotConnected\n",
      "            InvalidURL\n",
      "            UnknownProtocol\n",
      "            UnknownTransferEncoding\n",
      "            UnimplementedFileMode\n",
      "            IncompleteRead\n",
      "            ImproperConnectionState\n",
      "                CannotSendRequest\n",
      "                CannotSendHeader\n",
      "                ResponseNotReady\n",
      "            BadStatusLine\n",
      "                RemoteDisconnected\n",
      "            LineTooLong\n",
      "        InteractivelyDefined\n",
      "        KillEmbedded\n",
      "        Error\n",
      "            NoSuchProcess\n",
      "                ZombieProcess\n",
      "            AccessDenied\n",
      "            TimeoutExpired\n",
      "        Error\n",
      "        TimeoutExpired\n",
      "        TimeoutAbandoned\n",
      "        KeyReuseError\n",
      "        UnknownKeyError\n",
      "        LeakedCallbackError\n",
      "        BadYieldError\n",
      "        ReturnValueIgnoredError\n",
      "        Return\n",
      "        QueueEmpty\n",
      "        QueueFull\n",
      "        DebuggerInitializationError\n",
      "        Error\n",
      "            ProtocolError\n",
      "            ResponseError\n",
      "            Fault\n",
      "        _Error\n",
      "        UnableToResolveVariableException\n",
      "        InvalidTypeInArgsException\n",
      "    GeneratorExit\n",
      "    KeyboardInterrupt\n",
      "    SystemExit\n",
      "    CancelledError\n"
     ]
    }
   ],
   "source": [
    "import inspect\n",
    "import builtins\n",
    "\n",
    "def print_exception_hierarchy(cls, indent=0):\n",
    "    if issubclass(cls, BaseException):\n",
    "        print(' ' * indent + cls.__name__)\n",
    "        for subclass in cls.__subclasses__():\n",
    "            print_exception_hierarchy(subclass, indent + 4)\n",
    "\n",
    "print(\"Python Exception Hierarchy:\")\n",
    "print_exception_hierarchy(BaseException)\n"
   ]
  },
  {
   "cell_type": "markdown",
   "id": "521cf963",
   "metadata": {},
   "source": [
    "Q3. What errors are defined in the ArithmeticError class? Explain any two with an example.\n",
    "\n",
    "\n",
    "The ArithmeticError class is a built-in Python exception that acts as a base class for all errors occurring during numeric calculations. Some common exceptions derived from ArithmeticError are:\n",
    "\n",
    "ZeroDivisionError\n",
    "\n",
    "OverflowError\n",
    "\n",
    "FloatingPointError"
   ]
  },
  {
   "cell_type": "code",
   "execution_count": 2,
   "id": "ef41ba89",
   "metadata": {},
   "outputs": [
    {
     "name": "stdout",
     "output_type": "stream",
     "text": [
      "Caught exception: division by zero\n"
     ]
    }
   ],
   "source": [
    "## example of zero division error\n",
    "\n",
    "a = 10\n",
    "b = 0\n",
    "try:\n",
    "    print(a / b)\n",
    "except ZeroDivisionError as e:\n",
    "    print(\"Caught exception:\", e)\n"
   ]
  },
  {
   "cell_type": "code",
   "execution_count": 4,
   "id": "1f897f9b",
   "metadata": {},
   "outputs": [
    {
     "name": "stdout",
     "output_type": "stream",
     "text": [
      "Caught exception: math range error\n"
     ]
    }
   ],
   "source": [
    "## over flow error\n",
    "import math\n",
    "try:\n",
    "    print(math.exp(1000))  \n",
    "except OverflowError as e:\n",
    "    print(\"Caught exception:\", e)\n"
   ]
  },
  {
   "cell_type": "markdown",
   "id": "ae364abb",
   "metadata": {},
   "source": [
    "Q4. Why LookupError class is used? Explain with an example of KeyError and IndexError.\n",
    "\n",
    "\n",
    "LookupError is a base class in Python for errors raised when a lookup on a sequence or mapping fails. It is the parent class for exceptions like IndexError and KeyError.\n",
    "\n",
    "KeyError occurs when trying to access a dictionary key that doesn’t exist.\n",
    "\n",
    "IndexError occurs when trying to access a list index that is out of range."
   ]
  },
  {
   "cell_type": "markdown",
   "id": "62a9270b",
   "metadata": {},
   "source": []
  },
  {
   "cell_type": "code",
   "execution_count": 5,
   "id": "5b8b8a14",
   "metadata": {},
   "outputs": [
    {
     "name": "stdout",
     "output_type": "stream",
     "text": [
      "Caught KeyError: 'c'\n"
     ]
    }
   ],
   "source": [
    "##key error example\n",
    "my_dict = {'a': 1, 'b': 2}\n",
    "try:\n",
    "    print(my_dict['c'])\n",
    "except KeyError as e:\n",
    "    print(\"Caught KeyError:\", e)\n"
   ]
  },
  {
   "cell_type": "code",
   "execution_count": 6,
   "id": "e9443a1b",
   "metadata": {},
   "outputs": [
    {
     "name": "stdout",
     "output_type": "stream",
     "text": [
      "Caught IndexError: list index out of range\n"
     ]
    }
   ],
   "source": [
    "##index error example\n",
    "my_list = [10, 20, 30]\n",
    "try:\n",
    "    print(my_list[5])\n",
    "except IndexError as e:\n",
    "    print(\"Caught IndexError:\", e)\n"
   ]
  },
  {
   "cell_type": "markdown",
   "id": "f6d4b790",
   "metadata": {},
   "source": [
    "Q5. Explain ImportError. What is ModuleNotFoundError?\n",
    "\n",
    "\n",
    "\n",
    "ImportError occurs when an import statement fails to find the module or cannot import a specific name from a module.\n",
    "\n",
    "ModuleNotFoundError is a subclass of ImportError introduced in Python 3.6. It is raised specifically when a module cannot be found."
   ]
  },
  {
   "cell_type": "code",
   "execution_count": 7,
   "id": "794a5d7e",
   "metadata": {},
   "outputs": [
    {
     "name": "stdout",
     "output_type": "stream",
     "text": [
      "ImportError: cannot import name 'square' from 'math' (unknown location)\n"
     ]
    }
   ],
   "source": [
    "# example of import error\n",
    "try:\n",
    "    from math import square  # 'square' is not a valid function in math\n",
    "except ImportError as e:\n",
    "    print(\"ImportError:\", e)\n"
   ]
  },
  {
   "cell_type": "code",
   "execution_count": 8,
   "id": "72d50d4e",
   "metadata": {},
   "outputs": [
    {
     "name": "stdout",
     "output_type": "stream",
     "text": [
      "ModuleNotFoundError: No module named 'non_existent_module'\n"
     ]
    }
   ],
   "source": [
    "## example of module error not found\n",
    "try:\n",
    "    import non_existent_module\n",
    "except ModuleNotFoundError as e:\n",
    "    print(\"ModuleNotFoundError:\", e)\n"
   ]
  },
  {
   "cell_type": "markdown",
   "id": "01048dc5",
   "metadata": {},
   "source": [
    "Q6. List down some best practices for exception handling in Python."
   ]
  },
  {
   "cell_type": "markdown",
   "id": "d761cfb0",
   "metadata": {},
   "source": [
    "1. Use specific exception types instead of a generic except: block."
   ]
  },
  {
   "cell_type": "code",
   "execution_count": 10,
   "id": "7331d4bc",
   "metadata": {},
   "outputs": [
    {
     "name": "stdout",
     "output_type": "stream",
     "text": [
      "ValueError: Invalid conversion from string to int\n"
     ]
    }
   ],
   "source": [
    "try:\n",
    "    number = int(\"abc\")\n",
    "except ValueError:\n",
    "    print(\"ValueError: Invalid conversion from string to int\")\n"
   ]
  },
  {
   "cell_type": "markdown",
   "id": "8b43af1b",
   "metadata": {},
   "source": [
    "Avoid this:"
   ]
  },
  {
   "cell_type": "code",
   "execution_count": 9,
   "id": "8f0e6353",
   "metadata": {},
   "outputs": [
    {
     "name": "stdout",
     "output_type": "stream",
     "text": [
      "Some error occurred\n"
     ]
    }
   ],
   "source": [
    "try:\n",
    "    number = int(\"abc\")\n",
    "except:\n",
    "    print(\"Some error occurred\")  # Too generic, masks other errors\n"
   ]
  },
  {
   "cell_type": "markdown",
   "id": "310a48b9",
   "metadata": {},
   "source": [
    "2.Avoid suppressing exceptions silently unless necessary."
   ]
  },
  {
   "cell_type": "code",
   "execution_count": 11,
   "id": "e4c33b40",
   "metadata": {},
   "outputs": [
    {
     "name": "stdout",
     "output_type": "stream",
     "text": [
      "Cannot divide by zero\n"
     ]
    }
   ],
   "source": [
    "try:\n",
    "    result = 10 / 0\n",
    "except ZeroDivisionError:\n",
    "    print(\"Cannot divide by zero\")\n"
   ]
  },
  {
   "cell_type": "markdown",
   "id": "33d2b6a7",
   "metadata": {},
   "source": [
    "Avoid this:"
   ]
  },
  {
   "cell_type": "code",
   "execution_count": 13,
   "id": "fbb48492",
   "metadata": {},
   "outputs": [],
   "source": [
    "try:\n",
    "    result = 10 / 0\n",
    "except ZeroDivisionError:\n",
    "    pass  \n"
   ]
  },
  {
   "cell_type": "markdown",
   "id": "45b1cddc",
   "metadata": {},
   "source": [
    "3. Use finally to clean up resources like files or database connections"
   ]
  },
  {
   "cell_type": "code",
   "execution_count": 14,
   "id": "d992514f",
   "metadata": {},
   "outputs": [
    {
     "name": "stdout",
     "output_type": "stream",
     "text": [
      "File closed.\n"
     ]
    }
   ],
   "source": [
    "try:\n",
    "    f = open(\"sample.txt\", \"w\")\n",
    "    f.write(\"Hello, World!\")\n",
    "except IOError as e:\n",
    "    print(\"I/O error:\", e)\n",
    "finally:\n",
    "    f.close()\n",
    "    print(\"File closed.\")\n"
   ]
  },
  {
   "cell_type": "markdown",
   "id": "26ed4eda",
   "metadata": {},
   "source": [
    "4. Log exceptions for debugging rather than printing"
   ]
  },
  {
   "cell_type": "code",
   "execution_count": 15,
   "id": "73fddf38",
   "metadata": {},
   "outputs": [
    {
     "name": "stderr",
     "output_type": "stream",
     "text": [
      "ERROR:root:An error occurred: division by zero\n"
     ]
    }
   ],
   "source": [
    "import logging\n",
    "\n",
    "logging.basicConfig(level=logging.ERROR)\n",
    "\n",
    "try:\n",
    "    a = 1 / 0\n",
    "except ZeroDivisionError as e:\n",
    "    logging.error(\"An error occurred: %s\", e)\n"
   ]
  },
  {
   "cell_type": "markdown",
   "id": "21a160a4",
   "metadata": {},
   "source": [
    "5. Avoid catching BaseException, which includes system-exiting exceptions"
   ]
  },
  {
   "cell_type": "code",
   "execution_count": 16,
   "id": "347bd328",
   "metadata": {},
   "outputs": [
    {
     "name": "stdout",
     "output_type": "stream",
     "text": [
      "Caught ValueError: Just testing\n"
     ]
    }
   ],
   "source": [
    "try:\n",
    "    raise ValueError(\"Just testing\")\n",
    "except ValueError as e:\n",
    "    print(\"Caught ValueError:\", e)\n"
   ]
  },
  {
   "cell_type": "markdown",
   "id": "53cc6346",
   "metadata": {},
   "source": [
    "Avoid this:"
   ]
  },
  {
   "cell_type": "code",
   "execution_count": 17,
   "id": "9acfb70e",
   "metadata": {},
   "outputs": [
    {
     "name": "stdout",
     "output_type": "stream",
     "text": [
      "Caught a base exception\n"
     ]
    }
   ],
   "source": [
    "try:\n",
    "    raise KeyboardInterrupt\n",
    "except BaseException:\n",
    "    print(\"Caught a base exception\")  # Dangerous: will also catch exit signals\n"
   ]
  },
  {
   "cell_type": "markdown",
   "id": "1367cba0",
   "metadata": {},
   "source": [
    "6. Raise custom exceptions for specific application-level errors"
   ]
  },
  {
   "cell_type": "code",
   "execution_count": 18,
   "id": "39697214",
   "metadata": {},
   "outputs": [
    {
     "name": "stdout",
     "output_type": "stream",
     "text": [
      "Custom Exception: Age is below 18\n"
     ]
    }
   ],
   "source": [
    "class AgeTooLowError(Exception):\n",
    "    pass\n",
    "\n",
    "def check_age(age):\n",
    "    if age < 18:\n",
    "        raise AgeTooLowError(\"Age is below 18\")\n",
    "    print(\"Age is valid\")\n",
    "\n",
    "try:\n",
    "    check_age(16)\n",
    "except AgeTooLowError as e:\n",
    "    print(\"Custom Exception:\", e)\n"
   ]
  },
  {
   "cell_type": "markdown",
   "id": "5397a047",
   "metadata": {},
   "source": [
    "7. Document the exceptions your function might raise"
   ]
  },
  {
   "cell_type": "code",
   "execution_count": 19,
   "id": "c518b0b1",
   "metadata": {},
   "outputs": [],
   "source": [
    "def divide(x, y):\n",
    "    \"\"\"\n",
    "    Divides x by y.\n",
    "    Raises:\n",
    "        ZeroDivisionError: If y is zero.\n",
    "        TypeError: If inputs are not numbers.\n",
    "    \"\"\"\n",
    "    return x / y\n"
   ]
  },
  {
   "cell_type": "markdown",
   "id": "aae2812c",
   "metadata": {},
   "source": [
    "8. Don’t use exceptions for control flow — use them only for exceptional cases"
   ]
  },
  {
   "cell_type": "code",
   "execution_count": 20,
   "id": "84985703",
   "metadata": {},
   "outputs": [],
   "source": [
    "if my_list:\n",
    "    item = my_list.pop()\n",
    "else:\n",
    "    item = None\n"
   ]
  },
  {
   "cell_type": "markdown",
   "id": "f7baf724",
   "metadata": {},
   "source": [
    "Avoid this:"
   ]
  },
  {
   "cell_type": "code",
   "execution_count": 22,
   "id": "9b8e0114",
   "metadata": {},
   "outputs": [],
   "source": [
    "\n",
    "try:\n",
    "    item = my_list.pop()\n",
    "except IndexError:\n",
    "    item = None\n"
   ]
  },
  {
   "cell_type": "code",
   "execution_count": null,
   "id": "b14c20e1",
   "metadata": {},
   "outputs": [],
   "source": []
  }
 ],
 "metadata": {
  "kernelspec": {
   "display_name": "Python 3",
   "language": "python",
   "name": "python3"
  },
  "language_info": {
   "codemirror_mode": {
    "name": "ipython",
    "version": 3
   },
   "file_extension": ".py",
   "mimetype": "text/x-python",
   "name": "python",
   "nbconvert_exporter": "python",
   "pygments_lexer": "ipython3",
   "version": "3.11.9"
  }
 },
 "nbformat": 4,
 "nbformat_minor": 5
}
