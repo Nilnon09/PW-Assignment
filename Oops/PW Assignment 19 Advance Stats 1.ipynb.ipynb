{
 "cells": [
  {
   "cell_type": "markdown",
   "metadata": {},
   "source": [
    "Q1. What is the Probability Density Function (PDF)?"
   ]
  },
  {
   "cell_type": "code",
   "execution_count": 2,
   "metadata": {},
   "outputs": [],
   "source": [
    "# A Probability Density Function (PDF) describes the likelihood of a continuous random variable taking on a specific value. \n",
    "# The area under the curve of a PDF over an interval represents the probability of the variable falling within that interval. For continuous variables, the probability of taking an exact value is zero, but probabilities are assigned over ranges."
   ]
  },
  {
   "cell_type": "markdown",
   "metadata": {},
   "source": [
    "Q2. What are the types of Probability Distribution?"
   ]
  },
  {
   "cell_type": "code",
   "execution_count": 4,
   "metadata": {},
   "outputs": [],
   "source": [
    "# There are two main types of probability distributions:\n",
    "\n",
    "# Discrete Probability Distributions\n",
    "# Examples: Binomial, Poisson, Geometric\n",
    "\n",
    "# Continuous Probability Distributions\n",
    "# Examples: Normal, Exponential, Uniform"
   ]
  },
  {
   "cell_type": "markdown",
   "metadata": {},
   "source": [
    "Q3. Python function to calculate the PDF of a normal distribution"
   ]
  },
  {
   "cell_type": "code",
   "execution_count": 5,
   "metadata": {},
   "outputs": [
    {
     "name": "stdout",
     "output_type": "stream",
     "text": [
      "0.24197072451914337\n"
     ]
    }
   ],
   "source": [
    "import math\n",
    "\n",
    "def normal_pdf(x, mean, std_dev):\n",
    "    coeff = 1 / (std_dev * math.sqrt(2 * math.pi))\n",
    "    exponent = math.exp(-((x - mean)**2) / (2 * std_dev**2))\n",
    "    return coeff * exponent\n",
    "\n",
    "# Example usage:\n",
    "print(normal_pdf(5, mean=4, std_dev=1))\n"
   ]
  },
  {
   "cell_type": "markdown",
   "metadata": {},
   "source": [
    "Q4. Properties of Binomial Distribution and Examples"
   ]
  },
  {
   "cell_type": "code",
   "execution_count": 6,
   "metadata": {},
   "outputs": [],
   "source": [
    "# Properties:\n",
    "\n",
    "# Fixed number of trials n\n",
    "# Each trial has two outcomes (success or failure)\n",
    "# Constant probability of success p\n",
    "# Independent trials\n",
    "# Mean = n * p, Variance = n * p * (1 - p)\n",
    "\n",
    "# Examples:\n",
    "# Tossing a coin 10 times and counting heads.\n",
    "# Checking how many defective items are found in a batch of 100."
   ]
  },
  {
   "cell_type": "markdown",
   "metadata": {},
   "source": [
    "Q5. Generate a random sample of size 1000 from a binomial distribution and plot a histogram"
   ]
  },
  {
   "cell_type": "code",
   "execution_count": 7,
   "metadata": {},
   "outputs": [
    {
     "data": {
      "image/png": "[encoded data removed]",
      "text/plain": [
       "<Figure size 640x480 with 1 Axes>"
      ]
     },
     "metadata": {},
     "output_type": "display_data"
    }
   ],
   "source": [
    "import numpy as np\n",
    "import matplotlib.pyplot as plt\n",
    "\n",
    "# Generate data\n",
    "data = np.random.binomial(n=10, p=0.4, size=1000)\n",
    "\n",
    "# Plot histogram\n",
    "plt.hist(data, bins=10, edgecolor='black')\n",
    "plt.title('Binomial Distribution (n=10, p=0.4)')\n",
    "plt.xlabel('Number of Successes')\n",
    "plt.ylabel('Frequency')\n",
    "plt.show()\n"
   ]
  },
  {
   "cell_type": "markdown",
   "metadata": {},
   "source": [
    "Q6. Python function to calculate the CDF of a Poisson distribution"
   ]
  },
  {
   "cell_type": "code",
   "execution_count": 8,
   "metadata": {},
   "outputs": [
    {
     "name": "stdout",
     "output_type": "stream",
     "text": [
      "0.43347012036670896\n"
     ]
    }
   ],
   "source": [
    "from scipy.stats import poisson\n",
    "\n",
    "def poisson_cdf(k, mean):\n",
    "    return poisson.cdf(k, mu=mean)\n",
    "\n",
    "# Example usage:\n",
    "print(poisson_cdf(3, mean=4))\n"
   ]
  },
  {
   "cell_type": "markdown",
   "metadata": {},
   "source": [
    "Q7. Difference between Binomial and Poisson Distribution"
   ]
  },
  {
   "cell_type": "code",
   "execution_count": 9,
   "metadata": {},
   "outputs": [],
   "source": [
    "#Binomial Distribution\n",
    "#Discrette\n",
    "#Fixed number n of trials\n",
    "#Constant p probability of success in each trial\n",
    "#example : tossing coins\n",
    "\n",
    "#Poisson Distribution\n",
    "#Discrete\n",
    "#infinite or very large n of trials\n",
    "#very small p probability of success in each trial\n",
    "#example: number of emails received in an hour"
   ]
  },
  {
   "cell_type": "markdown",
   "metadata": {},
   "source": [
    "Q8. Generate a random sample of size 1000 from a Poisson distribution and calculate mean and variance"
   ]
  },
  {
   "cell_type": "code",
   "execution_count": 10,
   "metadata": {},
   "outputs": [
    {
     "name": "stdout",
     "output_type": "stream",
     "text": [
      "Sample Mean: 5.081\n",
      "Sample Variance: 5.032439\n"
     ]
    }
   ],
   "source": [
    "data_poisson = np.random.poisson(lam=5, size=1000)\n",
    "sample_mean = np.mean(data_poisson)\n",
    "sample_variance = np.var(data_poisson)\n",
    "\n",
    "print(\"Sample Mean:\", sample_mean)\n",
    "print(\"Sample Variance:\", sample_variance)\n"
   ]
  },
  {
   "cell_type": "markdown",
   "metadata": {},
   "source": [
    "Q9. Relationship of Mean and Variance in Binomial and Poisson Distributions\n"
   ]
  },
  {
   "cell_type": "code",
   "execution_count": 11,
   "metadata": {},
   "outputs": [],
   "source": [
    "# Binomial Distribution:\n",
    "\n",
    "# Mean = n * p\n",
    "\n",
    "# Variance = n * p * (1 - p)\n",
    "\n",
    "# Poisson Distribution:\n",
    "\n",
    "# Mean = λ\n",
    "\n",
    "# Variance = λ\n",
    "\n",
    "# (So, mean and variance are equal)"
   ]
  },
  {
   "cell_type": "markdown",
   "metadata": {},
   "source": [
    "Q10. In normal distribution, where does the least frequent data appear with respect to mean position?"
   ]
  },
  {
   "cell_type": "code",
   "execution_count": 12,
   "metadata": {},
   "outputs": [],
   "source": [
    "# In a normal distribution, the least frequent data points appear in the tails — that is, far away from the mean (both on the left and right).\n",
    "# These represent extreme values with very low probability."
   ]
  },
  {
   "cell_type": "markdown",
   "metadata": {},
   "source": []
  }
 ],
 "metadata": {
  "kernelspec": {
   "display_name": "Python 3",
   "language": "python",
   "name": "python3"
  },
  "language_info": {
   "codemirror_mode": {
    "name": "ipython",
    "version": 3
   },
   "file_extension": ".py",
   "mimetype": "text/x-python",
   "name": "python",
   "nbconvert_exporter": "python",
   "pygments_lexer": "ipython3",
   "version": "3.11.4"
  }
 },
 "nbformat": 4,
 "nbformat_minor": 2
}
