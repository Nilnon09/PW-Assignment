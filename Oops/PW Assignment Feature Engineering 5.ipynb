{
 "cells": [
  {
   "cell_type": "markdown",
   "metadata": {},
   "source": [
    "Q1. Pearson correlation coefficient is a measure of the linear relationship between two variables. Suppose\n",
    "you have collected data on the amount of time students spend studying for an exam and their final exam\n",
    "scores. Calculate the Pearson correlation coefficient between these two variables and interpret the result"
   ]
  },
  {
   "cell_type": "code",
   "execution_count": 2,
   "metadata": {},
   "outputs": [
    {
     "name": "stdout",
     "output_type": "stream",
     "text": [
      "Pearson Correlation Coefficient: 1.0\n",
      "P-value: 0.0\n"
     ]
    }
   ],
   "source": [
    "import numpy as np\n",
    "from scipy.stats import pearsonr\n",
    "\n",
    "study_time = np.array([2, 3, 4, 5, 6, 7, 8])\n",
    "exam_scores = np.array([50, 55, 60, 65, 70, 75, 80])\n",
    "\n",
    "corr, p_value = pearsonr(study_time, exam_scores)\n",
    "print(\"Pearson Correlation Coefficient:\", corr)\n",
    "print(\"P-value:\", p_value)\n",
    "#Interpretation: A coefficient close to +1 indicates a strong positive linear relationship (more study time → higher scores)"
   ]
  },
  {
   "cell_type": "code",
   "execution_count": null,
   "metadata": {},
   "outputs": [],
   "source": []
  },
  {
   "cell_type": "markdown",
   "metadata": {},
   "source": [
    "Q2. Spearman's rank correlation is a measure of the monotonic relationship between two variables.\n",
    "Suppose you have collected data on the amount of sleep individuals get each night and their overall job\n",
    "satisfaction level on a scale of 1 to 10. Calculate the Spearman's rank correlation between these two\n",
    "variables and interpret the result"
   ]
  },
  {
   "cell_type": "code",
   "execution_count": 3,
   "metadata": {},
   "outputs": [
    {
     "name": "stdout",
     "output_type": "stream",
     "text": [
      "Spearman Correlation Coefficient: 0.991031208965115\n",
      "P-value: 1.4561252916128956e-05\n"
     ]
    }
   ],
   "source": [
    "from scipy.stats import spearmanr\n",
    "\n",
    "sleep_hours = np.array([6, 5, 8, 7, 4, 9, 6])\n",
    "job_satisfaction = np.array([6, 4, 9, 8, 3, 10, 7])\n",
    "\n",
    "corr, p_value = spearmanr(sleep_hours, job_satisfaction)\n",
    "print(\"Spearman Correlation Coefficient:\", corr)\n",
    "print(\"P-value:\", p_value)\n",
    "#Interpretation: A high Spearman correlation (closer to ±1) means the ranks of values increase/decrease together"
   ]
  },
  {
   "cell_type": "markdown",
   "metadata": {},
   "source": [
    "Q3. Suppose you are conducting a study to examine the relationship between the number of hours of\n",
    "exercise per week and body mass index (BMI) in a sample of adults. You collected data on both variables\n",
    "for 50 participants. Calculate the Pearson correlation coefficient and the Spearman's rank correlation\n",
    "between these two variables and compare the results"
   ]
  },
  {
   "cell_type": "code",
   "execution_count": 4,
   "metadata": {},
   "outputs": [
    {
     "name": "stdout",
     "output_type": "stream",
     "text": [
      "Pearson Correlation: PearsonRResult(statistic=-0.7685903620946289, pvalue=7.17366440149127e-11)\n",
      "Spearman Correlation: SignificanceResult(statistic=-0.8074147357981044, pvalue=1.40532564984223e-12)\n"
     ]
    }
   ],
   "source": [
    "import pandas as pd\n",
    "\n",
    "# Simulated data\n",
    "np.random.seed(0)\n",
    "exercise_hours = np.random.randint(1, 10, 50)\n",
    "bmi = 30 - exercise_hours + np.random.normal(0, 2, 50)\n",
    "\n",
    "pearson_corr = pearsonr(exercise_hours, bmi)\n",
    "spearman_corr = spearmanr(exercise_hours, bmi)\n",
    "\n",
    "print(\"Pearson Correlation:\", pearson_corr)\n",
    "print(\"Spearman Correlation:\", spearman_corr)\n",
    "#Interpretation: Pearson looks at linearity; Spearman captures monotonic trends. Results may vary depending on outliers and distribution"
   ]
  },
  {
   "cell_type": "markdown",
   "metadata": {},
   "source": [
    "Q4. A researcher is interested in examining the relationship between the number of hours individuals\n",
    "spend watching television per day and their level of physical activity. The researcher collected data on\n",
    "both variables from a sample of 50 participants. Calculate the Pearson correlation coefficient between\n",
    "these two variables"
   ]
  },
  {
   "cell_type": "code",
   "execution_count": 5,
   "metadata": {},
   "outputs": [
    {
     "name": "stdout",
     "output_type": "stream",
     "text": [
      "Pearson Correlation Coefficient: -0.9523201950567017\n"
     ]
    }
   ],
   "source": [
    "tv_hours = np.random.randint(1, 10, 50)\n",
    "physical_activity = 10 - tv_hours + np.random.normal(0, 1, 50)\n",
    "\n",
    "corr, p = pearsonr(tv_hours, physical_activity)\n",
    "print(\"Pearson Correlation Coefficient:\", corr)\n",
    "#Interpretation: Negative correlation suggests more TV = less activity."
   ]
  },
  {
   "cell_type": "markdown",
   "metadata": {},
   "source": [
    "Q5. A survey was conducted to examine the relationship between age and preference for a particular\n",
    "brand of soft drink. The survey results are shown below:\n",
    "\n",
    "\n",
    "  Age(Years) : 25,  42,  37, 19, 31, 28 \n",
    "  \n",
    "  Soft drink Preference: Coke Pepsi Mountain dew Coke Pepsi Coke\n"
   ]
  },
  {
   "cell_type": "code",
   "execution_count": 7,
   "metadata": {},
   "outputs": [
    {
     "name": "stdout",
     "output_type": "stream",
     "text": [
      "Correlation between Age and Drink preference: 0.7691751415594736\n"
     ]
    }
   ],
   "source": [
    "# This is categorical vs numerical, so we use Point Biserial correlation or ANOVA\n",
    "\n",
    "import pandas as pd\n",
    "from sklearn.preprocessing import LabelEncoder\n",
    "\n",
    "age = [25, 42, 37, 19, 31, 28]\n",
    "soft_drink = ['Coke', 'Pepsi', 'Mountain dew', 'Coke', 'Pepsi', 'Coke']\n",
    "\n",
    "df = pd.DataFrame({'Age': age, 'Drink': soft_drink})\n",
    "\n",
    "# Label encode drink preference\n",
    "encoder = LabelEncoder()\n",
    "df['Drink_encoded'] = encoder.fit_transform(df['Drink'])\n",
    "\n",
    "corr, p = pearsonr(df['Age'], df['Drink_encoded'])\n",
    "print(\"Correlation between Age and Drink preference:\", corr)\n"
   ]
  },
  {
   "cell_type": "markdown",
   "metadata": {},
   "source": [
    "Q6. A company is interested in examining the relationship between the number of sales calls made per day \n",
    "and the number of sales made per week. The company collected data on both variables from a sample of\n",
    "30 sales representatives. Calculate the Pearson correlation coefficient between these two variables"
   ]
  },
  {
   "cell_type": "code",
   "execution_count": 8,
   "metadata": {},
   "outputs": [
    {
     "name": "stdout",
     "output_type": "stream",
     "text": [
      "Pearson Correlation Coefficient: 0.8941247512388018\n"
     ]
    }
   ],
   "source": [
    "sales_calls = np.random.randint(5, 15, 30)\n",
    "sales_made = sales_calls * 2 + np.random.normal(0, 3, 30)  # Simulate a linear relation with noise\n",
    "\n",
    "corr, p = pearsonr(sales_calls, sales_made)\n",
    "print(\"Pearson Correlation Coefficient:\", corr)\n",
    "#Interpretation: A strong positive correlation implies more calls → more sales"
   ]
  },
  {
   "cell_type": "markdown",
   "metadata": {},
   "source": []
  }
 ],
 "metadata": {
  "kernelspec": {
   "display_name": "Python 3",
   "language": "python",
   "name": "python3"
  },
  "language_info": {
   "codemirror_mode": {
    "name": "ipython",
    "version": 3
   },
   "file_extension": ".py",
   "mimetype": "text/x-python",
   "name": "python",
   "nbconvert_exporter": "python",
   "pygments_lexer": "ipython3",
   "version": "3.11.4"
  }
 },
 "nbformat": 4,
 "nbformat_minor": 2
}
