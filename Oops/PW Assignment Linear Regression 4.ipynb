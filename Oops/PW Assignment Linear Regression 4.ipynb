{
 "cells": [
  {
   "cell_type": "markdown",
   "metadata": {},
   "source": [
    "Q1. What is Lasso Regression, and how does it differ from other regression techniques?"
   ]
  },
  {
   "cell_type": "code",
   "execution_count": 1,
   "metadata": {},
   "outputs": [],
   "source": [
    "# Lasso Regression (Least Absolute Shrinkage and Selection Operator) is a linear regression technique that adds an L1 regularization penalty to the loss function, encouraging sparsity in the model.\n",
    "\n",
    "# Loss Function:\n",
    "# Loss = RSS + λ * Σ|β|\n",
    "\n",
    "# Difference from other techniques:\n",
    "\n",
    "# Unlike ordinary least squares (OLS), Lasso can shrink some coefficients exactly to zero, performing automatic feature selection.\n",
    "\n",
    "# Unlike Ridge, which uses L2 regularization, Lasso uses L1."
   ]
  },
  {
   "cell_type": "markdown",
   "metadata": {},
   "source": [
    "Q2. What is the main advantage of using Lasso Regression in feature selection?"
   ]
  },
  {
   "cell_type": "code",
   "execution_count": 2,
   "metadata": {},
   "outputs": [],
   "source": [
    "# Lasso Regression can automatically eliminate irrelevant or redundant features by shrinking their coefficients to zero, making the model simpler and more interpretable.\n",
    "\n",
    "# This is especially useful when dealing with high-dimensional datasets."
   ]
  },
  {
   "cell_type": "markdown",
   "metadata": {},
   "source": [
    "Q3. How do you interpret the coefficients of a Lasso Regression model?"
   ]
  },
  {
   "cell_type": "code",
   "execution_count": 4,
   "metadata": {},
   "outputs": [],
   "source": [
    "# Non-zero coefficients indicate important predictors that influence the target variable.\n",
    "\n",
    "# Zero coefficients imply that the corresponding features are excluded from the model.\n",
    "\n",
    "# The magnitude and sign of non-zero coefficients indicate the direction and strength of the effect, but keep in mind they are shrunk due to regularization."
   ]
  },
  {
   "cell_type": "markdown",
   "metadata": {},
   "source": [
    "Q4. What are the tuning parameters that can be adjusted in Lasso Regression, and how do they affect the\n",
    "model's performance?"
   ]
  },
  {
   "cell_type": "code",
   "execution_count": 5,
   "metadata": {},
   "outputs": [],
   "source": [
    "# The main tuning parameter is lambda (λ), which controls the strength of regularization:\n",
    "\n",
    "# High λ: More coefficients shrink to zero → simpler model, higher bias, less overfitting.\n",
    "\n",
    "# Low λ: Less shrinkage → more complex model, lower bias, but risk of overfitting.\n",
    "\n",
    "# Choosing the right λ is key to balancing bias and variance."
   ]
  },
  {
   "cell_type": "markdown",
   "metadata": {},
   "source": [
    "Q5. Can Lasso Regression be used for non-linear regression problems? If yes, how?"
   ]
  },
  {
   "cell_type": "code",
   "execution_count": 6,
   "metadata": {},
   "outputs": [],
   "source": [
    "# Yes, Lasso can be adapted for non-linear regression by:\n",
    "\n",
    "# Adding polynomial features (e.g., using PolynomialFeatures in sklearn).\n",
    "\n",
    "# Transforming variables to capture non-linear relationships.\n",
    "\n",
    "# Then apply Lasso on the transformed features (this is called Polynomial Lasso Regression)."
   ]
  },
  {
   "cell_type": "markdown",
   "metadata": {},
   "source": [
    "Q6. What is the difference between Ridge Regression and Lasso Regression?"
   ]
  },
  {
   "cell_type": "code",
   "execution_count": 7,
   "metadata": {},
   "outputs": [],
   "source": [
    "# Ridge Regression uses L2 regularization (squared coefficients) → shrinks coefficients but doesn’t eliminate them.\n",
    "\n",
    "# Lasso Regression uses L1 regularization (absolute values) → can shrink some coefficients exactly to zero, performing feature selection.\n",
    "\n",
    "# Ridge is better when all features are useful; Lasso is better when many features are irrelevant."
   ]
  },
  {
   "cell_type": "markdown",
   "metadata": {},
   "source": [
    "Q7. Can Lasso Regression handle multicollinearity in the input features? If yes, how?"
   ]
  },
  {
   "cell_type": "code",
   "execution_count": 8,
   "metadata": {},
   "outputs": [],
   "source": [
    "# Yes, Lasso can handle multicollinearity by:\n",
    "\n",
    "# Shrinking some correlated feature coefficients to zero.\n",
    "\n",
    "# Selecting one variable among a group of correlated ones.\n",
    "\n",
    "# However, its selection can be unstable if features are highly correlated. In such cases, Elastic Net (combination of Ridge and Lasso) might be better."
   ]
  },
  {
   "cell_type": "markdown",
   "metadata": {},
   "source": [
    "Q8. How do you choose the optimal value of the regularization parameter (lambda) in Lasso Regression?"
   ]
  },
  {
   "cell_type": "code",
   "execution_count": 9,
   "metadata": {},
   "outputs": [],
   "source": [
    "# You can choose the best λ using:\n",
    "\n",
    "# Cross-validation (k-fold): Evaluate model performance over different λ values.\n",
    "\n",
    "# Grid search or Random search over λ values.\n",
    "\n",
    "# Automated tools: In Python, use LassoCV from sklearn, which selects λ that minimizes validation error."
   ]
  },
  {
   "cell_type": "code",
   "execution_count": null,
   "metadata": {},
   "outputs": [],
   "source": []
  },
  {
   "cell_type": "markdown",
   "metadata": {},
   "source": []
  }
 ],
 "metadata": {
  "kernelspec": {
   "display_name": "Python 3",
   "language": "python",
   "name": "python3"
  },
  "language_info": {
   "codemirror_mode": {
    "name": "ipython",
    "version": 3
   },
   "file_extension": ".py",
   "mimetype": "text/x-python",
   "name": "python",
   "nbconvert_exporter": "python",
   "pygments_lexer": "ipython3",
   "version": "3.11.4"
  }
 },
 "nbformat": 4,
 "nbformat_minor": 2
}
