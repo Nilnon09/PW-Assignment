{
 "cells": [
  {
   "cell_type": "markdown",
   "metadata": {},
   "source": [
    "Q1. What is multiprocessing in python? Why is it useful?"
   ]
  },
  {
   "cell_type": "code",
   "execution_count": 1,
   "metadata": {},
   "outputs": [],
   "source": [
    "#Multiprocessing is a technique in python that allows you to run multiple processes (not threads) in parallel using multiple CPU cores\n",
    "\n",
    "#it is useful as it:\n",
    "\n",
    "#It bypasses Python's GIL(GLobal interpreter Lock), unlike multithreading\n",
    "#Ideal for CPU-bound tasks like calculations, data processing, etc.\n",
    "#Takes full advantage of multi-core processors\n",
    "\n",
    "#module used: Multiprocessing"
   ]
  },
  {
   "cell_type": "markdown",
   "metadata": {},
   "source": [
    "Q2. What is the difference between Multithreading and MultiProcessing?"
   ]
  },
  {
   "cell_type": "code",
   "execution_count": 2,
   "metadata": {},
   "outputs": [],
   "source": [
    "#multihthreading\n",
    "#it is used for I/O bound tasks\n",
    "#it is affected by GIL(GLobal Interpreter Lock)\n",
    "#slower due to GIL\n",
    "#module used is : threading\n",
    "#shared memory\n",
    "\n",
    "#multiprocessing\n",
    "#CPU-bound tasks\n",
    "#separate memory\n",
    "#not affected by GIL\n",
    "#faster for CPU heavy operations\n",
    "#module used is : multiprocessing\n"
   ]
  },
  {
   "cell_type": "markdown",
   "metadata": {},
   "source": [
    "Q3. Write a python code to create a process using the multiprocessing module."
   ]
  },
  {
   "cell_type": "code",
   "execution_count": 3,
   "metadata": {},
   "outputs": [],
   "source": [
    "import multiprocessing\n",
    "\n",
    "def worker_function():\n",
    "    print(\"Hello from a new process! \")\n",
    "    \n",
    "if __name__ == \"__main__\":\n",
    "    p = multiprocessing.Process(target=worker_function)\n",
    "    p.start()\n",
    "    p.join()\n",
    "        "
   ]
  },
  {
   "cell_type": "markdown",
   "metadata": {},
   "source": [
    "Q4. What is a multiprocessing pool in python? Why is it used?"
   ]
  },
  {
   "cell_type": "code",
   "execution_count": null,
   "metadata": {},
   "outputs": [],
   "source": [
    "#A pool in multiprocessing is a way to manage a group of worker processess. \n",
    "#instead of creating one process at a time, you can create a pool of them \n",
    "#and map tasks across them efficiently.\n",
    "#why it is used? \n",
    "# automatically manages multiple processes.\n",
    "# improves performance for tasks like like map/filter opertaions\n",
    "# reduces code complexity for batch processing"
   ]
  },
  {
   "cell_type": "markdown",
   "metadata": {},
   "source": [
    "Q5. How can we create a pool of worker processes in python using the multiprocessing module?"
   ]
  },
  {
   "cell_type": "code",
   "execution_count": null,
   "metadata": {},
   "outputs": [],
   "source": [
    "from multiprocessing import Pool\n",
    "\n",
    "def square(n):\n",
    "    return n*n\n",
    "\n",
    "if __name__== \"__main__\":\n",
    "    with Pool(processes=4) as pool:\n",
    "        numbers = [1,2,3,4,5]\n",
    "        result = pool.map(square,numbers)\n",
    "        print(result)\n",
    "        "
   ]
  },
  {
   "cell_type": "markdown",
   "metadata": {},
   "source": [
    "Q6. Write a python program to create 4 processes, each process should print a different number using the\n",
    "multiprocessing module in python."
   ]
  },
  {
   "cell_type": "code",
   "execution_count": null,
   "metadata": {},
   "outputs": [],
   "source": [
    "import multiprocessing\n",
    "\n",
    "def print_numbers(n):\n",
    "    print(f\"process for number: {n}\")\n",
    "\n",
    "if __name__== \"__main__\":\n",
    "   numbers = [10,20,30,40]\n",
    "   processes = []\n",
    "   \n",
    "   for n in numbers:\n",
    "       p = multiprocessing.Process(target=print_numbers,args=(n,))\n",
    "       processes.append(p)\n",
    "       p.start()\n",
    "       \n",
    "   for p in processes:\n",
    "       p.join()         "
   ]
  },
  {
   "cell_type": "markdown",
   "metadata": {},
   "source": []
  }
 ],
 "metadata": {
  "kernelspec": {
   "display_name": "Python 3",
   "language": "python",
   "name": "python3"
  },
  "language_info": {
   "codemirror_mode": {
    "name": "ipython",
    "version": 3
   },
   "file_extension": ".py",
   "mimetype": "text/x-python",
   "name": "python",
   "nbconvert_exporter": "python",
   "pygments_lexer": "ipython3",
   "version": "3.11.4"
  }
 },
 "nbformat": 4,
 "nbformat_minor": 2
}
