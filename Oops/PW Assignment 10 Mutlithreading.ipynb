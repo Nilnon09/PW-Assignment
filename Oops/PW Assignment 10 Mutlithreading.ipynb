{
 "cells": [
  {
   "cell_type": "markdown",
   "metadata": {},
   "source": [
    "Q1. What is Multithreading in python? Why is it used? Name the module used to handle threads in python"
   ]
  },
  {
   "cell_type": "code",
   "execution_count": 2,
   "metadata": {},
   "outputs": [],
   "source": [
    "#Multihreading is a technique where multiple threads run concurrently \n",
    "#it is used to \n",
    "#to perform multiple tasks at the same time like (downloading and writing a file together)\n",
    "#it improves the efficiency of input output bound programs (like reading files, web requests. etc)\n",
    "\n",
    "#the module used is:\n",
    "#threading"
   ]
  },
  {
   "cell_type": "markdown",
   "metadata": {},
   "source": [
    "Q2. Why threading module is used? Write the use of the following functions:\n",
    "\n",
    "\n",
    "activeCount()\n",
    "\n",
    "\n",
    "currentThread()\n",
    "\n",
    "\n",
    "enumerate()"
   ]
  },
  {
   "cell_type": "code",
   "execution_count": 7,
   "metadata": {},
   "outputs": [
    {
     "name": "stdout",
     "output_type": "stream",
     "text": [
      "9\n",
      "MainThread\n",
      "[<_MainThread(MainThread, started 11896)>, <Thread(IOPub, started daemon 19664)>, <Heartbeat(Heartbeat, started daemon 4804)>, <Thread(Tornado selector, started daemon 19788)>, <ControlThread(Control, started daemon 10376)>, <Thread(Tornado selector, started daemon 22136)>, <HistorySavingThread(IPythonHistorySavingThread, started 14948)>, <ParentPollerWindows(Thread-4, started daemon 23060)>, <Thread(Tornado selector, started daemon 12580)>]\n"
     ]
    }
   ],
   "source": [
    "#The threading module provides tools to create and manage threads in python\n",
    "\n",
    "#activecount()\n",
    "#Returns the number of currently active threads\n",
    "#example\n",
    "import threading\n",
    "print(threading.active_count())\n",
    "\n",
    "#currentThread()\n",
    "#returns the current thread object(the one running)\n",
    "print(threading.current_thread().name)\n",
    "\n",
    "#enumerate()\n",
    "#returns a list of all currently alive threads\n",
    "print(threading.enumerate()) "
   ]
  },
  {
   "cell_type": "markdown",
   "metadata": {},
   "source": [
    " Q3. Explain the following functions:\n",
    "\n",
    " \n",
    " run()\n",
    " \n",
    " start()\n",
    "\n",
    " join()\n",
    "\n",
    " isAlive()\n",
    "\n"
   ]
  },
  {
   "cell_type": "code",
   "execution_count": 8,
   "metadata": {},
   "outputs": [],
   "source": [
    "#run()\n",
    "#defines the thread's activity (what it will do)\n",
    "#this is the function that gets executed when the thread starts\n",
    "#it's called automatically by start(), we don't need to call run() by ourselves\n",
    "\n",
    "#start()\n",
    "#starts a new thread. This calls the run() method internally in the background\n",
    "\n",
    "\n",
    "#join()\n",
    "#tells the main thread to wait for the thread to finish\n",
    "#ensures that a thread completes before continuing with the next part of the code\n",
    "\n",
    "#isAlive() \n",
    "#checks if a thread is still running(alive)\n",
    "#helpful to check the status of a thread at any time\n"
   ]
  },
  {
   "cell_type": "markdown",
   "metadata": {},
   "source": [
    "Q4. Write a python program to create two threads. \n",
    "\n",
    "Thread one must print the list of squares and thread two must print the list of cubes."
   ]
  },
  {
   "cell_type": "code",
   "execution_count": 13,
   "metadata": {},
   "outputs": [
    {
     "name": "stdout",
     "output_type": "stream",
     "text": [
      "square of 1 = 1 \n",
      "square of 2 = 4 \n",
      "square of 3 = 9 \n",
      "square of 4 = 16 \n",
      "cubes of 1 = 1\n",
      "cubes of 2 = 8\n",
      "cubes of 3 = 27\n",
      "cubes of 4 = 64\n"
     ]
    }
   ],
   "source": [
    "import threading\n",
    "\n",
    "def print_squares():\n",
    "    for i in range(1,5):\n",
    "        print(f\"square of {i} = {i * i} \")\n",
    "\n",
    "def print_cubes():\n",
    "    for i in range(1,5):\n",
    "        print(f\"cubes of {i} = {i*i*i}\")\n",
    "        \n",
    "#creating threads\n",
    "t1 = threading.Thread(target= print_squares)\n",
    "t2 = threading.Thread(target=print_cubes)   \n",
    "\n",
    "#starting threads\n",
    "t1.start()\n",
    "t2.start()            "
   ]
  },
  {
   "cell_type": "markdown",
   "metadata": {},
   "source": [
    "Q5. State advantages and disadvantages of multithreading"
   ]
  },
  {
   "cell_type": "code",
   "execution_count": 14,
   "metadata": {},
   "outputs": [],
   "source": [
    "#Advantages\n",
    "#1. Efficient use of CPU for input output bound tasks.\n",
    "#2. Multiple operations can run simultaneously \n",
    "#3. Improves responsivness especially in GUIs\n",
    "\n",
    "#disadvantages\n",
    "#1. Threads share memeory -> harder to debug\n",
    "#2. Race condition and deadlock can occur\n",
    "#3. Not suitable for CPU bound tasks\n",
    "#4. Python's Global Interpreter Lock (GIL) can limit performance in multithreaded programs."
   ]
  },
  {
   "cell_type": "markdown",
   "metadata": {},
   "source": [
    "Q6. Explain deadlocks and race conditions"
   ]
  },
  {
   "cell_type": "code",
   "execution_count": 15,
   "metadata": {},
   "outputs": [],
   "source": [
    "#Deadlock: \n",
    "#when two or more threads are waiting on each other to release a resource, and none can continue.\n",
    "#example-> thread A waits for A lock held by thread B , and thread B waits for a lock held by thread A and both get stuck\n",
    "\n",
    "#race conditions: \n",
    "#when two or more threads access shared data at the same time , and the final result depends on who runs first.\n",
    "#can cause unexpected results or bugs"
   ]
  },
  {
   "cell_type": "markdown",
   "metadata": {},
   "source": []
  },
  {
   "cell_type": "markdown",
   "metadata": {},
   "source": []
  }
 ],
 "metadata": {
  "kernelspec": {
   "display_name": "Python 3",
   "language": "python",
   "name": "python3"
  },
  "language_info": {
   "codemirror_mode": {
    "name": "ipython",
    "version": 3
   },
   "file_extension": ".py",
   "mimetype": "text/x-python",
   "name": "python",
   "nbconvert_exporter": "python",
   "pygments_lexer": "ipython3",
   "version": "3.11.4"
  }
 },
 "nbformat": 4,
 "nbformat_minor": 2
}
