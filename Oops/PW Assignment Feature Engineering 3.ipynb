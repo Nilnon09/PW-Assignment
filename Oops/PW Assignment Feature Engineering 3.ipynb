{
 "cells": [
  {
   "cell_type": "markdown",
   "metadata": {},
   "source": [
    "Q1. What is data encoding? How is it useful in data science? "
   ]
  },
  {
   "cell_type": "code",
   "execution_count": 1,
   "metadata": {},
   "outputs": [],
   "source": [
    "# Data encoding is the process of converting categorical variables into a numerical format so machine learning algorithms can process them. It's essential because most algorithms cannot work with raw categorical data directly.\n",
    "\n",
    "# Why it's useful:\n",
    "\n",
    "# ML models like logistic regression, decision trees, or SVM require numerical inputs.\n",
    "\n",
    "# Helps retain information while making it machine-readable."
   ]
  },
  {
   "cell_type": "markdown",
   "metadata": {},
   "source": [
    "Q2. What is nominal encoding? Provide an example of how you would use it in a real-world scenario.\""
   ]
  },
  {
   "cell_type": "code",
   "execution_count": 2,
   "metadata": {},
   "outputs": [
    {
     "name": "stdout",
     "output_type": "stream",
     "text": [
      "   Color  Encoded_Color\n",
      "0    Red              2\n",
      "1  Green              1\n",
      "2   Blue              0\n",
      "3    Red              2\n",
      "4   Blue              0\n"
     ]
    }
   ],
   "source": [
    "# Nominal Encoding (also called Label Encoding) assigns a unique integer to each category.\n",
    "\n",
    "# Example:\n",
    "import pandas as pd\n",
    "from sklearn.preprocessing import LabelEncoder\n",
    "\n",
    "data = pd.DataFrame({\n",
    "    'Color': ['Red', 'Green', 'Blue', 'Red', 'Blue']\n",
    "})\n",
    "\n",
    "encoder = LabelEncoder()\n",
    "data['Encoded_Color'] = encoder.fit_transform(data['Color'])\n",
    "print(data)\n"
   ]
  },
  {
   "cell_type": "markdown",
   "metadata": {},
   "source": [
    "Q3. In what situations is nominal encoding preferred over one-hot encoding? Provide a practical example"
   ]
  },
  {
   "cell_type": "code",
   "execution_count": 3,
   "metadata": {},
   "outputs": [],
   "source": [
    "# Nominal (Label) encoding is preferred when:\n",
    "\n",
    "# The number of categories is large.\n",
    "\n",
    "# The categorical feature is an identifier or has no ordinal relationship but doesn’t require separation like one-hot.\n",
    "\n",
    "# Practical Example: Encoding country codes ('USA', 'IND', 'UK', 'AUS') for identification purposes where one-hot would introduce sparsity."
   ]
  },
  {
   "cell_type": "markdown",
   "metadata": {},
   "source": [
    "Q4. Suppose you have a dataset containing categorical data with 5 unique values. Which encoding\n",
    "technique would you use to transform this data into a format suitable for machine learning algorithms?\n",
    "Explain why you made this choice."
   ]
  },
  {
   "cell_type": "code",
   "execution_count": 4,
   "metadata": {},
   "outputs": [
    {
     "name": "stdout",
     "output_type": "stream",
     "text": [
      "   City_Chennai  City_Delhi  City_Kolkata  City_Mumbai\n",
      "0         False        True         False        False\n",
      "1         False       False         False         True\n",
      "2         False       False          True        False\n",
      "3          True       False         False        False\n",
      "4         False       False         False         True\n"
     ]
    }
   ],
   "source": [
    "# Use One-Hot Encoding if the number of unique values is small and the categories don't have inherent order.\n",
    "data = pd.DataFrame({\n",
    "    'City': ['Delhi', 'Mumbai', 'Kolkata', 'Chennai', 'Mumbai']\n",
    "})\n",
    "\n",
    "encoded = pd.get_dummies(data, columns=['City'])\n",
    "print(encoded)\n"
   ]
  },
  {
   "cell_type": "markdown",
   "metadata": {},
   "source": [
    "Q5. In a machine learning project, you have a dataset with 1000 rows and 5 columns. Two of the columns\n",
    "are categorical, and the remaining three columns are numerical. If you were to use nominal encoding to\n",
    "transform the categorical data, how many new columns would be created? Show your calculations."
   ]
  },
  {
   "cell_type": "code",
   "execution_count": 6,
   "metadata": {},
   "outputs": [
    {
     "name": "stdout",
     "output_type": "stream",
     "text": [
      "   Cat1_encoded  Cat2_encoded\n",
      "0             2             2\n",
      "1             2             0\n",
      "2             2             1\n",
      "3             2             2\n",
      "4             2             0\n"
     ]
    }
   ],
   "source": [
    "# Assume:\n",
    "# Categorical Column A has 4 unique values.\n",
    "# Column B has 3 unique values.\n",
    "# Using nominal encoding, each is encoded into one column (not expanded like one-hot).\n",
    "# So, number of new columns created = 2\n",
    "\n",
    "# Simulated example\n",
    "import numpy as np\n",
    "\n",
    "df = pd.DataFrame({\n",
    "    'Category1': np.random.choice(['A', 'B', 'C', 'D'], size=1000),\n",
    "    'Category2': np.random.choice(['X', 'Y', 'Z'], size=1000),\n",
    "    'Num1': np.random.randn(1000),\n",
    "    'Num2': np.random.randn(1000),\n",
    "    'Num3': np.random.randn(1000),\n",
    "})\n",
    "\n",
    "# Apply label encoding\n",
    "le1 = LabelEncoder()\n",
    "le2 = LabelEncoder()\n",
    "df['Cat1_encoded'] = le1.fit_transform(df['Category1'])\n",
    "df['Cat2_encoded'] = le2.fit_transform(df['Category2'])\n",
    "print(df[['Cat1_encoded', 'Cat2_encoded']].head())\n"
   ]
  },
  {
   "cell_type": "markdown",
   "metadata": {},
   "source": [
    "Q6. You are working with a dataset containing information about different types of animals, including their\n",
    "species, habitat, and diet. Which encoding technique would you use to transform the categorical data into\n",
    "a format suitable for machine learning algorithms? Justify your answer"
   ]
  },
  {
   "cell_type": "code",
   "execution_count": 7,
   "metadata": {},
   "outputs": [
    {
     "name": "stdout",
     "output_type": "stream",
     "text": [
      "   Species_Bird  Species_Cat  Species_Dog  Habitat_Forest  Habitat_Rural  \\\n",
      "0         False        False         True           False          False   \n",
      "1         False         True        False           False          False   \n",
      "2          True        False        False            True          False   \n",
      "3         False        False         True           False           True   \n",
      "4         False         True        False           False          False   \n",
      "\n",
      "   Habitat_Urban  Diet_Carnivore  Diet_Herbivore  Diet_Omnivore  \n",
      "0           True            True           False          False  \n",
      "1           True            True           False          False  \n",
      "2          False           False           False           True  \n",
      "3          False           False           False           True  \n",
      "4           True           False            True          False  \n"
     ]
    }
   ],
   "source": [
    "#Use One-Hot Encoding since these are nominal categorical variables with no ordinal relationship.\n",
    "df = pd.DataFrame({\n",
    "    'Species': ['Dog', 'Cat', 'Bird', 'Dog', 'Cat'],\n",
    "    'Habitat': ['Urban', 'Urban', 'Forest', 'Rural', 'Urban'],\n",
    "    'Diet': ['Carnivore', 'Carnivore', 'Omnivore', 'Omnivore', 'Herbivore']\n",
    "})\n",
    "\n",
    "encoded_df = pd.get_dummies(df)\n",
    "print(encoded_df)\n"
   ]
  },
  {
   "cell_type": "markdown",
   "metadata": {},
   "source": [
    "Q7.You are working on a project that involves predicting customer churn for a telecommunications\n",
    "company. You have a dataset with 5 features, including the customer's gender, age, contract type,\n",
    "monthly charges, and tenure. Which encoding technique(s) would you use to transform the categorical\n",
    "data into numerical data? Provide a step-by-step explanation of how you would implement the encoding"
   ]
  },
  {
   "cell_type": "code",
   "execution_count": 10,
   "metadata": {},
   "outputs": [
    {
     "name": "stdout",
     "output_type": "stream",
     "text": [
      "Encoded Dataset for ML:\n",
      "   Gender  Age  MonthlyCharges  Tenure  Contract_Month-to-month  \\\n",
      "0       1   30              70      12                     True   \n",
      "1       0   45              60      24                    False   \n",
      "2       0   22              75       5                     True   \n",
      "3       1   35              80      36                    False   \n",
      "4       1   60              55      20                    False   \n",
      "\n",
      "   Contract_One year  Contract_Two year  \n",
      "0              False              False  \n",
      "1               True              False  \n",
      "2              False              False  \n",
      "3              False               True  \n",
      "4               True              False  \n"
     ]
    }
   ],
   "source": [
    "# Features: gender (cat), age (num), contract type (cat), monthly charges (num), tenure (num)\n",
    "\n",
    "# Step-by-step:\n",
    "\n",
    "# 1.Apply label encoding to gender (binary).\n",
    "# 2.Apply one-hot encoding to contract type (multi-class).\n",
    "# 3.Leave numerical columns as-is.\n",
    "\n",
    "df = pd.DataFrame({\n",
    "    'Gender': ['Male', 'Female', 'Female', 'Male', 'Male'],\n",
    "    'Age': [30, 45, 22, 35, 60],\n",
    "    'Contract': ['Month-to-month', 'One year', 'Month-to-month', 'Two year', 'One year'],\n",
    "    'MonthlyCharges': [70, 60, 75, 80, 55],\n",
    "    'Tenure': [12, 24, 5, 36, 20]\n",
    "})\n",
    "\n",
    "# Encode Gender\n",
    "df['Gender'] = LabelEncoder().fit_transform(df['Gender'])\n",
    "\n",
    "# One-Hot Encode Contract\n",
    "df = pd.get_dummies(df, columns=['Contract'])\n",
    "\n",
    "print(\"Encoded Dataset for ML:\")\n",
    "print(df)\n"
   ]
  },
  {
   "cell_type": "markdown",
   "metadata": {},
   "source": []
  },
  {
   "cell_type": "markdown",
   "metadata": {},
   "source": []
  }
 ],
 "metadata": {
  "kernelspec": {
   "display_name": "Python 3",
   "language": "python",
   "name": "python3"
  },
  "language_info": {
   "codemirror_mode": {
    "name": "ipython",
    "version": 3
   },
   "file_extension": ".py",
   "mimetype": "text/x-python",
   "name": "python",
   "nbconvert_exporter": "python",
   "pygments_lexer": "ipython3",
   "version": "3.11.4"
  }
 },
 "nbformat": 4,
 "nbformat_minor": 2
}
